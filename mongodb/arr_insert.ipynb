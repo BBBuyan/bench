{
 "cells": [
  {
   "cell_type": "code",
   "execution_count": 1,
   "id": "15acc075-30e4-49a9-bbff-31308972db56",
   "metadata": {},
   "outputs": [],
   "source": [
    "import pymongo\n",
    "import time\n",
    "import threading\n",
    "import random\n",
    "from pymongo.collection import Collection"
   ]
  },
  {
   "cell_type": "code",
   "execution_count": 2,
   "id": "98c925c3-d813-44f3-9e0d-c5a001f265cb",
   "metadata": {},
   "outputs": [],
   "source": [
    "cl = pymongo.MongoClient(\"mongodb://localhost:27017\")\n",
    "db = cl[\"deep\"]\n",
    "arr1 = db[\"arr1\"]\n",
    "arr2 = db[\"arr2\"]\n",
    "arr4 = db[\"arr4\"]\n",
    "arr8 = db[\"arr8\"]\n",
    "coll_list = [arr1, arr2, arr4, arr8]"
   ]
  },
  {
   "cell_type": "code",
   "execution_count": 3,
   "id": "ac42e6c3-558b-41d4-9dc0-be736c90a492",
   "metadata": {},
   "outputs": [],
   "source": [
    "user_list = [1, 2, 4]\n",
    "depth_list = [1, 2, 4, 8]"
   ]
  },
  {
   "cell_type": "code",
   "execution_count": 104,
   "id": "69b4fa0f-31cc-4b8a-b54d-503593267007",
   "metadata": {},
   "outputs": [],
   "source": [
    "new_docs_size = 500"
   ]
  },
  {
   "cell_type": "code",
   "execution_count": 4,
   "id": "c821f643-4790-4c77-a1e2-b93121302b5a",
   "metadata": {},
   "outputs": [],
   "source": [
    "def create_batch(size: int, coll: Collection):\n",
    "    new_objs = list(coll.find({}, {\"_id\": 0}).limit(size))\n",
    "    for el in new_objs:\n",
    "        el[\"inserted\"] = True\n",
    "    return new_objs"
   ]
  },
  {
   "cell_type": "code",
   "execution_count": 85,
   "id": "c989bbbc-9499-40d0-93ae-6f91bd589860",
   "metadata": {},
   "outputs": [],
   "source": [
    "def measure_insert(user_id, duration_list, coll):\n",
    "    duration = 0\n",
    "    tries = 5\n",
    "    for t in range(tries):\n",
    "        batch = create_batch(new_docs_size, coll)\n",
    "        start = time.perf_counter()\n",
    "        coll.insert_many(batch)\n",
    "        end = time.perf_counter()\n",
    "        duration += (end-start)\n",
    "    \n",
    "    duration = (duration / tries) * 1000\n",
    "    duration_list[user_id] = duration        "
   ]
  },
  {
   "cell_type": "code",
   "execution_count": 29,
   "id": "1023c305-ff94-40fc-ac21-d6e2e75f5b25",
   "metadata": {},
   "outputs": [],
   "source": [
    "def test_insert(num_of_users, depth):\n",
    "    threads_list = []\n",
    "    duration_list = [None] * num_of_users\n",
    "    coll = coll_list[depth]\n",
    "\n",
    "    for x in range(num_of_users):\n",
    "        t = threading.Thread(target=measure_insert, args=(x, duration_list, coll))\n",
    "        t.start()\n",
    "        threads_list.append(t)\n",
    "\n",
    "    for t in threads_list:\n",
    "        t.join()\n",
    "\n",
    "    result = sum(duration_list)/len(duration_list)\n",
    "    return result"
   ]
  },
  {
   "cell_type": "code",
   "execution_count": 80,
   "id": "c21b9a23-c721-415e-9d3b-de77acd11782",
   "metadata": {},
   "outputs": [],
   "source": [
    "def execute_insert():\n",
    "    u_len = len(user_list)\n",
    "    d_len = len(depth_list)\n",
    "    result = [[0 for _ in range(d_len)] for _ in range(u_len)]\n",
    "\n",
    "    for u in range(u_len):\n",
    "        print(f\"user {user_list[u]}\")\n",
    "        print(\"depth: \", end=\"\")\n",
    "        for d in range(d_len):\n",
    "            result[u][d] = test_insert(user_list[u], d)\n",
    "            print(f\"{depth_list[d]}\", end=\" \")\n",
    "        print(\"---\")            \n",
    "    return result"
   ]
  },
  {
   "cell_type": "code",
   "execution_count": 36,
   "id": "e3cef62b-3e7b-49f8-b4da-0f45d17ef797",
   "metadata": {},
   "outputs": [],
   "source": [
    "def calculate_diffs(old, new):\n",
    "    for u in range(len(user_list)):\n",
    "        print(f\"user {user_list[u]}\")\n",
    "        for d in range(len(depth_list)):\n",
    "            o_val = old[u][d]\n",
    "            n_val = new[u][d]\n",
    "            diff = ((n_val - o_val) / o_val) * 100\n",
    "            print(f\"| {depth_list[d]} |{o_val:10.0f}| {n_val:10.0f}| {diff:10.1f} |\")\n",
    "        print(\"--------\")"
   ]
  },
  {
   "cell_type": "code",
   "execution_count": 37,
   "id": "c27c7153-5711-4db2-887c-4b120b5365bd",
   "metadata": {},
   "outputs": [],
   "source": [
    "def calc_diff_precise(old, new):\n",
    "    for u in range(len(user_list)):\n",
    "        print(f\"user {user_list[u]}\")\n",
    "        for d in range(len(depth_list)):\n",
    "            o_val = old[u][d]\n",
    "            n_val = new[u][d]\n",
    "            diff = ((n_val - o_val) / o_val) * 100\n",
    "            print(f\"depth: {depth_list[d]}, {o_val:10.2f} {n_val:10.2f} {diff:10.2f}\")\n",
    "        print(\"--------\")"
   ]
  },
  {
   "cell_type": "code",
   "execution_count": 21,
   "id": "8fa95f34-e91a-4645-981a-092883a7d6ad",
   "metadata": {},
   "outputs": [],
   "source": [
    "def createIndexes():\n",
    "    coll_list[0].create_index([(\"a1.device\", 1)])\n",
    "    coll_list[1].create_index([(\"a1.a2.device\", 1)])\n",
    "    coll_list[2].create_index([(\"a1.a2.a3.a4.device\", 1)])\n",
    "    coll_list[3].create_index([(\"a1.a2.a3.a4.a5.a6.a7.a8.device\", 1)])"
   ]
  },
  {
   "cell_type": "code",
   "execution_count": 22,
   "id": "af63bb03-0430-4658-be5f-a48c7b8526fe",
   "metadata": {},
   "outputs": [],
   "source": [
    "def clearIndexes():\n",
    "    for i in coll_list:\n",
    "        i.drop_indexes()"
   ]
  },
  {
   "cell_type": "code",
   "execution_count": 23,
   "id": "a3d6e98e-d34f-424d-883a-580eb0c58035",
   "metadata": {},
   "outputs": [],
   "source": [
    "def showIndexes():\n",
    "    for i in arr1.list_indexes():\n",
    "        print(i)\n",
    "    for a in arr2.list_indexes():\n",
    "        print(a)\n",
    "    for b in arr4.list_indexes():\n",
    "        print(b)\n",
    "    for c in arr8.list_indexes():\n",
    "        print(c)"
   ]
  },
  {
   "cell_type": "code",
   "execution_count": 57,
   "id": "4f83f4e1-7502-434f-8b15-b9060ea03152",
   "metadata": {},
   "outputs": [],
   "source": [
    "def clean_up():\n",
    "    for c in coll_list:\n",
    "        print(c.delete_many({\"inserted\": True}))"
   ]
  },
  {
   "cell_type": "code",
   "execution_count": 87,
   "id": "ad7c2803-306c-4bd1-90a8-2f42bbceb12d",
   "metadata": {},
   "outputs": [],
   "source": [
    "def count_inserted():\n",
    "    for c in coll_list:\n",
    "        print(c.count_documents({\"inserted\": True}))"
   ]
  },
  {
   "cell_type": "code",
   "execution_count": 91,
   "id": "3452d997-6e6b-413b-90e0-4cd6f103cef4",
   "metadata": {},
   "outputs": [
    {
     "name": "stdout",
     "output_type": "stream",
     "text": [
      "SON([('v', 2), ('key', SON([('_id', 1)])), ('name', '_id_')])\n",
      "SON([('v', 2), ('key', SON([('_id', 1)])), ('name', '_id_')])\n",
      "SON([('v', 2), ('key', SON([('_id', 1)])), ('name', '_id_')])\n",
      "SON([('v', 2), ('key', SON([('_id', 1)])), ('name', '_id_')])\n"
     ]
    }
   ],
   "source": [
    "showIndexes()"
   ]
  },
  {
   "cell_type": "code",
   "execution_count": 74,
   "id": "aa44ed97-672a-47d1-9b7d-318dd255b00d",
   "metadata": {},
   "outputs": [],
   "source": [
    "clearIndexes()"
   ]
  },
  {
   "cell_type": "code",
   "execution_count": 92,
   "id": "c6e2808d-137f-4d74-8947-4a7aa87abf96",
   "metadata": {},
   "outputs": [
    {
     "name": "stdout",
     "output_type": "stream",
     "text": [
      "user 1\n",
      "depth: 1 2 4 8 ---\n",
      "user 2\n",
      "depth: 1 2 4 8 ---\n",
      "user 4\n",
      "depth: 1 2 4 8 ---\n"
     ]
    }
   ],
   "source": [
    "without_index = execute_insert()"
   ]
  },
  {
   "cell_type": "code",
   "execution_count": 96,
   "id": "0072c78e-78bb-4f06-8de8-d1bf2ddf2aad",
   "metadata": {},
   "outputs": [
    {
     "name": "stdout",
     "output_type": "stream",
     "text": [
      "DeleteResult({'n': 0, 'ok': 1.0}, acknowledged=True)\n",
      "DeleteResult({'n': 0, 'ok': 1.0}, acknowledged=True)\n",
      "DeleteResult({'n': 0, 'ok': 1.0}, acknowledged=True)\n",
      "DeleteResult({'n': 0, 'ok': 1.0}, acknowledged=True)\n"
     ]
    }
   ],
   "source": [
    "clean_up()"
   ]
  },
  {
   "cell_type": "code",
   "execution_count": 95,
   "id": "c35f9a38-4642-4699-a272-b0113513cc1a",
   "metadata": {},
   "outputs": [],
   "source": [
    "createIndexes()"
   ]
  },
  {
   "cell_type": "code",
   "execution_count": 97,
   "id": "1f800393-f590-4d60-98ce-13d269928b6d",
   "metadata": {},
   "outputs": [
    {
     "name": "stdout",
     "output_type": "stream",
     "text": [
      "user 1\n",
      "depth: 1 2 4 8 ---\n",
      "user 2\n",
      "depth: 1 2 4 8 ---\n",
      "user 4\n",
      "depth: 1 2 4 8 ---\n"
     ]
    }
   ],
   "source": [
    "with_index = execute_insert()"
   ]
  },
  {
   "cell_type": "code",
   "execution_count": 98,
   "id": "dff75608-1f42-447a-9844-8a62a8124874",
   "metadata": {},
   "outputs": [
    {
     "name": "stdout",
     "output_type": "stream",
     "text": [
      "user 1\n",
      "| 1 |         8|         13|       65.5 |\n",
      "| 2 |         8|         19|      137.3 |\n",
      "| 4 |        15|         45|      198.1 |\n",
      "| 8 |       143|        662|      362.2 |\n",
      "--------\n",
      "user 2\n",
      "| 1 |        10|         17|       70.9 |\n",
      "| 2 |        12|         21|       75.4 |\n",
      "| 4 |        36|         80|      125.3 |\n",
      "| 8 |       576|       1213|      110.6 |\n",
      "--------\n",
      "user 4\n",
      "| 1 |        12|         17|       42.1 |\n",
      "| 2 |        16|         33|      106.7 |\n",
      "| 4 |        71|        117|       63.9 |\n",
      "| 8 |      1822|       2718|       49.2 |\n",
      "--------\n"
     ]
    }
   ],
   "source": [
    "calculate_diffs(without_index, with_index)"
   ]
  },
  {
   "cell_type": "code",
   "execution_count": 100,
   "id": "030d461b-0d0c-44ad-801c-3534dded4869",
   "metadata": {},
   "outputs": [],
   "source": [
    "clearIndexes()"
   ]
  }
 ],
 "metadata": {
  "kernelspec": {
   "display_name": "Python 3 (ipykernel)",
   "language": "python",
   "name": "python3"
  },
  "language_info": {
   "codemirror_mode": {
    "name": "ipython",
    "version": 3
   },
   "file_extension": ".py",
   "mimetype": "text/x-python",
   "name": "python",
   "nbconvert_exporter": "python",
   "pygments_lexer": "ipython3",
   "version": "3.11.2"
  }
 },
 "nbformat": 4,
 "nbformat_minor": 5
}
