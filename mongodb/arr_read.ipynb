{
 "cells": [
  {
   "cell_type": "code",
   "execution_count": 1,
   "id": "b9f24ebb-0afe-467e-a403-5fcfd1357242",
   "metadata": {},
   "outputs": [],
   "source": [
    "import pymongo\n",
    "import time\n",
    "import threading\n",
    "import random"
   ]
  },
  {
   "cell_type": "code",
   "execution_count": 2,
   "id": "1ce04402-3c98-42d8-8ffd-6bcd72bef503",
   "metadata": {},
   "outputs": [],
   "source": [
    "cl = pymongo.MongoClient(\"mongodb://localhost:27017\")\n",
    "db = cl[\"deep\"]\n",
    "arr1 = db[\"arr1\"]\n",
    "arr2 = db[\"arr2\"]\n",
    "arr4 = db[\"arr4\"]\n",
    "arr8 = db[\"arr8\"]\n",
    "coll_list = [arr1, arr2, arr4, arr8]"
   ]
  },
  {
   "cell_type": "code",
   "execution_count": 4,
   "id": "847d525d-8113-4a94-97ae-1d0b62c63119",
   "metadata": {},
   "outputs": [],
   "source": [
    "user_list = [1, 2, 4]\n",
    "depth_list = [1, 2, 4, 8]"
   ]
  },
  {
   "cell_type": "code",
   "execution_count": 98,
   "id": "106ba010-bbca-4be9-98e3-363ec4c784d4",
   "metadata": {},
   "outputs": [],
   "source": [
    "select_1 = {\"a1.device\": {\"$gte\": 9480}}\n",
    "select_2 = {\"a1.a2.device\": {\"$gte\": 9740}}\n",
    "select_4 = {\"a1.a2.a3.a4.device\": {\"$gte\": 9930}}\n",
    "select_8 = {\"a1.a2.a3.a4.a5.a6.a7.a8.device\": {\"$gte\": 9995}}\n",
    "select_list = [select_1, select_2, select_4, select_8]"
   ]
  },
  {
   "cell_type": "code",
   "execution_count": 99,
   "id": "b02d66c3-7ba7-429d-9ab6-e16927176bfd",
   "metadata": {},
   "outputs": [
    {
     "name": "stdout",
     "output_type": "stream",
     "text": [
      "1047\n",
      "1022\n",
      "1033\n",
      "1167\n"
     ]
    }
   ],
   "source": [
    "for d in range(len(depth_list)):\n",
    "    print(coll_list[d].count_documents(select_list[d]))"
   ]
  },
  {
   "cell_type": "code",
   "execution_count": 6,
   "id": "b2f68933-ed88-46c2-b131-d68950b919c3",
   "metadata": {},
   "outputs": [],
   "source": [
    "def measure_read(user_id, duration_list, coll, whereClause):\n",
    "    duration = 0\n",
    "    num_of_tries = 1\n",
    "    for i in range(num_of_tries):\n",
    "        start = time.perf_counter()\n",
    "        result = list(coll.find(whereClause))\n",
    "        end = time.perf_counter()\n",
    "        duration += end-start\n",
    "    duration = (duration / num_of_tries) * 1000\n",
    "    duration_list[user_id] = duration        "
   ]
  },
  {
   "cell_type": "code",
   "execution_count": 7,
   "id": "97b180e8-5276-45d9-88ad-f2fa13484d0c",
   "metadata": {},
   "outputs": [],
   "source": [
    "def test_read(num_of_users, depth):\n",
    "    threads_list = []\n",
    "    duration_list = [None] * num_of_users\n",
    "    whereClause = select_list[depth]\n",
    "    coll = coll_list[depth]\n",
    "\n",
    "    for x in range(num_of_users):\n",
    "        t = threading.Thread(target=measure_read, args=(x, duration_list, coll, whereClause,))\n",
    "        t.start()\n",
    "        threads_list.append(t)\n",
    "\n",
    "    for t in threads_list:\n",
    "        t.join()\n",
    "\n",
    "    result = sum(duration_list)/ len(duration_list)\n",
    "    return result"
   ]
  },
  {
   "cell_type": "code",
   "execution_count": 23,
   "id": "1f4b35a2-5fbc-4ca7-8f2c-f63034b6fbd0",
   "metadata": {},
   "outputs": [],
   "source": [
    "def execute_read():\n",
    "    u_len = len(user_list)\n",
    "    d_len = len(depth_list)\n",
    "    result = [[0 for _ in range(d_len)] for _ in range(u_len)]\n",
    "\n",
    "    for u in range(u_len):\n",
    "        print(f\"user: {user_list[u]}\")\n",
    "        print(\"depth: \", end=\" \")\n",
    "        for d in range(d_len):\n",
    "            result[u][d] = test_read(user_list[u], d)\n",
    "            print(f\"{depth_list[d]}\", end=\" \")\n",
    "        print(\"---\")\n",
    "    return result"
   ]
  },
  {
   "cell_type": "code",
   "execution_count": 119,
   "id": "30ad6eff-c15f-4e2d-b2de-67004ab072e0",
   "metadata": {},
   "outputs": [],
   "source": [
    "def calculate_diffs(old, new):\n",
    "    for u in range(len(user_list)):\n",
    "        print(f\"user {user_list[u]}\")\n",
    "        for d in range(len(depth_list)):\n",
    "            o_val = old[u][d]\n",
    "            n_val = new[u][d]\n",
    "            diff = ((n_val - o_val) / o_val) * 100\n",
    "            print(f\"| {depth_list[d]} |{o_val:10.0f}| {n_val:10.0f}| {diff:10.1f} |\")\n",
    "        print(\"--------\")"
   ]
  },
  {
   "cell_type": "code",
   "execution_count": 11,
   "id": "7e52ce65-168e-4994-a9ea-3eb177f9dbed",
   "metadata": {
    "jupyter": {
     "source_hidden": true
    }
   },
   "outputs": [],
   "source": [
    "def createIndexes():\n",
    "    coll_list[0].create_index([(\"a1.device\", 1)])\n",
    "    coll_list[1].create_index([(\"a1.a2.device\", 1)])\n",
    "    coll_list[2].create_index([(\"a1.a2.a3.a4.device\", 1)])\n",
    "    coll_list[3].create_index([(\"a1.a2.a3.a4.a5.a6.a7.a8.device\", 1)])"
   ]
  },
  {
   "cell_type": "code",
   "execution_count": 12,
   "id": "3961e931-32b5-4edc-b854-b8af7768942e",
   "metadata": {
    "jupyter": {
     "source_hidden": true
    }
   },
   "outputs": [],
   "source": [
    "def clearIndexes():\n",
    "    coll_list[0].drop_indexes()\n",
    "    coll_list[1].drop_indexes()\n",
    "    coll_list[2].drop_indexes()\n",
    "    coll_list[3].drop_indexes()"
   ]
  },
  {
   "cell_type": "code",
   "execution_count": 13,
   "id": "b06048ac-358b-43cf-8000-fac764c355fb",
   "metadata": {
    "jupyter": {
     "source_hidden": true
    }
   },
   "outputs": [],
   "source": [
    "def showIndexes():\n",
    "    for i in coll_list[0].list_indexes():\n",
    "        print(i)\n",
    "    for i in coll_list[1].list_indexes():\n",
    "        print(i)\n",
    "    for i in coll_list[2].list_indexes():\n",
    "        print(i)\n",
    "    for i in coll_list[3].list_indexes():\n",
    "        print(i)"
   ]
  },
  {
   "cell_type": "code",
   "execution_count": 102,
   "id": "02609524-a14f-49d7-ad77-0c762c21cf91",
   "metadata": {},
   "outputs": [
    {
     "name": "stdout",
     "output_type": "stream",
     "text": [
      "SON([('v', 2), ('key', SON([('_id', 1)])), ('name', '_id_')])\n",
      "SON([('v', 2), ('key', SON([('_id', 1)])), ('name', '_id_')])\n",
      "SON([('v', 2), ('key', SON([('_id', 1)])), ('name', '_id_')])\n",
      "SON([('v', 2), ('key', SON([('_id', 1)])), ('name', '_id_')])\n"
     ]
    }
   ],
   "source": [
    "showIndexes()"
   ]
  },
  {
   "cell_type": "code",
   "execution_count": 101,
   "id": "7b13cf0a-8b58-4b3e-b27d-d614ea4eef61",
   "metadata": {},
   "outputs": [],
   "source": [
    "clearIndexes()"
   ]
  },
  {
   "cell_type": "code",
   "execution_count": 103,
   "id": "615f5be3-2a4b-4bd5-ba89-f39dc311f95c",
   "metadata": {},
   "outputs": [
    {
     "name": "stdout",
     "output_type": "stream",
     "text": [
      "user: 1\n",
      "depth:  1 2 4 8 ---\n",
      "user: 2\n",
      "depth:  1 2 4 8 ---\n",
      "user: 4\n",
      "depth:  1 2 4 8 ---\n"
     ]
    }
   ],
   "source": [
    "no_index = execute_read()"
   ]
  },
  {
   "cell_type": "code",
   "execution_count": 104,
   "id": "0c3af29e-cb27-4dae-85f8-a424ccb56e64",
   "metadata": {},
   "outputs": [],
   "source": [
    "createIndexes()"
   ]
  },
  {
   "cell_type": "code",
   "execution_count": 105,
   "id": "81759697-6c83-45ae-9cde-b89acfd6f280",
   "metadata": {},
   "outputs": [
    {
     "name": "stdout",
     "output_type": "stream",
     "text": [
      "user: 1\n",
      "depth:  1 2 4 8 ---\n",
      "user: 2\n",
      "depth:  1 2 4 8 ---\n",
      "user: 4\n",
      "depth:  1 2 4 8 ---\n"
     ]
    }
   ],
   "source": [
    "with_index = execute_read()"
   ]
  },
  {
   "cell_type": "code",
   "execution_count": 108,
   "id": "3b94f9b8-c0db-47a7-94c7-a34d6dfd2077",
   "metadata": {},
   "outputs": [
    {
     "name": "stdout",
     "output_type": "stream",
     "text": [
      "user 1\n",
      "depth: 1,      22.01      11.27      -48.8%\n",
      "depth: 2,      28.15      11.67      -58.5%\n",
      "depth: 4,     140.08      41.24      -70.6%\n",
      "depth: 8,    2686.92    1096.13      -59.2%\n",
      "--------\n",
      "user 2\n",
      "depth: 1,      18.59      10.68      -42.5%\n",
      "depth: 2,      45.80      17.27      -62.3%\n",
      "depth: 4,     243.04      99.52      -59.1%\n",
      "depth: 8,    4411.13    2453.23      -44.4%\n",
      "--------\n",
      "user 4\n",
      "depth: 1,      30.67      14.14      -53.9%\n",
      "depth: 2,     118.70      20.47      -82.8%\n",
      "depth: 4,     356.27      89.63      -74.8%\n",
      "depth: 8,    7529.25    4001.31      -46.9%\n",
      "--------\n"
     ]
    }
   ],
   "source": [
    "calculate_diffs(no_index, with_index)"
   ]
  },
  {
   "cell_type": "code",
   "execution_count": 114,
   "id": "5ce9139d-d3bf-477a-a600-08324cfa11e8",
   "metadata": {},
   "outputs": [
    {
     "name": "stdout",
     "output_type": "stream",
     "text": [
      "user 1\n",
      "depth: 1,         22         11      -48.8%\n",
      "depth: 2,         28         12      -58.5%\n",
      "depth: 4,        140         41      -70.6%\n",
      "depth: 8,       2687       1096      -59.2%\n",
      "--------\n",
      "user 2\n",
      "depth: 1,         19         11      -42.5%\n",
      "depth: 2,         46         17      -62.3%\n",
      "depth: 4,        243        100      -59.1%\n",
      "depth: 8,       4411       2453      -44.4%\n",
      "--------\n",
      "user 4\n",
      "depth: 1,         31         14      -53.9%\n",
      "depth: 2,        119         20      -82.8%\n",
      "depth: 4,        356         90      -74.8%\n",
      "depth: 8,       7529       4001      -46.9%\n",
      "--------\n"
     ]
    }
   ],
   "source": [
    "calculate_diffs(no_index, with_index)"
   ]
  },
  {
   "cell_type": "code",
   "execution_count": 120,
   "id": "75300a54-2184-4025-82c5-b1b6ea43233e",
   "metadata": {},
   "outputs": [
    {
     "name": "stdout",
     "output_type": "stream",
     "text": [
      "user 1\n",
      "| 1 |        22|         11|      -48.8 |\n",
      "| 2 |        28|         12|      -58.5 |\n",
      "| 4 |       140|         41|      -70.6 |\n",
      "| 8 |      2687|       1096|      -59.2 |\n",
      "--------\n",
      "user 2\n",
      "| 1 |        19|         11|      -42.5 |\n",
      "| 2 |        46|         17|      -62.3 |\n",
      "| 4 |       243|        100|      -59.1 |\n",
      "| 8 |      4411|       2453|      -44.4 |\n",
      "--------\n",
      "user 4\n",
      "| 1 |        31|         14|      -53.9 |\n",
      "| 2 |       119|         20|      -82.8 |\n",
      "| 4 |       356|         90|      -74.8 |\n",
      "| 8 |      7529|       4001|      -46.9 |\n",
      "--------\n"
     ]
    }
   ],
   "source": [
    "calculate_diffs(no_index, with_index)"
   ]
  },
  {
   "cell_type": "code",
   "execution_count": 84,
   "id": "73091792-f912-4137-bf15-87b5fdeaeeff",
   "metadata": {},
   "outputs": [],
   "source": [
    "createIndexes()"
   ]
  },
  {
   "cell_type": "code",
   "execution_count": null,
   "id": "badb61ab-e989-4563-9dbf-cdfc0fdbfdff",
   "metadata": {},
   "outputs": [],
   "source": []
  }
 ],
 "metadata": {
  "kernelspec": {
   "display_name": "Python 3 (ipykernel)",
   "language": "python",
   "name": "python3"
  },
  "language_info": {
   "codemirror_mode": {
    "name": "ipython",
    "version": 3
   },
   "file_extension": ".py",
   "mimetype": "text/x-python",
   "name": "python",
   "nbconvert_exporter": "python",
   "pygments_lexer": "ipython3",
   "version": "3.11.2"
  }
 },
 "nbformat": 4,
 "nbformat_minor": 5
}
