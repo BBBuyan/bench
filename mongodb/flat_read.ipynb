{
 "cells": [
  {
   "cell_type": "code",
   "execution_count": 1,
   "id": "d74d1829-bfdf-4410-85de-588416f8d690",
   "metadata": {},
   "outputs": [],
   "source": [
    "import pymongo\n",
    "import time\n",
    "import threading"
   ]
  },
  {
   "cell_type": "code",
   "execution_count": 2,
   "id": "a7ded1cc-2eeb-4a76-ab3f-5dcb3adb372e",
   "metadata": {},
   "outputs": [],
   "source": [
    "cl = pymongo.MongoClient(\"mongodb://localhost:27017\")\n",
    "db = cl[\"deep\"]\n",
    "col = db[\"flat\"]"
   ]
  },
  {
   "cell_type": "code",
   "execution_count": 3,
   "id": "8aae9f06-b201-46ba-b721-cc0ac5e54b15",
   "metadata": {},
   "outputs": [
    {
     "data": {
      "text/plain": [
       "{'_id': ObjectId('6866846b7fb3cacee8f2e148'),\n",
       " 'number_of_records': 600,\n",
       " 'activity_sec': 38,\n",
       " 'application': 'floor',\n",
       " 'device': 2346,\n",
       " 'volume_total_bytes': 5855,\n",
       " 'subscribers': 709}"
      ]
     },
     "execution_count": 3,
     "metadata": {},
     "output_type": "execute_result"
    }
   ],
   "source": [
    "col.find_one()"
   ]
  },
  {
   "cell_type": "code",
   "execution_count": 4,
   "id": "5e7172ea-8932-43f6-80d0-3f3b6652658e",
   "metadata": {},
   "outputs": [
    {
     "data": {
      "text/plain": [
       "50159"
      ]
     },
     "execution_count": 4,
     "metadata": {},
     "output_type": "execute_result"
    }
   ],
   "source": [
    "col.count_documents({\"device\": {\"$gte\" : 9000}})"
   ]
  },
  {
   "cell_type": "code",
   "execution_count": 21,
   "id": "8417150d-f65b-4cf9-b7d6-dc5056c20e73",
   "metadata": {},
   "outputs": [
    {
     "name": "stdout",
     "output_type": "stream",
     "text": [
      "SON([('v', 2), ('key', SON([('_id', 1)])), ('name', '_id_')])\n",
      "SON([('v', 2), ('key', SON([('device', 1)])), ('name', 'device_1')])\n"
     ]
    }
   ],
   "source": [
    "indexes = col.list_indexes()\n",
    "for i in indexes:\n",
    "    print(i)"
   ]
  },
  {
   "cell_type": "code",
   "execution_count": 6,
   "id": "0dae671b-3ce2-47cd-a157-827a6da5c9a6",
   "metadata": {},
   "outputs": [],
   "source": [
    "def calc_perf(old, new):\n",
    "    rounded_old = round(old)\n",
    "    rounded_new = round(new)\n",
    "    ratio = ((rounded_old - rounded_new) / rounded_old) * 100\n",
    "    print(f\"{rounded_old} {rounded_new} {ratio:.1f}\")"
   ]
  },
  {
   "cell_type": "code",
   "execution_count": 18,
   "id": "27abf313-c0ec-429b-92a6-d41dece8c61e",
   "metadata": {},
   "outputs": [],
   "source": [
    "group_pipeline = [\n",
    "    {\"$group\": {\"_id\": \"$device\"}},\n",
    "    {\"$sort\": {\"_id\":1}}\n",
    "]\n",
    "\n",
    "avg_pipeline = [\n",
    "    {\"$match\": {\"device\": {\"$gte\": 9000}}},\n",
    "    {\"$group\": {\"_id\": None, \"average_volume\": {\"$avg\": \"$volume_total_bytes\"}}}\n",
    "]"
   ]
  },
  {
   "cell_type": "code",
   "execution_count": 8,
   "id": "40c77670-dca8-4e22-9152-2f982c6bc388",
   "metadata": {},
   "outputs": [],
   "source": [
    "def measure_group(user_id, duration_list):\n",
    "    duration = 0\n",
    "    for i in range(10):\n",
    "        start = time.perf_counter()\n",
    "        result = list(col.aggregate(group_pipeline))\n",
    "        end = time.perf_counter()\n",
    "        duration += end - start\n",
    "    #take average, convert to ms\n",
    "    duration = (duration / 10) * 1000\n",
    "    duration_list[user_id] = duration"
   ]
  },
  {
   "cell_type": "code",
   "execution_count": 9,
   "id": "dbac4589-ac08-461e-9bd4-5b3e25094b8e",
   "metadata": {},
   "outputs": [],
   "source": [
    "def group_test(num_of_users):\n",
    "    threads_list = []\n",
    "    duration_list = [None] * num_of_users\n",
    "    \n",
    "    for x in range(num_of_users):\n",
    "        t = threading.Thread(target=measure_group, args=(x, duration_list, ))\n",
    "        t.start()\n",
    "        threads_list.append(t)\n",
    "\n",
    "    for t in threads_list:\n",
    "        t.join()\n",
    "\n",
    "    result = sum(duration_list) / len(duration_list)\n",
    "    return result"
   ]
  },
  {
   "cell_type": "code",
   "execution_count": 10,
   "id": "fe6d2303-58d1-46fd-9e88-25347bc6c01c",
   "metadata": {},
   "outputs": [],
   "source": [
    "def measure_average(user_id, duration_list):\n",
    "    duration = 0\n",
    "    avg_vol = 0\n",
    "    for i in range(10):\n",
    "        start = time.perf_counter()\n",
    "        execution = next(col.aggregate(avg_pipeline), None)\n",
    "        end = time.perf_counter()\n",
    "        duration += end - start\n",
    "\n",
    "    duration = (duration / 10) * 1000\n",
    "    duration_list[user_id] = duration"
   ]
  },
  {
   "cell_type": "code",
   "execution_count": 11,
   "id": "bf02ed6c-16d6-47f9-b918-c8385da17473",
   "metadata": {},
   "outputs": [],
   "source": [
    "def average_test(num_of_users):\n",
    "    threads_list = []\n",
    "    duration_list = [None] * num_of_users\n",
    "\n",
    "    for x in range(num_of_users):\n",
    "        t = threading.Thread(target=measure_average, args=(x, duration_list))\n",
    "        t.start()\n",
    "        threads_list.append(t)\n",
    "\n",
    "    for t in threads_list:\n",
    "        t.join()\n",
    "    result = sum(duration_list) / len(duration_list)\n",
    "    return result"
   ]
  },
  {
   "cell_type": "code",
   "execution_count": 19,
   "id": "45f1be17-6b5c-4e8b-890f-9160034eb782",
   "metadata": {},
   "outputs": [],
   "source": [
    "group_one_old = group_test(1)\n",
    "group_two_old = group_test(2)\n",
    "group_four_old = group_test(4)\n",
    "\n",
    "average_one_old = average_test(1)\n",
    "average_two_old = average_test(2)\n",
    "average_four_old = average_test(4)"
   ]
  },
  {
   "cell_type": "code",
   "execution_count": 14,
   "id": "b71ec9f9-e47e-4711-869d-9fbb3ba4ef79",
   "metadata": {},
   "outputs": [
    {
     "data": {
      "text/plain": [
       "'device_1'"
      ]
     },
     "execution_count": 14,
     "metadata": {},
     "output_type": "execute_result"
    }
   ],
   "source": [
    "col.create_index([(\"device\", 1)])"
   ]
  },
  {
   "cell_type": "code",
   "execution_count": 20,
   "id": "1b084d2d-ddf3-4bc0-a922-99483491e93b",
   "metadata": {},
   "outputs": [],
   "source": [
    "group_one_new = group_test(1)\n",
    "group_two_new = group_test(2)\n",
    "group_four_new = group_test(4)\n",
    "\n",
    "average_one_new = average_test(1)\n",
    "average_two_new = average_test(2)\n",
    "average_four_new = average_test(4)"
   ]
  },
  {
   "cell_type": "code",
   "execution_count": 22,
   "id": "8a64da8a-9c2f-4837-b950-fefe04e65fa6",
   "metadata": {},
   "outputs": [
    {
     "name": "stdout",
     "output_type": "stream",
     "text": [
      "50 55 -10.0\n",
      "52 53 -1.9\n",
      "84 84 0.0\n"
     ]
    }
   ],
   "source": [
    "calc_perf(group_one_old, group_one_new)\n",
    "calc_perf(group_two_old, group_two_new)\n",
    "calc_perf(group_four_old, group_four_new)"
   ]
  },
  {
   "cell_type": "code",
   "execution_count": 17,
   "id": "7afc2c7d-8fe1-4620-a05b-3131d29b4e07",
   "metadata": {},
   "outputs": [
    {
     "name": "stdout",
     "output_type": "stream",
     "text": [
      "192 96 50.0\n",
      "196 98 50.0\n",
      "411 166 59.6\n"
     ]
    }
   ],
   "source": [
    "calc_perf(average_one_old, average_one_new)\n",
    "calc_perf(average_two_old, average_two_new)\n",
    "calc_perf(average_four_old, average_four_new)"
   ]
  }
 ],
 "metadata": {
  "kernelspec": {
   "display_name": "Python 3 (ipykernel)",
   "language": "python",
   "name": "python3"
  },
  "language_info": {
   "codemirror_mode": {
    "name": "ipython",
    "version": 3
   },
   "file_extension": ".py",
   "mimetype": "text/x-python",
   "name": "python",
   "nbconvert_exporter": "python",
   "pygments_lexer": "ipython3",
   "version": "3.11.2"
  }
 },
 "nbformat": 4,
 "nbformat_minor": 5
}
