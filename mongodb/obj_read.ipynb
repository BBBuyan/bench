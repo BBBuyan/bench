{
 "cells": [
  {
   "cell_type": "code",
   "execution_count": 95,
   "id": "962e8318-89bd-4da3-a6d5-dea37d256bef",
   "metadata": {},
   "outputs": [],
   "source": [
    "import pymongo\n",
    "import time\n",
    "import threading\n",
    "import random\n",
    "from pymongo.collection import Collection"
   ]
  },
  {
   "cell_type": "code",
   "execution_count": 96,
   "id": "8b0c92f7-e78d-4c52-b357-de9140c23914",
   "metadata": {},
   "outputs": [],
   "source": [
    "cl = pymongo.MongoClient(\"mongodb://localhost:27017\")\n",
    "db = cl[\"deep\"]\n",
    "obj1 = db[\"obj1\"]\n",
    "obj2 = db[\"obj2\"]\n",
    "obj4 = db[\"obj4\"]\n",
    "obj8 = db[\"obj8\"]\n",
    "coll_list = [obj1, obj2, obj4, obj8]"
   ]
  },
  {
   "cell_type": "code",
   "execution_count": 97,
   "id": "90878d4b-c297-47dd-84ac-df9c174983a4",
   "metadata": {},
   "outputs": [],
   "source": [
    "user_list = [1, 2, 4]\n",
    "depth_list = [1, 2, 4, 8]"
   ]
  },
  {
   "cell_type": "code",
   "execution_count": 98,
   "id": "0a84e1c0-f969-4660-914e-c727732551c0",
   "metadata": {},
   "outputs": [
    {
     "data": {
      "text/plain": [
       "{'_id': ObjectId('687a79485702990e0d27b649'),\n",
       " 'l1': {'device': 5550, 'app': 'executive', 'total_volume_bytes': 3636}}"
      ]
     },
     "execution_count": 98,
     "metadata": {},
     "output_type": "execute_result"
    }
   ],
   "source": [
    "obj1.find_one()"
   ]
  },
  {
   "cell_type": "code",
   "execution_count": 109,
   "id": "966c09a7-94ec-4889-a55d-219664910225",
   "metadata": {},
   "outputs": [],
   "source": [
    "where_1 = {\"l1.device\": {\"$gte\": 9900}}\n",
    "where_2 = {\"l1.l2.device\": {\"$gte\": 9900}}\n",
    "where_4 = {\"l1.l2.l3.l4.device\": {\"$gte\": 9900}}\n",
    "where_8 = {\"l1.l2.l3.l4.l5.l6.l7.l8.device\": {\"$gte\": 9890}}\n",
    "where_list = [where_1, where_2, where_4, where_8]"
   ]
  },
  {
   "cell_type": "code",
   "execution_count": 110,
   "id": "2819685a-3be9-47c9-ad4c-919cecbbfdf9",
   "metadata": {},
   "outputs": [
    {
     "name": "stdout",
     "output_type": "stream",
     "text": [
      "1037\n",
      "1023\n",
      "1041\n",
      "1051\n"
     ]
    }
   ],
   "source": [
    "for c in range(len(coll_list)):\n",
    "    print(coll_list[c].count_documents(where_list[c]))"
   ]
  },
  {
   "cell_type": "code",
   "execution_count": 101,
   "id": "eec146f4-1a37-48a4-b73f-70bb899bd61c",
   "metadata": {},
   "outputs": [],
   "source": [
    "def resolve_where(depth: int):\n",
    "    return where_list[depth]"
   ]
  },
  {
   "cell_type": "code",
   "execution_count": 83,
   "id": "6c240667-8f9d-4d42-990d-313e1b65f4c0",
   "metadata": {},
   "outputs": [],
   "source": [
    "def measure_select(user_id: int, duration_list: list[int], coll: Collection, whereClause: list[dict]):\n",
    "    duration = 0\n",
    "    tries = 1\n",
    "    for i in range(tries):\n",
    "        start = time.perf_counter()\n",
    "        result = list(coll.find(whereClause))\n",
    "        end = time.perf_counter()\n",
    "        duration += end - start\n",
    "    \n",
    "    duration = (duration / tries) * 1000\n",
    "    duration_list[user_id] = duration"
   ]
  },
  {
   "cell_type": "code",
   "execution_count": 21,
   "id": "04bf927e-c665-49ce-bbf4-87a548a01765",
   "metadata": {},
   "outputs": [],
   "source": [
    "def test_select(num_of_users, depth):\n",
    "    threads_list = []\n",
    "    duration_list = [None] * num_of_users\n",
    "    whereClause= resolve_where(depth)\n",
    "    coll = coll_list[depth]\n",
    "\n",
    "    for user_id in range (num_of_users):\n",
    "        t = threading.Thread(target=measure_select, args=(user_id, duration_list, coll, whereClause,))\n",
    "        t.start()\n",
    "        threads_list.append(t)\n",
    "\n",
    "    for t in threads_list:\n",
    "        t.join()\n",
    "        \n",
    "    result = sum(duration_list) / len(duration_list)\n",
    "    return result    "
   ]
  },
  {
   "cell_type": "code",
   "execution_count": 34,
   "id": "1f240141-c677-42c3-866f-1102b02593c3",
   "metadata": {},
   "outputs": [],
   "source": [
    "def execute_select():\n",
    "    u_len = len(user_list)\n",
    "    d_len = len(depth_list)\n",
    "    result = [[0 for _ in range(d_len)] for _ in range(u_len)]\n",
    "    \n",
    "    for u in range(u_len):\n",
    "        print(f\"user: {user_list[u]}\")\n",
    "        print(\"  depth:\", end=\" \")\n",
    "        for d in range(d_len):\n",
    "            result[u][d] = test_select(user_list[u], d)\n",
    "            print(f\"{depth_list[d]}\", end=\" \")\n",
    "\n",
    "        print(\"---\")\n",
    "    return result"
   ]
  },
  {
   "cell_type": "code",
   "execution_count": 31,
   "id": "ff9ff3d1-c589-4fc4-9f71-deebca865727",
   "metadata": {},
   "outputs": [],
   "source": [
    "def calculate_diffs(old, new):\n",
    "    for u in range(len(user_list)):\n",
    "        print(f\"user {user_list[u]}\")\n",
    "        for d in range(len(depth_list)):\n",
    "            o_val = old[u][d]\n",
    "            n_val = new[u][d]\n",
    "            diff = ((n_val - o_val) / o_val) * 100\n",
    "            print(f\"| {depth_list[d]} |{o_val:10.0f}| {n_val:10.0f}| {diff:10.1f} |\")\n",
    "        print(\"--------\")"
   ]
  },
  {
   "cell_type": "code",
   "execution_count": 24,
   "id": "3ec35c2a-dcf0-40e9-8b8f-61952633b323",
   "metadata": {},
   "outputs": [],
   "source": [
    "def createIndexes():\n",
    "    obj1.create_index([(\"l1.device\", 1)])\n",
    "    obj2.create_index([(\"l1.l2.device\", 1)])\n",
    "    obj4.create_index([(\"l1.l2.l3.l4.device\", 1)])\n",
    "    obj8.create_index([(\"l1.l2.l3.l4.l5.l6.l7.l8.device\", 1)])"
   ]
  },
  {
   "cell_type": "code",
   "execution_count": 25,
   "id": "20af8ac1-1916-4aa0-afbf-94d83ff4c68b",
   "metadata": {},
   "outputs": [],
   "source": [
    "def clearIndexes():\n",
    "    obj1.drop_indexes()\n",
    "    obj2.drop_indexes()\n",
    "    obj4.drop_indexes()\n",
    "    obj8.drop_indexes()"
   ]
  },
  {
   "cell_type": "code",
   "execution_count": 26,
   "id": "798fdba6-2ab3-45cf-b299-9d3b47af7d04",
   "metadata": {},
   "outputs": [],
   "source": [
    "def showIndexes():\n",
    "    for i in obj1.list_indexes():\n",
    "        print(i)\n",
    "    for a in obj2.list_indexes():\n",
    "        print(a)\n",
    "    for b in obj4.list_indexes():\n",
    "        print(b)\n",
    "    for c in obj8.list_indexes():\n",
    "        print(c)"
   ]
  },
  {
   "cell_type": "code",
   "execution_count": 111,
   "id": "ee9167e8-c3ce-4c5e-bde6-d7961c0c2884",
   "metadata": {},
   "outputs": [],
   "source": [
    "clearIndexes()"
   ]
  },
  {
   "cell_type": "code",
   "execution_count": 112,
   "id": "4299c013-394b-4070-a26d-01e223ca25b1",
   "metadata": {},
   "outputs": [
    {
     "name": "stdout",
     "output_type": "stream",
     "text": [
      "SON([('v', 2), ('key', SON([('_id', 1)])), ('name', '_id_')])\n",
      "SON([('v', 2), ('key', SON([('_id', 1)])), ('name', '_id_')])\n",
      "SON([('v', 2), ('key', SON([('_id', 1)])), ('name', '_id_')])\n",
      "SON([('v', 2), ('key', SON([('_id', 1)])), ('name', '_id_')])\n"
     ]
    }
   ],
   "source": [
    "showIndexes()"
   ]
  },
  {
   "cell_type": "code",
   "execution_count": 113,
   "id": "c27da25f-91be-4f87-915e-dc35c24014f7",
   "metadata": {},
   "outputs": [
    {
     "name": "stdout",
     "output_type": "stream",
     "text": [
      "user: 1\n",
      "  depth: 1 2 4 8 ---\n",
      "user: 2\n",
      "  depth: 1 2 4 8 ---\n",
      "user: 4\n",
      "  depth: 1 2 4 8 ---\n"
     ]
    }
   ],
   "source": [
    "select_old = execute_select()"
   ]
  },
  {
   "cell_type": "code",
   "execution_count": 114,
   "id": "3aee8a08-694a-4945-8bec-93747a9c8b2a",
   "metadata": {},
   "outputs": [],
   "source": [
    "createIndexes()"
   ]
  },
  {
   "cell_type": "code",
   "execution_count": 115,
   "id": "cc471ffe-b57e-4125-9ef1-708bd0b67b8a",
   "metadata": {},
   "outputs": [
    {
     "name": "stdout",
     "output_type": "stream",
     "text": [
      "user: 1\n",
      "  depth: 1 2 4 8 ---\n",
      "user: 2\n",
      "  depth: 1 2 4 8 ---\n",
      "user: 4\n",
      "  depth: 1 2 4 8 ---\n"
     ]
    }
   ],
   "source": [
    "select_new = execute_select()"
   ]
  },
  {
   "cell_type": "code",
   "execution_count": 116,
   "id": "18a0f555-cfa4-4776-baab-43659208fc4a",
   "metadata": {},
   "outputs": [
    {
     "name": "stdout",
     "output_type": "stream",
     "text": [
      "user 1\n",
      "| 1 |        69|         10|      -86.2 |\n",
      "| 2 |       194|         12|      -94.0 |\n",
      "| 4 |        79|         17|      -78.7 |\n",
      "| 8 |       163|         25|      -84.6 |\n",
      "--------\n",
      "user 2\n",
      "| 1 |        91|         12|      -87.0 |\n",
      "| 2 |        98|         12|      -87.5 |\n",
      "| 4 |       110|         18|      -83.7 |\n",
      "| 8 |       134|         21|      -84.0 |\n",
      "--------\n",
      "user 4\n",
      "| 1 |       164|         16|      -90.1 |\n",
      "| 2 |       173|         20|      -88.2 |\n",
      "| 4 |       166|         30|      -82.1 |\n",
      "| 8 |       217|        163|      -24.8 |\n",
      "--------\n"
     ]
    }
   ],
   "source": [
    "calculate_diffs(select_old, select_new)"
   ]
  },
  {
   "cell_type": "code",
   "execution_count": null,
   "id": "16b4970f-9f5b-438e-be36-3a653829a532",
   "metadata": {},
   "outputs": [],
   "source": []
  }
 ],
 "metadata": {
  "kernelspec": {
   "display_name": "Python 3 (ipykernel)",
   "language": "python",
   "name": "python3"
  },
  "language_info": {
   "codemirror_mode": {
    "name": "ipython",
    "version": 3
   },
   "file_extension": ".py",
   "mimetype": "text/x-python",
   "name": "python",
   "nbconvert_exporter": "python",
   "pygments_lexer": "ipython3",
   "version": "3.11.2"
  }
 },
 "nbformat": 4,
 "nbformat_minor": 5
}
