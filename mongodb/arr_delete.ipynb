{
 "cells": [
  {
   "cell_type": "code",
   "execution_count": 1,
   "id": "2d262799-adad-4745-a4ce-576b4fa6fd8d",
   "metadata": {},
   "outputs": [],
   "source": [
    "import pymongo\n",
    "import time\n",
    "import threading\n",
    "import json\n",
    "import random\n",
    "from bson import ObjectId\n",
    "from pymongo.collection import Collection"
   ]
  },
  {
   "cell_type": "code",
   "execution_count": 2,
   "id": "236ea702-8f95-453a-bca4-bb6c6422b282",
   "metadata": {
    "jupyter": {
     "source_hidden": true
    }
   },
   "outputs": [],
   "source": [
    "cl = pymongo.MongoClient(\"mongodb://localhost:27017\")\n",
    "db = cl[\"deep\"]\n",
    "arr1 = db[\"arr1\"]\n",
    "arr2 = db[\"arr2\"]\n",
    "arr4 = db[\"arr4\"]\n",
    "arr8 = db[\"arr8\"]\n",
    "coll_list = [arr1, arr2, arr4, arr8]"
   ]
  },
  {
   "cell_type": "code",
   "execution_count": 3,
   "id": "3b826b70-2c38-402f-9a5c-c48313280514",
   "metadata": {
    "jupyter": {
     "source_hidden": true
    }
   },
   "outputs": [],
   "source": [
    "user_list = [1, 2, 4]\n",
    "depth_list = [1, 2, 4, 8]"
   ]
  },
  {
   "cell_type": "code",
   "execution_count": 4,
   "id": "43632b70-a38c-4174-a88a-ffdf386372ff",
   "metadata": {},
   "outputs": [],
   "source": [
    "a1_device_field = \"a1.device\"\n",
    "a2_device_field = \"a1.a2.device\"\n",
    "a4_device_field = \"a1.a2.a3.a4.device\"\n",
    "a8_device_field = \"a1.a2.a3.a4.a5.a6.a7.a8.device\"\n",
    "device_fields = [a1_device_field, a2_device_field, a4_device_field, a8_device_field]"
   ]
  },
  {
   "cell_type": "code",
   "execution_count": 5,
   "id": "26fd8221-5645-421d-b1c0-76fda297158a",
   "metadata": {},
   "outputs": [],
   "source": [
    "a1_vol_field = \"a1.total_volume_bytes\"\n",
    "a2_vol_field = \"a1.a2.total_volume_bytes\"\n",
    "a4_vol_field = \"a1.a2.a3.a4.total_volume_bytes\"\n",
    "a8_vol_field = \"a1.a2.a3.a4.a5.a6.a7.a8.total_volume_bytes\"\n",
    "vol_fields = [a1_vol_field, a2_vol_field, a4_vol_field, a8_vol_field]"
   ]
  },
  {
   "cell_type": "code",
   "execution_count": 6,
   "id": "9966076e-10d9-4241-8aa8-de9ee33033e2",
   "metadata": {},
   "outputs": [],
   "source": [
    "def indexedWhereClause(user_id: int, depth: int):\n",
    "    field: str = device_fields[depth]\n",
    "    query = { field: user_id }\n",
    "    return query"
   ]
  },
  {
   "cell_type": "code",
   "execution_count": 7,
   "id": "62fccb39-e4cf-4967-97db-48f8b862e842",
   "metadata": {},
   "outputs": [],
   "source": [
    "def nonIndexedWhereClause(user_id: int, depth: int):\n",
    "    field: str = vol_fields[depth]\n",
    "    query = { field: user_id }\n",
    "    return query"
   ]
  },
  {
   "cell_type": "code",
   "execution_count": 122,
   "id": "4a713527-58c4-401a-a9c5-77e568f0ed3b",
   "metadata": {
    "jupyter": {
     "source_hidden": true
    }
   },
   "outputs": [],
   "source": [
    "def create_batch_a1(size: int, new_device_num: int):\n",
    "    coll: Collection = coll_list[0]\n",
    "    docs = coll.find({}, {\"_id\": 0}).limit(size)\n",
    "    new_docs = []\n",
    "    for obj in docs:\n",
    "        for a1_item in obj.get('a1', []):\n",
    "            a1_item['device'] = new_device_num\n",
    "            a1_item['total_volume_bytes'] = new_device_num\n",
    "        new_docs.append(obj)\n",
    "        \n",
    "    return new_docs"
   ]
  },
  {
   "cell_type": "code",
   "execution_count": 123,
   "id": "e3cc488f-2c14-43f1-b5b0-ccafeb38afde",
   "metadata": {
    "jupyter": {
     "source_hidden": true
    }
   },
   "outputs": [],
   "source": [
    "def create_batch_a2(size: int, new_device_num: int):\n",
    "    coll: Collection = coll_list[1]\n",
    "    docs = coll.find({}, {\"_id\": 0}).limit(size)\n",
    "    new_docs = []\n",
    "    for obj in docs:\n",
    "        for a1_item in obj.get('a1', []):\n",
    "            for a2_item in a1_item.get('a2', []):\n",
    "                a2_item['device'] = new_device_num\n",
    "                a2_item['total_volume_bytes'] = new_device_num\n",
    "        new_docs.append(obj)\n",
    "    return new_docs"
   ]
  },
  {
   "cell_type": "code",
   "execution_count": 124,
   "id": "7e08bfd5-ed31-40cb-a5b6-3d4dc62679a2",
   "metadata": {
    "jupyter": {
     "source_hidden": true
    }
   },
   "outputs": [],
   "source": [
    "def create_batch_a4(size: int, new_device_num: int):\n",
    "    coll: Collection = coll_list[2]\n",
    "    docs = coll.find({}, {\"_id\": 0}).limit(size)\n",
    "    new_docs = []\n",
    "    for obj in docs:\n",
    "        for a1_item in obj.get('a1', []):\n",
    "            for a2_item in a1_item.get('a2', []):\n",
    "                for a3_item in a2_item.get('a3', []):\n",
    "                    for a4_item in a3_item.get('a4', []):\n",
    "                        a4_item['device'] = new_device_num\n",
    "                        a4_item['total_volume_bytes'] = new_device_num\n",
    "        new_docs.append(obj)\n",
    "    return new_docs"
   ]
  },
  {
   "cell_type": "code",
   "execution_count": 125,
   "id": "9e05852f-921e-4a2e-8223-b4a27a6a6b8e",
   "metadata": {
    "jupyter": {
     "source_hidden": true
    }
   },
   "outputs": [],
   "source": [
    "def create_batch_a8(size: int, new_device_num: int):\n",
    "    coll: Collection = coll_list[3]\n",
    "    docs = coll.find({}, {\"_id\": 0}).limit(size)\n",
    "    new_docs = []\n",
    "    for obj in docs:\n",
    "        for a1_item in obj.get('a1', []):\n",
    "            for a2_item in a1_item.get('a2', []):\n",
    "                for a3_item in a2_item.get('a3', []):\n",
    "                    for a4_item in a3_item.get('a4', []):\n",
    "                        for a5_item in a4_item.get('a5', []):\n",
    "                            for a6_item in a5_item.get('a6', []):\n",
    "                                for a7_item in a6_item.get('a7', []):\n",
    "                                    for a8_item in a7_item.get('a8', []):\n",
    "                                        a8_item['device'] = new_device_num\n",
    "                                        a8_item['total_volume_bytes'] = new_device_num\n",
    "        new_docs.append(obj)\n",
    "    return new_docs"
   ]
  },
  {
   "cell_type": "code",
   "execution_count": 126,
   "id": "0757326b-73dc-4f38-996a-1384821fe3bd",
   "metadata": {
    "jupyter": {
     "source_hidden": true
    }
   },
   "outputs": [],
   "source": [
    "def insert_a1_mocks():\n",
    "    mocks = []\n",
    "    for i in range(4):\n",
    "        mocks += create_batch_a1(500, i)\n",
    "    arr1.insert_many(mocks)"
   ]
  },
  {
   "cell_type": "code",
   "execution_count": 127,
   "id": "b94ba3bf-9b2a-4ef4-bb6f-c50ef8cdd26c",
   "metadata": {
    "jupyter": {
     "source_hidden": true
    }
   },
   "outputs": [],
   "source": [
    "def insert_a2_mocks():\n",
    "    mocks = []\n",
    "    for i in range(4):\n",
    "        mocks += create_batch_a2(500, i)\n",
    "    arr2.insert_many(mocks)"
   ]
  },
  {
   "cell_type": "code",
   "execution_count": 128,
   "id": "a17861d5-1094-464e-9e76-42aaf08eda7a",
   "metadata": {
    "jupyter": {
     "source_hidden": true
    }
   },
   "outputs": [],
   "source": [
    "def insert_a4_mocks():\n",
    "    mocks = []\n",
    "    for i in range(4):\n",
    "        mocks += create_batch_a4(500, i)\n",
    "    arr4.insert_many(mocks)"
   ]
  },
  {
   "cell_type": "code",
   "execution_count": 129,
   "id": "1e3d0de6-4c61-4bc9-a08d-6026684e4463",
   "metadata": {
    "jupyter": {
     "source_hidden": true
    }
   },
   "outputs": [],
   "source": [
    "def insert_a8_mocks():\n",
    "    mocks = []\n",
    "    for i in range(4):\n",
    "        mocks += create_batch_a8(500, i)\n",
    "    arr8.insert_many(mocks)"
   ]
  },
  {
   "cell_type": "code",
   "execution_count": 130,
   "id": "f0907b9a-914c-403f-9836-8d4ec1314bba",
   "metadata": {},
   "outputs": [],
   "source": [
    "def insert_mocks():\n",
    "    insert_a1_mocks()\n",
    "    insert_a2_mocks()\n",
    "    insert_a4_mocks()\n",
    "    insert_a8_mocks()"
   ]
  },
  {
   "cell_type": "code",
   "execution_count": 112,
   "id": "4f3411b3-23af-49a7-bd62-7d413838cd04",
   "metadata": {},
   "outputs": [],
   "source": [
    "def delete_mocks():\n",
    "    print(arr1.delete_many({\"a1\": {\"$elemMatch\": {\"device\": {\"$lt\": 4}}}}), end=\" \")\n",
    "    print(arr1.delete_many({\"a1\": {\"$elemMatch\": {\"total_volume_bytes\": {\"$lt\": 4}}}}))\n",
    "    print(arr2.delete_many({\"a1.a2\": {\"$elemMatch\": {\"device\": {\"$lt\": 4}}}}), end=\" \")\n",
    "    print(arr2.delete_many({\"a1.a2\": {\"$elemMatch\": {\"total_volume_bytes\": {\"$lt\": 4}}}}))\n",
    "    print(arr4.delete_many({\"a1.a2.a3.a4\": {\"$elemMatch\": {\"device\": {\"$lt\": 4}}}}), end=\" \")\n",
    "    print(arr4.delete_many({\"a1.a2.a3.a4\": {\"$elemMatch\": {\"total_volume_bytes\": {\"$lt\": 4}}}}))\n",
    "    print(arr8.delete_many({\"a1.a2.a3.a4.a5.a6.a7.a8\": {\"$elemMatch\": {\"device\": {\"$lt\": 4}}}}), end=\" \")\n",
    "    print(arr8.delete_many({\"a1.a2.a3.a4.a5.a6.a7.a8\": {\"$elemMatch\": {\"total_volume_bytes\": {\"$lt\": 4}}}}))    "
   ]
  },
  {
   "cell_type": "code",
   "execution_count": 76,
   "id": "13afe505-37be-4c4c-b64c-d155e1a67a85",
   "metadata": {},
   "outputs": [],
   "source": [
    "def count_mocks():\n",
    "    print(arr1.count_documents({\"a1\": {\"$elemMatch\": {\"device\": {\"$lt\": 4}}}}))\n",
    "    print(arr2.count_documents({\"a1.a2\": {\"$elemMatch\": {\"device\": {\"$lt\": 4}}}}))\n",
    "    print(arr4.count_documents({\"a1.a2.a3.a4\": {\"$elemMatch\": {\"device\": {\"$lt\": 4}}}}))\n",
    "    print(arr8.count_documents({\"a1.a2.a3.a4.a5.a6.a7.a8\": {\"$elemMatch\": {\"device\": {\"$lt\": 4}}}}))"
   ]
  },
  {
   "cell_type": "code",
   "execution_count": 18,
   "id": "08608134-ae4c-4cb3-a8a8-1fcfb40342c5",
   "metadata": {},
   "outputs": [],
   "source": [
    "def prepare():\n",
    "    delete_mocks()\n",
    "    insert_mocks()    "
   ]
  },
  {
   "cell_type": "code",
   "execution_count": 19,
   "id": "b523043f-ab10-4e7b-ba6d-ff1cb397e33a",
   "metadata": {},
   "outputs": [],
   "source": [
    "def showIndexes():\n",
    "    for i in arr1.list_indexes():\n",
    "        print(i)\n",
    "    for a in arr2.list_indexes():\n",
    "        print(a)\n",
    "    for b in arr4.list_indexes():\n",
    "        print(b)\n",
    "    for c in arr8.list_indexes():\n",
    "        print(c)"
   ]
  },
  {
   "cell_type": "code",
   "execution_count": 20,
   "id": "f72c03bf-4f5e-4f01-9482-1441e5ee33f9",
   "metadata": {
    "jupyter": {
     "source_hidden": true
    }
   },
   "outputs": [],
   "source": [
    "def clearIndexes():\n",
    "    arr1.drop_indexes()\n",
    "    arr2.drop_indexes()\n",
    "    arr4.drop_indexes()\n",
    "    arr8.drop_indexes()"
   ]
  },
  {
   "cell_type": "code",
   "execution_count": 21,
   "id": "cb3d7fef-ff5f-47d8-9323-aa0ba40620e2",
   "metadata": {
    "jupyter": {
     "source_hidden": true
    }
   },
   "outputs": [],
   "source": [
    "def createIndexes():\n",
    "    coll_list[0].create_index([(\"a1.device\", 1)])\n",
    "    coll_list[1].create_index([(\"a1.a2.device\", 1)])\n",
    "    coll_list[2].create_index([(\"a1.a2.a3.a4.device\", 1)])\n",
    "    coll_list[3].create_index([(\"a1.a2.a3.a4.a5.a6.a7.a8.device\", 1)])"
   ]
  },
  {
   "cell_type": "code",
   "execution_count": 22,
   "id": "6e145238-943e-4a2c-9cc2-4f37ee2270db",
   "metadata": {
    "jupyter": {
     "source_hidden": true
    }
   },
   "outputs": [],
   "source": [
    "def deleteAllData():\n",
    "    arr1.delete_many({})\n",
    "    arr2.delete_many({})\n",
    "    arr4.delete_many({})\n",
    "    arr8.delete_many({})"
   ]
  },
  {
   "cell_type": "code",
   "execution_count": 23,
   "id": "ed08e049-0f90-4d30-8bdf-93775fdadb13",
   "metadata": {
    "jupyter": {
     "source_hidden": true
    }
   },
   "outputs": [],
   "source": [
    "def importData():\n",
    "    with open(\"data/arr1.json\") as f:\n",
    "        data = [json.loads(line) for line in f]\n",
    "        arr1.insert_many(data)\n",
    "    print(\"import: arr1\", end=\" \")\n",
    "    \n",
    "    with open(\"data/arr2.json\") as f:\n",
    "        data = [json.loads(line) for line in f]\n",
    "        arr2.insert_many(data)\n",
    "    print(\"arr2\", end=\" \")\n",
    "    \n",
    "    with open(\"data/arr4.json\") as f:\n",
    "        data = [json.loads(line) for line in f]\n",
    "        arr4.insert_many(data)\n",
    "    print(\"arr4\", end=\" \")\n",
    "        \n",
    "    with open(\"data/arr8.json\") as f:\n",
    "        data = [json.loads(line) for line in f]\n",
    "        arr8.insert_many(data)\n",
    "    print(\"arr8\")"
   ]
  },
  {
   "cell_type": "code",
   "execution_count": 24,
   "id": "e6344d2e-b8bc-4d4d-b891-6902587b58ee",
   "metadata": {
    "jupyter": {
     "source_hidden": true
    }
   },
   "outputs": [],
   "source": [
    "def hasIndexes() -> bool:\n",
    "    list_indexes = arr1.list_indexes().to_list()\n",
    "    if len(list_indexes) == 2:\n",
    "        return True\n",
    "    else:\n",
    "        return False"
   ]
  },
  {
   "cell_type": "code",
   "execution_count": 25,
   "id": "47ea9ead-577e-437e-9c9c-d5a7c559bbc9",
   "metadata": {
    "jupyter": {
     "source_hidden": true
    }
   },
   "outputs": [],
   "source": [
    "def reset_db():\n",
    "    had_index = hasIndexes()\n",
    "    if had_index:\n",
    "        print(\"clearing_indexes\", end=\" \")\n",
    "        clearIndexes()\n",
    "    deleteAllData()\n",
    "    importData()\n",
    "    if had_index:\n",
    "        createIndexes()\n",
    "        print(\"created_indexes\", end=\" \")"
   ]
  },
  {
   "cell_type": "code",
   "execution_count": 26,
   "id": "fa4a6095-bd96-4094-bdd8-baff5b63b6b8",
   "metadata": {
    "jupyter": {
     "source_hidden": true
    }
   },
   "outputs": [],
   "source": [
    "def calculate_diffs(old, new):\n",
    "    for u in range(len(user_list)):\n",
    "        print(f\"user {user_list[u]}\")\n",
    "        for d in range(len(depth_list)):\n",
    "            o_val = old[u][d]\n",
    "            n_val = new[u][d]\n",
    "            diff = ((n_val - o_val) / o_val) * 100\n",
    "            print(f\"| {depth_list[d]} |{o_val:10.0f}| {n_val:10.0f}| {diff:10.1f} |\")\n",
    "        print(\"--------\")"
   ]
  },
  {
   "cell_type": "code",
   "execution_count": 27,
   "id": "bb0ff52e-4d21-4a28-ae8a-708ffe327375",
   "metadata": {},
   "outputs": [],
   "source": [
    "def resolve_where(user_id: int, depth: int, isWhereIndex: bool):\n",
    "    if isWhereIndex:\n",
    "        return indexedWhereClause(user_id, depth)\n",
    "    else:\n",
    "        return nonIndexedWhereClause(user_id, depth)"
   ]
  },
  {
   "cell_type": "code",
   "execution_count": 70,
   "id": "5f362b58-287a-4eae-b98d-b8d282cec8f7",
   "metadata": {},
   "outputs": [],
   "source": [
    "def measure_delete(user_id: int, duration_list: list[int], coll: Collection, depth: int, isWhereIndex: bool):\n",
    "    whereClause = resolve_where(user_id, depth, isWhereIndex)\n",
    "    start = time.perf_counter()\n",
    "    coll.delete_many(whereClause)\n",
    "    end = time.perf_counter()\n",
    "    duration = (end - start) * 1000\n",
    "    duration_list[user_id] = duration"
   ]
  },
  {
   "cell_type": "code",
   "execution_count": 29,
   "id": "aa75e608-638c-4fba-a9fd-f9abc263d03a",
   "metadata": {},
   "outputs": [],
   "source": [
    "def test_delete(num_of_users: int, depth: int, isWhereIndex: bool):\n",
    "    threads_list = []\n",
    "    duration_list = [None] * num_of_users\n",
    "    coll = coll_list[depth]\n",
    "    \n",
    "    for user_id in range(num_of_users):\n",
    "        t = threading.Thread(target=measure_delete, args=(user_id, duration_list, coll, depth, isWhereIndex,))\n",
    "        t.start()\n",
    "        threads_list.append(t)\n",
    "\n",
    "    \n",
    "    for t in threads_list:\n",
    "        t.join()\n",
    "        \n",
    "    result = sum(duration_list) / len(duration_list)\n",
    "    return result    "
   ]
  },
  {
   "cell_type": "code",
   "execution_count": 75,
   "id": "bee92267-144c-44ff-9f39-421cb08c8fa2",
   "metadata": {},
   "outputs": [],
   "source": [
    "def execute_delete(isWhereIndex: bool):\n",
    "    u_len = len(user_list)\n",
    "    d_len = len(depth_list)\n",
    "    result = [[0 for _ in range(d_len)] for _ in range(u_len)]\n",
    "\n",
    "    for u in range(u_len):\n",
    "        print(f\"user: {user_list[u]}\")\n",
    "        print(\"  depth: \", end=\" \")\n",
    "        for d in range(d_len):\n",
    "            result[u][d] = test_delete(user_list[u], d, isWhereIndex)\n",
    "            print(f\"{depth_list[d]}\", end=\" \")\n",
    "        print(\"---\")\n",
    "        prepare()\n",
    "        \n",
    "    return result"
   ]
  },
  {
   "cell_type": "code",
   "execution_count": 141,
   "id": "8a14e967-c06d-4924-b92c-2b3af5e0d073",
   "metadata": {},
   "outputs": [
    {
     "name": "stdout",
     "output_type": "stream",
     "text": [
      "SON([('v', 2), ('key', SON([('_id', 1)])), ('name', '_id_')])\n",
      "SON([('v', 2), ('key', SON([('a1.device', 1)])), ('name', 'a1.device_1')])\n",
      "SON([('v', 2), ('key', SON([('_id', 1)])), ('name', '_id_')])\n",
      "SON([('v', 2), ('key', SON([('a1.a2.device', 1)])), ('name', 'a1.a2.device_1')])\n",
      "SON([('v', 2), ('key', SON([('_id', 1)])), ('name', '_id_')])\n",
      "SON([('v', 2), ('key', SON([('a1.a2.a3.a4.device', 1)])), ('name', 'a1.a2.a3.a4.device_1')])\n",
      "SON([('v', 2), ('key', SON([('_id', 1)])), ('name', '_id_')])\n",
      "SON([('v', 2), ('key', SON([('a1.a2.a3.a4.a5.a6.a7.a8.device', 1)])), ('name', 'a1.a2.a3.a4.a5.a6.a7.a8.device_1')])\n"
     ]
    }
   ],
   "source": [
    "showIndexes()"
   ]
  },
  {
   "cell_type": "code",
   "execution_count": 142,
   "id": "5ad28864-4748-4ff0-9682-5dc51c981294",
   "metadata": {},
   "outputs": [],
   "source": [
    "clearIndexes()"
   ]
  },
  {
   "cell_type": "code",
   "execution_count": 117,
   "id": "09ca97d4-ff6e-4b98-8d2d-30528cd87e93",
   "metadata": {},
   "outputs": [
    {
     "name": "stdout",
     "output_type": "stream",
     "text": [
      "import: arr1 arr2 arr4 arr8\n"
     ]
    }
   ],
   "source": [
    "reset_db()"
   ]
  },
  {
   "cell_type": "code",
   "execution_count": 143,
   "id": "e71b60e3-b88a-4449-a35f-8192763b62b9",
   "metadata": {},
   "outputs": [
    {
     "name": "stdout",
     "output_type": "stream",
     "text": [
      "DeleteResult({'n': 2000, 'ok': 1.0}, acknowledged=True) DeleteResult({'n': 0, 'ok': 1.0}, acknowledged=True)\n",
      "DeleteResult({'n': 2000, 'ok': 1.0}, acknowledged=True) DeleteResult({'n': 0, 'ok': 1.0}, acknowledged=True)\n",
      "DeleteResult({'n': 2000, 'ok': 1.0}, acknowledged=True) DeleteResult({'n': 0, 'ok': 1.0}, acknowledged=True)\n",
      "DeleteResult({'n': 2000, 'ok': 1.0}, acknowledged=True) DeleteResult({'n': 0, 'ok': 1.0}, acknowledged=True)\n"
     ]
    }
   ],
   "source": [
    "delete_mocks()"
   ]
  },
  {
   "cell_type": "code",
   "execution_count": 144,
   "id": "98f36816-923b-4a52-bb88-5a8072990424",
   "metadata": {},
   "outputs": [],
   "source": [
    "insert_mocks()"
   ]
  },
  {
   "cell_type": "code",
   "execution_count": 145,
   "id": "5e0f732e-dc9b-425b-8b7c-31d7582849f8",
   "metadata": {},
   "outputs": [
    {
     "name": "stdout",
     "output_type": "stream",
     "text": [
      "2000\n",
      "2000\n",
      "2000\n",
      "2000\n"
     ]
    }
   ],
   "source": [
    "count_mocks()"
   ]
  },
  {
   "cell_type": "code",
   "execution_count": 146,
   "id": "308af31c-21f8-4bd6-b3fc-e91fefd336b6",
   "metadata": {},
   "outputs": [
    {
     "name": "stdout",
     "output_type": "stream",
     "text": [
      "user: 1\n",
      "  depth:  1 2 4 8 ---\n",
      "DeleteResult({'n': 1500, 'ok': 1.0}, acknowledged=True) DeleteResult({'n': 0, 'ok': 1.0}, acknowledged=True)\n",
      "DeleteResult({'n': 1500, 'ok': 1.0}, acknowledged=True) DeleteResult({'n': 0, 'ok': 1.0}, acknowledged=True)\n",
      "DeleteResult({'n': 1500, 'ok': 1.0}, acknowledged=True) DeleteResult({'n': 0, 'ok': 1.0}, acknowledged=True)\n",
      "DeleteResult({'n': 1500, 'ok': 1.0}, acknowledged=True) DeleteResult({'n': 0, 'ok': 1.0}, acknowledged=True)\n",
      "user: 2\n",
      "  depth:  1 2 4 8 ---\n",
      "DeleteResult({'n': 1000, 'ok': 1.0}, acknowledged=True) DeleteResult({'n': 0, 'ok': 1.0}, acknowledged=True)\n",
      "DeleteResult({'n': 1000, 'ok': 1.0}, acknowledged=True) DeleteResult({'n': 0, 'ok': 1.0}, acknowledged=True)\n",
      "DeleteResult({'n': 1000, 'ok': 1.0}, acknowledged=True) DeleteResult({'n': 0, 'ok': 1.0}, acknowledged=True)\n",
      "DeleteResult({'n': 1000, 'ok': 1.0}, acknowledged=True) DeleteResult({'n': 0, 'ok': 1.0}, acknowledged=True)\n",
      "user: 4\n",
      "  depth:  1 2 4 8 ---\n",
      "DeleteResult({'n': 0, 'ok': 1.0}, acknowledged=True) DeleteResult({'n': 0, 'ok': 1.0}, acknowledged=True)\n",
      "DeleteResult({'n': 0, 'ok': 1.0}, acknowledged=True) DeleteResult({'n': 0, 'ok': 1.0}, acknowledged=True)\n",
      "DeleteResult({'n': 0, 'ok': 1.0}, acknowledged=True) DeleteResult({'n': 0, 'ok': 1.0}, acknowledged=True)\n",
      "DeleteResult({'n': 0, 'ok': 1.0}, acknowledged=True) DeleteResult({'n': 0, 'ok': 1.0}, acknowledged=True)\n"
     ]
    }
   ],
   "source": [
    "without_index = execute_delete(True)"
   ]
  },
  {
   "cell_type": "code",
   "execution_count": 100,
   "id": "d2850597-e713-4fd6-89e0-aa8ba70f276f",
   "metadata": {},
   "outputs": [],
   "source": [
    "createIndexes()"
   ]
  },
  {
   "cell_type": "code",
   "execution_count": 101,
   "id": "3340aeed-580d-43ef-8071-58d93c1a75a1",
   "metadata": {},
   "outputs": [
    {
     "name": "stdout",
     "output_type": "stream",
     "text": [
      "2000\n",
      "2000\n",
      "2000\n",
      "2000\n"
     ]
    }
   ],
   "source": [
    "count_mocks()"
   ]
  },
  {
   "cell_type": "code",
   "execution_count": 89,
   "id": "7363edb1-7838-4964-b7ff-1ededdbca564",
   "metadata": {},
   "outputs": [
    {
     "name": "stdout",
     "output_type": "stream",
     "text": [
      "user: 1\n",
      "  depth:  1 2 4 8 ---\n",
      "DeleteResult({'n': 0, 'ok': 1.0}, acknowledged=True)\n",
      "DeleteResult({'n': 0, 'ok': 1.0}, acknowledged=True)\n",
      "DeleteResult({'n': 0, 'ok': 1.0}, acknowledged=True)\n",
      "DeleteResult({'n': 0, 'ok': 1.0}, acknowledged=True)\n",
      "user: 2\n",
      "  depth:  1 2 4 8 ---\n",
      "DeleteResult({'n': 1000, 'ok': 1.0}, acknowledged=True)\n",
      "DeleteResult({'n': 1000, 'ok': 1.0}, acknowledged=True)\n",
      "DeleteResult({'n': 1000, 'ok': 1.0}, acknowledged=True)\n",
      "DeleteResult({'n': 1000, 'ok': 1.0}, acknowledged=True)\n",
      "user: 4\n",
      "  depth:  1 2 4 8 ---\n",
      "DeleteResult({'n': 0, 'ok': 1.0}, acknowledged=True)\n",
      "DeleteResult({'n': 0, 'ok': 1.0}, acknowledged=True)\n",
      "DeleteResult({'n': 0, 'ok': 1.0}, acknowledged=True)\n",
      "DeleteResult({'n': 0, 'ok': 1.0}, acknowledged=True)\n"
     ]
    }
   ],
   "source": [
    "with_index = execute_delete(True)"
   ]
  },
  {
   "cell_type": "code",
   "execution_count": 138,
   "id": "046a80ad-4e09-40f9-9cdd-3f899cb5e0db",
   "metadata": {},
   "outputs": [
    {
     "name": "stdout",
     "output_type": "stream",
     "text": [
      "user: 1\n",
      "  depth:  1 2 4 8 ---\n",
      "DeleteResult({'n': 1500, 'ok': 1.0}, acknowledged=True) DeleteResult({'n': 0, 'ok': 1.0}, acknowledged=True)\n",
      "DeleteResult({'n': 1500, 'ok': 1.0}, acknowledged=True) DeleteResult({'n': 0, 'ok': 1.0}, acknowledged=True)\n",
      "DeleteResult({'n': 1500, 'ok': 1.0}, acknowledged=True) DeleteResult({'n': 0, 'ok': 1.0}, acknowledged=True)\n",
      "DeleteResult({'n': 1500, 'ok': 1.0}, acknowledged=True) DeleteResult({'n': 0, 'ok': 1.0}, acknowledged=True)\n",
      "user: 2\n",
      "  depth:  1 2 4 8 ---\n",
      "DeleteResult({'n': 1000, 'ok': 1.0}, acknowledged=True) DeleteResult({'n': 0, 'ok': 1.0}, acknowledged=True)\n",
      "DeleteResult({'n': 1000, 'ok': 1.0}, acknowledged=True) DeleteResult({'n': 0, 'ok': 1.0}, acknowledged=True)\n",
      "DeleteResult({'n': 1000, 'ok': 1.0}, acknowledged=True) DeleteResult({'n': 0, 'ok': 1.0}, acknowledged=True)\n",
      "DeleteResult({'n': 1000, 'ok': 1.0}, acknowledged=True) DeleteResult({'n': 0, 'ok': 1.0}, acknowledged=True)\n",
      "user: 4\n",
      "  depth:  1 2 4 8 ---\n",
      "DeleteResult({'n': 0, 'ok': 1.0}, acknowledged=True) DeleteResult({'n': 0, 'ok': 1.0}, acknowledged=True)\n",
      "DeleteResult({'n': 0, 'ok': 1.0}, acknowledged=True) DeleteResult({'n': 0, 'ok': 1.0}, acknowledged=True)\n",
      "DeleteResult({'n': 0, 'ok': 1.0}, acknowledged=True) DeleteResult({'n': 0, 'ok': 1.0}, acknowledged=True)\n",
      "DeleteResult({'n': 0, 'ok': 1.0}, acknowledged=True) DeleteResult({'n': 0, 'ok': 1.0}, acknowledged=True)\n"
     ]
    }
   ],
   "source": [
    "with_index_non_where = execute_delete(False)"
   ]
  },
  {
   "cell_type": "code",
   "execution_count": 147,
   "id": "798ec12e-ae93-4cf7-9234-90dc50f4e7d8",
   "metadata": {},
   "outputs": [
    {
     "name": "stdout",
     "output_type": "stream",
     "text": [
      "user 1\n",
      "| 1 |        19|          3|      -83.1 |\n",
      "| 2 |        33|          3|      -91.6 |\n",
      "| 4 |       119|          3|      -97.8 |\n",
      "| 8 |      1662|          7|      -99.6 |\n",
      "--------\n",
      "user 2\n",
      "| 1 |        25|         10|      -58.8 |\n",
      "| 2 |        44|         11|      -73.9 |\n",
      "| 4 |       152|         26|      -83.0 |\n",
      "| 8 |      2316|        274|      -88.2 |\n",
      "--------\n",
      "user 4\n",
      "| 1 |        37|         16|      -57.9 |\n",
      "| 2 |        68|         18|      -73.3 |\n",
      "| 4 |       278|         43|      -84.6 |\n",
      "| 8 |      4011|        625|      -84.4 |\n",
      "--------\n"
     ]
    }
   ],
   "source": [
    "calculate_diffs(without_index, with_index)"
   ]
  },
  {
   "cell_type": "code",
   "execution_count": 148,
   "id": "e283956f-1472-40f7-85d3-a6175cba1dec",
   "metadata": {},
   "outputs": [
    {
     "name": "stdout",
     "output_type": "stream",
     "text": [
      "user 1\n",
      "| 1 |        19|         36|       87.0 |\n",
      "| 2 |        33|         43|       28.5 |\n",
      "| 4 |       119|        287|      142.0 |\n",
      "| 8 |      1662|       3991|      140.2 |\n",
      "--------\n",
      "user 2\n",
      "| 1 |        25|         36|       39.6 |\n",
      "| 2 |        44|         74|       67.6 |\n",
      "| 4 |       152|        332|      118.5 |\n",
      "| 8 |      2316|       4649|      100.8 |\n",
      "--------\n",
      "user 4\n",
      "| 1 |        37|         64|       70.4 |\n",
      "| 2 |        68|        150|      120.0 |\n",
      "| 4 |       278|        743|      167.0 |\n",
      "| 8 |      4011|       9604|      139.4 |\n",
      "--------\n"
     ]
    }
   ],
   "source": [
    "calculate_diffs(without_index, with_index_non_where)"
   ]
  },
  {
   "cell_type": "code",
   "execution_count": null,
   "id": "d6c4f8ba-63ff-4f59-841b-c26f33d57ef4",
   "metadata": {},
   "outputs": [],
   "source": []
  }
 ],
 "metadata": {
  "kernelspec": {
   "display_name": "Python 3 (ipykernel)",
   "language": "python",
   "name": "python3"
  },
  "language_info": {
   "codemirror_mode": {
    "name": "ipython",
    "version": 3
   },
   "file_extension": ".py",
   "mimetype": "text/x-python",
   "name": "python",
   "nbconvert_exporter": "python",
   "pygments_lexer": "ipython3",
   "version": "3.11.2"
  }
 },
 "nbformat": 4,
 "nbformat_minor": 5
}
