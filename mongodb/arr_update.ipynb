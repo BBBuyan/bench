{
 "cells": [
  {
   "cell_type": "code",
   "execution_count": 1,
   "id": "7cbc25ef-9ae0-4f1c-ae58-6a6c3a8f8077",
   "metadata": {},
   "outputs": [],
   "source": [
    "import pymongo\n",
    "import time\n",
    "import threading\n",
    "import json\n",
    "import random\n",
    "from bson import ObjectId\n",
    "from pymongo.collection import Collection"
   ]
  },
  {
   "cell_type": "code",
   "execution_count": 2,
   "id": "43c068f9-ca4e-4ecc-b0f1-0f3b45e41ea9",
   "metadata": {},
   "outputs": [],
   "source": [
    "cl = pymongo.MongoClient(\"mongodb://localhost:27017\")\n",
    "db = cl[\"deep\"]\n",
    "arr1 = db[\"arr1\"]\n",
    "arr2 = db[\"arr2\"]\n",
    "arr4 = db[\"arr4\"]\n",
    "arr8 = db[\"arr8\"]\n",
    "coll_list = [arr1, arr2, arr4, arr8]"
   ]
  },
  {
   "cell_type": "code",
   "execution_count": 3,
   "id": "b01de5f3-9d2b-4353-9ad5-f7790160bbc0",
   "metadata": {},
   "outputs": [],
   "source": [
    "user_list = [1, 2, 4]\n",
    "depth_list = [1, 2, 4, 8]"
   ]
  },
  {
   "cell_type": "code",
   "execution_count": 137,
   "id": "7d0acbbc-6be5-4160-8f2e-be7bc09918fe",
   "metadata": {},
   "outputs": [],
   "source": [
    "a1_where_index = {\"a1.device\": {\"$gte\": 9750}}\n",
    "a2_where_index = {\"a1.a2.device\": {\"$gte\": 9870}}\n",
    "a4_where_index = {\"a1.a2.a3.a4.device\": {\"$gte\": 9968}}\n",
    "a8_where_index = {\"a1.a2.a3.a4.a5.a6.a7.a8.device\": {\"$gte\": 9998}}\n",
    "where_index_list = [a1_where_index, a2_where_index, a4_where_index, a8_where_index]"
   ]
  },
  {
   "cell_type": "code",
   "execution_count": 138,
   "id": "a617c19c-24b8-4a1f-ae04-c7c252beee6a",
   "metadata": {},
   "outputs": [],
   "source": [
    "a1_where_non_index = {\"a1.total_volume_bytes\": {\"$gte\": 9750}}\n",
    "a2_where_non_index = {\"a1.a2.total_volume_bytes\": {\"$gte\": 9870}}\n",
    "a4_where_non_index = {\"a1.a2.a3.a4.total_volume_bytes\": {\"$gte\": 9968}}\n",
    "a8_where_non_index = {\"a1.a2.a3.a4.a5.a6.a7.a8.total_volume_bytes\": {\"$gte\": 9998}}\n",
    "where_non_index_list = [a1_where_non_index, a2_where_non_index, a4_where_non_index, a8_where_non_index]"
   ]
  },
  {
   "cell_type": "code",
   "execution_count": 139,
   "id": "81744cf5-1526-4b72-b3ce-4682b18e4462",
   "metadata": {},
   "outputs": [],
   "source": [
    "a1_update_index = [{\"$set\": {\"a1.device\": random.randint(0, 9999)}}]\n",
    "a2_update_index = [{\"$set\": {\"a1.a2.device\": random.randint(0, 9999)}}]\n",
    "a4_update_index = [{\"$set\": {\"a1.a2.a3.a4.device\": random.randint(0, 9999)}}]\n",
    "a8_update_index = [{\"$set\": {\"a1.a2.a3.a4.a5.a6.a7.a8.device\": random.randint(0, 9999)}}]\n",
    "\n",
    "update_index_list = [a1_update_index, a2_update_index, a4_update_index, a8_update_index]"
   ]
  },
  {
   "cell_type": "code",
   "execution_count": 140,
   "id": "7f695af4-9532-4d88-a3bb-3dd327276527",
   "metadata": {},
   "outputs": [],
   "source": [
    "a1_update_non_index = [{\"$set\": {\"a1.app\": \"deepbench\"}}]\n",
    "a2_update_non_index = [{\"$set\": {\"a1.a2.app\": \"deepbench\"}}]\n",
    "a4_update_non_index = [{\"$set\": {\"a1.a2.a3.a4.app\": \"deepbench\"}}]\n",
    "a8_update_non_index = [{\"$set\": {\"a1.a2.a3.a4.a5.a6.a7.a8.app\": \"deepbench\"}}]\n",
    "\n",
    "update_non_index_list = [a1_update_non_index, a2_update_non_index, a4_update_non_index, a8_update_non_index]"
   ]
  },
  {
   "cell_type": "code",
   "execution_count": 9,
   "id": "2fc77374-ab9b-423b-aba4-776042d42106",
   "metadata": {},
   "outputs": [],
   "source": [
    "def resolveUpdate(isUpdateIndex: bool, depth: int):\n",
    "    if(isUpdateIndex):\n",
    "        return update_index_list[depth]\n",
    "    else:\n",
    "        return update_non_index_list[depth]"
   ]
  },
  {
   "cell_type": "code",
   "execution_count": 10,
   "id": "53aeace3-f00c-42fd-af73-347dbb663212",
   "metadata": {},
   "outputs": [],
   "source": [
    "def resolveWhere(isIndexWhere: bool , depth: int):\n",
    "    if(isIndexWhere):\n",
    "        return where_index_list[depth]\n",
    "    else:\n",
    "        return where_non_index_list[depth]"
   ]
  },
  {
   "cell_type": "code",
   "execution_count": 11,
   "id": "96884b42-31cb-4729-b58b-6904da04cc6e",
   "metadata": {},
   "outputs": [],
   "source": [
    "def measure_update(user_id: int, duration_list: list[int], coll: Collection, whereClause: list[dict], updateClause: list[dict]):\n",
    "    start = time.perf_counter()\n",
    "    coll.update_many(whereClause, updateClause)\n",
    "    end = time.perf_counter()\n",
    "    duration = (end - start) * 1000\n",
    "    duration_list[user_id] = duration"
   ]
  },
  {
   "cell_type": "code",
   "execution_count": 12,
   "id": "9cd9a4a1-a5ac-40b8-ab1c-f1159a909794",
   "metadata": {},
   "outputs": [],
   "source": [
    "def test_update(num_of_users: int, depth: int, isWhereIndex: bool, isUpdateIndex: bool):\n",
    "    threads_list = []\n",
    "    duration_list = [None] * num_of_users\n",
    "    whereClause = resolveWhere(isWhereIndex, depth)\n",
    "    updateClause = resolveUpdate(isUpdateIndex, depth)\n",
    "    coll = coll_list[depth]\n",
    "    \n",
    "    for x in range(num_of_users):\n",
    "        t = threading.Thread(target=measure_update, args=(x, duration_list, coll, whereClause, updateClause,))\n",
    "        t.start()\n",
    "        threads_list.append(t)\n",
    "\n",
    "    \n",
    "    for t in threads_list:\n",
    "        t.join()\n",
    "        \n",
    "    result = sum(duration_list) / len(duration_list)\n",
    "    return result    "
   ]
  },
  {
   "cell_type": "code",
   "execution_count": 51,
   "id": "60a86c0b-2d7f-4a72-8cb5-767950a83b2e",
   "metadata": {},
   "outputs": [],
   "source": [
    "def execute_update(isWhereIndex: bool, isUpdateIndex: bool):\n",
    "    u_len = len(user_list)\n",
    "    d_len = len(depth_list)\n",
    "    result = [[0 for _ in range(d_len)] for _ in range(u_len)]\n",
    "    \n",
    "    for u in range(u_len):\n",
    "        print(f\"user: {user_list[u]}\")\n",
    "        print(\"  depth: \", end=\" \")\n",
    "        for d in range(d_len):\n",
    "            result[u][d] = test_update(user_list[u], d, isWhereIndex, isUpdateIndex)\n",
    "            print(f\"{depth_list[d]}\", end=\" \")\n",
    "        print(\"---\")\n",
    "        if isWhereIndex and isUpdateIndex:\n",
    "            print(\"  reset db: \", end=\" \")\n",
    "            reset_db()\n",
    "            print(\"done\")\n",
    "    return result"
   ]
  },
  {
   "cell_type": "code",
   "execution_count": 14,
   "id": "e73ee457-a702-4d93-a165-95e5f048507d",
   "metadata": {
    "jupyter": {
     "source_hidden": true
    }
   },
   "outputs": [],
   "source": [
    "def showIndexes():\n",
    "    for i in arr1.list_indexes():\n",
    "        print(i)\n",
    "    for a in arr2.list_indexes():\n",
    "        print(a)\n",
    "    for b in arr4.list_indexes():\n",
    "        print(b)\n",
    "    for c in arr8.list_indexes():\n",
    "        print(c)"
   ]
  },
  {
   "cell_type": "code",
   "execution_count": 32,
   "id": "9e609465-db1d-433c-9af4-25991672d33e",
   "metadata": {
    "jupyter": {
     "source_hidden": true
    }
   },
   "outputs": [],
   "source": [
    "def clearIndexes():\n",
    "    arr1.drop_indexes()\n",
    "    arr2.drop_indexes()\n",
    "    arr4.drop_indexes()\n",
    "    arr8.drop_indexes()"
   ]
  },
  {
   "cell_type": "code",
   "execution_count": 31,
   "id": "9b01447a-924b-4dff-b6c8-b728090d9121",
   "metadata": {
    "jupyter": {
     "source_hidden": true
    }
   },
   "outputs": [],
   "source": [
    "def createIndexes():\n",
    "    coll_list[0].create_index([(\"a1.device\", 1)])\n",
    "    coll_list[1].create_index([(\"a1.a2.device\", 1)])\n",
    "    coll_list[2].create_index([(\"a1.a2.a3.a4.device\", 1)])\n",
    "    coll_list[3].create_index([(\"a1.a2.a3.a4.a5.a6.a7.a8.device\", 1)])"
   ]
  },
  {
   "cell_type": "code",
   "execution_count": 17,
   "id": "5a9fd486-39c3-40a2-912a-fe411fdcf39d",
   "metadata": {
    "jupyter": {
     "source_hidden": true
    }
   },
   "outputs": [],
   "source": [
    "def deleteAllData():\n",
    "    arr1.delete_many({})\n",
    "    arr2.delete_many({})\n",
    "    arr4.delete_many({})\n",
    "    arr8.delete_many({})"
   ]
  },
  {
   "cell_type": "code",
   "execution_count": 49,
   "id": "79d7ab23-61fb-432c-ba74-9a98612f2a06",
   "metadata": {},
   "outputs": [],
   "source": [
    "def importData():\n",
    "    with open(\"data/arr1.json\") as f:\n",
    "        data = [json.loads(line) for line in f]\n",
    "        arr1.insert_many(data)\n",
    "    print(\"import: arr1\", end=\" \")\n",
    "    \n",
    "    with open(\"data/arr2.json\") as f:\n",
    "        data = [json.loads(line) for line in f]\n",
    "        arr2.insert_many(data)\n",
    "    print(\"arr2\", end=\" \")\n",
    "    \n",
    "    with open(\"data/arr4.json\") as f:\n",
    "        data = [json.loads(line) for line in f]\n",
    "        arr4.insert_many(data)\n",
    "    print(\"arr4\", end=\" \")\n",
    "        \n",
    "    with open(\"data/arr8.json\") as f:\n",
    "        data = [json.loads(line) for line in f]\n",
    "        arr8.insert_many(data)\n",
    "    print(\"arr8\", end=\" \")"
   ]
  },
  {
   "cell_type": "code",
   "execution_count": 45,
   "id": "01536ef3-cf73-4581-a6f0-098b4b23eb85",
   "metadata": {},
   "outputs": [],
   "source": [
    "def calculate_diffs(old, new):\n",
    "    for u in range(len(user_list)):\n",
    "        print(f\"user {user_list[u]}\")\n",
    "        for d in range(len(depth_list)):\n",
    "            o_val = old[u][d]\n",
    "            n_val = new[u][d]\n",
    "            diff = ((n_val - o_val) / o_val) * 100\n",
    "            print(f\"| {depth_list[d]} |{o_val:10.0f}| {n_val:10.0f}| {diff:10.1f} |\")\n",
    "        print(\"--------\")"
   ]
  },
  {
   "cell_type": "code",
   "execution_count": 44,
   "id": "27d8e3e0-f05f-4cec-84c2-745a19b4759e",
   "metadata": {},
   "outputs": [],
   "source": [
    "def calc_diff_precise(old, new):\n",
    "    for u in range(len(user_list)):\n",
    "        print(f\"user {user_list[u]}\")\n",
    "        for d in range(len(depth_list)):\n",
    "            o_val = old[u][d]\n",
    "            n_val = new[u][d]\n",
    "            diff = ((n_val - o_val) / o_val) * 100\n",
    "            print(f\"depth: {depth_list[d]}, {o_val:10.2f} {n_val:10.2f} {diff:10.2f}\")\n",
    "        print(\"--------\")"
   ]
  },
  {
   "cell_type": "code",
   "execution_count": 35,
   "id": "8f874ee2-1658-4776-8038-e93fca05ed1d",
   "metadata": {},
   "outputs": [],
   "source": [
    "def hasIndexes():\n",
    "    indexes = arr1.list_indexes().to_list()\n",
    "    if(len(indexes) == 2):\n",
    "        return True\n",
    "    else:\n",
    "        return False"
   ]
  },
  {
   "cell_type": "code",
   "execution_count": 50,
   "id": "352923f2-6299-4d79-b18b-b9d5b48ffb27",
   "metadata": {},
   "outputs": [],
   "source": [
    "def reset_db():\n",
    "    hadIndexes = hasIndexes()\n",
    "    if hadIndexes:\n",
    "        clearIndexes()\n",
    "        print(\"cleared indexes\", end=\", \")\n",
    "    deleteAllData()\n",
    "    print(\"deleted data\", end=\", \")\n",
    "    importData()\n",
    "    if hadIndexes:\n",
    "        createIndexes()\n",
    "        print(\"created indexes\", end=\", \")"
   ]
  },
  {
   "cell_type": "code",
   "execution_count": 141,
   "id": "c587f464-96b5-4e13-b3ae-449c58e05d0e",
   "metadata": {},
   "outputs": [],
   "source": [
    "clearIndexes()"
   ]
  },
  {
   "cell_type": "code",
   "execution_count": 156,
   "id": "1af24793-2596-4851-90c1-355d6a94f64d",
   "metadata": {},
   "outputs": [
    {
     "name": "stdout",
     "output_type": "stream",
     "text": [
      "SON([('v', 2), ('key', SON([('_id', 1)])), ('name', '_id_')])\n",
      "SON([('v', 2), ('key', SON([('a1.device', 1)])), ('name', 'a1.device_1')])\n",
      "SON([('v', 2), ('key', SON([('_id', 1)])), ('name', '_id_')])\n",
      "SON([('v', 2), ('key', SON([('a1.a2.device', 1)])), ('name', 'a1.a2.device_1')])\n",
      "SON([('v', 2), ('key', SON([('_id', 1)])), ('name', '_id_')])\n",
      "SON([('v', 2), ('key', SON([('a1.a2.a3.a4.device', 1)])), ('name', 'a1.a2.a3.a4.device_1')])\n",
      "SON([('v', 2), ('key', SON([('_id', 1)])), ('name', '_id_')])\n",
      "SON([('v', 2), ('key', SON([('a1.a2.a3.a4.a5.a6.a7.a8.device', 1)])), ('name', 'a1.a2.a3.a4.a5.a6.a7.a8.device_1')])\n"
     ]
    }
   ],
   "source": [
    "showIndexes()"
   ]
  },
  {
   "cell_type": "code",
   "execution_count": 157,
   "id": "13d58f71-3615-4ed3-938a-d6c9ab1306a0",
   "metadata": {},
   "outputs": [],
   "source": [
    "clearIndexes()"
   ]
  },
  {
   "cell_type": "code",
   "execution_count": 152,
   "id": "57e748a3-425c-4a47-84a0-85dc95961bca",
   "metadata": {},
   "outputs": [
    {
     "name": "stdout",
     "output_type": "stream",
     "text": [
      "cleared indexes, deleted data, import: arr1 arr2 arr4 arr8 created indexes, "
     ]
    }
   ],
   "source": [
    "reset_db()"
   ]
  },
  {
   "cell_type": "code",
   "execution_count": 158,
   "id": "a928a729-e8f8-4c71-bcb3-1fda9d25f913",
   "metadata": {},
   "outputs": [
    {
     "name": "stdout",
     "output_type": "stream",
     "text": [
      "user: 1\n",
      "  depth:  1 2 4 8 ---\n",
      "user: 2\n",
      "  depth:  1 2 4 8 ---\n",
      "user: 4\n",
      "  depth:  1 2 4 8 ---\n"
     ]
    }
   ],
   "source": [
    "without_index = execute_update(True, False)"
   ]
  },
  {
   "cell_type": "code",
   "execution_count": 145,
   "id": "690766aa-0e9a-4142-85b4-a55ff62d98fe",
   "metadata": {},
   "outputs": [],
   "source": [
    "createIndexes()"
   ]
  },
  {
   "cell_type": "code",
   "execution_count": 146,
   "id": "e260b257-525f-4bc1-baff-3af952b7814e",
   "metadata": {},
   "outputs": [
    {
     "name": "stdout",
     "output_type": "stream",
     "text": [
      "user: 1\n",
      "  depth:  1 2 4 8 ---\n",
      "user: 2\n",
      "  depth:  1 2 4 8 ---\n",
      "user: 4\n",
      "  depth:  1 2 4 8 ---\n"
     ]
    }
   ],
   "source": [
    "where_index_update_non_index = execute_update(True, False)"
   ]
  },
  {
   "cell_type": "code",
   "execution_count": 154,
   "id": "213cab4a-797d-43b6-b8e5-60a58e5b70a1",
   "metadata": {},
   "outputs": [
    {
     "name": "stdout",
     "output_type": "stream",
     "text": [
      "user: 1\n",
      "  depth:  1 2 4 8 ---\n",
      "  reset db:  cleared indexes, deleted data, import: arr1 arr2 arr4 arr8 created indexes, done\n",
      "user: 2\n",
      "  depth:  1 2 4 8 ---\n",
      "  reset db:  cleared indexes, deleted data, import: arr1 arr2 arr4 arr8 created indexes, done\n",
      "user: 4\n",
      "  depth:  1 2 4 8 ---\n",
      "  reset db:  cleared indexes, deleted data, import: arr1 arr2 arr4 arr8 created indexes, done\n"
     ]
    }
   ],
   "source": [
    "where_index_update_index = execute_update(True, True)"
   ]
  },
  {
   "cell_type": "code",
   "execution_count": 148,
   "id": "6f69f0e7-a64d-4e0b-bf1d-5e7ef762ba82",
   "metadata": {},
   "outputs": [
    {
     "name": "stdout",
     "output_type": "stream",
     "text": [
      "user: 1\n",
      "  depth:  1 2 4 8 ---\n",
      "user: 2\n",
      "  depth:  1 2 4 8 ---\n",
      "user: 4\n",
      "  depth:  1 2 4 8 ---\n"
     ]
    }
   ],
   "source": [
    "where_non_index_update_index = execute_update(False, True)"
   ]
  },
  {
   "cell_type": "code",
   "execution_count": 161,
   "id": "5391bf01-0515-4a7d-82c4-ac4135faf075",
   "metadata": {},
   "outputs": [
    {
     "name": "stdout",
     "output_type": "stream",
     "text": [
      "user 1\n",
      "| 1 |        55|          9|      -83.6 |\n",
      "| 2 |        59|         13|      -77.4 |\n",
      "| 4 |       222|         47|      -78.8 |\n",
      "| 8 |      2432|        421|      -82.7 |\n",
      "--------\n",
      "user 2\n",
      "| 1 |        18|          8|      -54.3 |\n",
      "| 2 |        42|         13|      -67.9 |\n",
      "| 4 |       134|         46|      -66.0 |\n",
      "| 8 |      2413|        630|      -73.9 |\n",
      "--------\n",
      "user 4\n",
      "| 1 |        29|         15|      -48.4 |\n",
      "| 2 |        60|         21|      -64.7 |\n",
      "| 4 |       254|         72|      -71.5 |\n",
      "| 8 |      4473|       1296|      -71.0 |\n",
      "--------\n"
     ]
    }
   ],
   "source": [
    "calculate_diffs(without_index, where_index_update_non_index)"
   ]
  },
  {
   "cell_type": "code",
   "execution_count": 163,
   "id": "9710b683-fd0f-49c3-b7b0-d3a106f82ed6",
   "metadata": {},
   "outputs": [
    {
     "name": "stdout",
     "output_type": "stream",
     "text": [
      "user 1\n",
      "| 1 |        55|         51|       -6.9 |\n",
      "| 2 |        59|         50|      -14.4 |\n",
      "| 4 |       222|        170|      -23.3 |\n",
      "| 8 |      2432|       1718|      -29.4 |\n",
      "--------\n",
      "user 2\n",
      "| 1 |        18|         29|       59.0 |\n",
      "| 2 |        42|         49|       18.4 |\n",
      "| 4 |       134|        141|        5.4 |\n",
      "| 8 |      2413|       1905|      -21.1 |\n",
      "--------\n",
      "user 4\n",
      "| 1 |        29|         45|       54.0 |\n",
      "| 2 |        60|         67|       12.2 |\n",
      "| 4 |       254|        233|       -8.3 |\n",
      "| 8 |      4473|       3506|      -21.6 |\n",
      "--------\n"
     ]
    }
   ],
   "source": [
    "calculate_diffs(without_index, where_index_update_index)"
   ]
  },
  {
   "cell_type": "code",
   "execution_count": 162,
   "id": "9b0c41b4-0772-4761-b252-90f73c309693",
   "metadata": {},
   "outputs": [
    {
     "name": "stdout",
     "output_type": "stream",
     "text": [
      "user 1\n",
      "| 1 |        55|         62|       12.7 |\n",
      "| 2 |        59|        162|      175.5 |\n",
      "| 4 |       222|        263|       18.5 |\n",
      "| 8 |      2432|       4091|       68.2 |\n",
      "--------\n",
      "user 2\n",
      "| 1 |        18|         33|       78.7 |\n",
      "| 2 |        42|         57|       36.9 |\n",
      "| 4 |       134|        278|      107.5 |\n",
      "| 8 |      2413|       4602|       90.7 |\n",
      "--------\n",
      "user 4\n",
      "| 1 |        29|         49|       67.8 |\n",
      "| 2 |        60|        125|      108.2 |\n",
      "| 4 |       254|        603|      137.4 |\n",
      "| 8 |      4473|      10165|      127.3 |\n",
      "--------\n"
     ]
    }
   ],
   "source": [
    "calculate_diffs(without_index, where_non_index_update_index)"
   ]
  },
  {
   "cell_type": "code",
   "execution_count": null,
   "id": "58c121fa-a843-4eed-89ce-1ac7d09b95e0",
   "metadata": {},
   "outputs": [],
   "source": []
  }
 ],
 "metadata": {
  "kernelspec": {
   "display_name": "Python 3 (ipykernel)",
   "language": "python",
   "name": "python3"
  },
  "language_info": {
   "codemirror_mode": {
    "name": "ipython",
    "version": 3
   },
   "file_extension": ".py",
   "mimetype": "text/x-python",
   "name": "python",
   "nbconvert_exporter": "python",
   "pygments_lexer": "ipython3",
   "version": "3.11.2"
  }
 },
 "nbformat": 4,
 "nbformat_minor": 5
}
