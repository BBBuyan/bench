{
 "cells": [
  {
   "cell_type": "code",
   "execution_count": 13,
   "id": "ae70a207-63c8-48bb-81b5-50b457d2dad5",
   "metadata": {},
   "outputs": [],
   "source": [
    "import pymongo\n",
    "import time\n",
    "import threading\n",
    "import random"
   ]
  },
  {
   "cell_type": "code",
   "execution_count": 14,
   "id": "b63d9e19-0fba-4faf-9d5c-b9e0e749b85e",
   "metadata": {},
   "outputs": [],
   "source": [
    "cl = pymongo.MongoClient(\"mongodb://localhost:27017\")\n",
    "db = cl[\"deep\"]\n",
    "col = db[\"flat\"]"
   ]
  },
  {
   "cell_type": "code",
   "execution_count": 15,
   "id": "3b20da99-c626-4119-98c6-3524e5c82478",
   "metadata": {},
   "outputs": [
    {
     "data": {
      "text/plain": [
       "{'_id': ObjectId('6866553db21c637ab5da3d6c'),\n",
       " 'number_of_records': 999,\n",
       " 'activity_sec': 93,\n",
       " 'application': 'effect',\n",
       " 'device': 767,\n",
       " 'volume_total_bytes': 2606,\n",
       " 'subscribers': 191}"
      ]
     },
     "execution_count": 15,
     "metadata": {},
     "output_type": "execute_result"
    }
   ],
   "source": [
    "col.find_one()"
   ]
  },
  {
   "cell_type": "code",
   "execution_count": 28,
   "id": "8c546ddc-1f9c-46dd-bd36-bca7208a03dd",
   "metadata": {},
   "outputs": [
    {
     "name": "stdout",
     "output_type": "stream",
     "text": [
      "SON([('v', 2), ('key', SON([('_id', 1)])), ('name', '_id_')])\n"
     ]
    }
   ],
   "source": [
    "indexes = col.list_indexes()\n",
    "for i in indexes:\n",
    "    print(i)"
   ]
  },
  {
   "cell_type": "code",
   "execution_count": 16,
   "id": "48744dd0-e309-4604-af76-73224fc69d01",
   "metadata": {},
   "outputs": [],
   "source": [
    "def calc_perf(old, new):\n",
    "    rounded_old = round(old)\n",
    "    rounded_new = round(new)\n",
    "    ratio = ((rounded_old - rounded_new) / rounded_old) * 100\n",
    "    print(f\"{rounded_old} {rounded_new} {ratio:.1f}\")"
   ]
  },
  {
   "cell_type": "code",
   "execution_count": 17,
   "id": "2eb15cc9-0b1e-45f2-9068-3c7575695eac",
   "metadata": {},
   "outputs": [],
   "source": [
    "def create_batch(batch_size):\n",
    "    batch = []\n",
    "    for _ in range(batch_size):\n",
    "        el = {\n",
    "            \"num_of_records\": random.randint(0,999),\n",
    "            \"activity_sec\": random.randint(0,99),\n",
    "            \"application\": \"insert_batch_member\",\n",
    "            \"device\": random.randint(0,9999),\n",
    "            \"volume_total_bytes\": random.randint(0,9999),\n",
    "            \"subscribers\": random.randint(0,999),\n",
    "        }\n",
    "        batch.append(el)\n",
    "    return batch"
   ]
  },
  {
   "cell_type": "code",
   "execution_count": 18,
   "id": "b8a36125-11af-4dfc-af82-37853295e368",
   "metadata": {},
   "outputs": [],
   "source": [
    "def measure_insert(user_id, batch_size, duration_list):\n",
    "    duration = 0\n",
    "    \n",
    "    for _ in range(10):\n",
    "        batch = create_batch(batch_size)\n",
    "        start = time.perf_counter()\n",
    "        col.insert_many(batch)\n",
    "        end = time.perf_counter()\n",
    "        \n",
    "        duration += end - start\n",
    "    \n",
    "    # take average duration and convert to ms\n",
    "    duration = (duration / 10) * 1000\n",
    "    duration_list[user_id] = duration"
   ]
  },
  {
   "cell_type": "code",
   "execution_count": 19,
   "id": "c71bbfd9-d3a0-438a-858a-3364d06eb895",
   "metadata": {},
   "outputs": [],
   "source": [
    "def insert_test(num_of_users, batch_size):\n",
    "    threads_list=[]\n",
    "    duration_list = [None] * num_of_users\n",
    "        \n",
    "    batch_size = 10000\n",
    "    for x in range(num_of_users):\n",
    "        t = threading.Thread(target=measure_insert, args=(x, batch_size, duration_list,))\n",
    "        t.start()\n",
    "        threads_list.append(t)\n",
    "    \n",
    "    for t in threads_list:\n",
    "        t.join()\n",
    "\n",
    "    avg = (sum(duration_list) / len(duration_list))\n",
    "    return avg"
   ]
  },
  {
   "cell_type": "code",
   "execution_count": 20,
   "id": "c6243cdf-6b3a-4e44-85cc-8d6e2a0e1632",
   "metadata": {},
   "outputs": [],
   "source": [
    "num_of_docs = 10000\n",
    "\n",
    "one_user_old = insert_test(1, num_of_docs)\n",
    "\n",
    "two_user_old = insert_test(2, num_of_docs)\n",
    "\n",
    "four_user_old = insert_test(4, num_of_docs)"
   ]
  },
  {
   "cell_type": "code",
   "execution_count": 21,
   "id": "66f0919f-38c0-4268-b3f5-0b5cf6080684",
   "metadata": {},
   "outputs": [],
   "source": [
    "index_name = col.create_index([(\"device\", 1)])"
   ]
  },
  {
   "cell_type": "code",
   "execution_count": 22,
   "id": "2dee86ea-d32a-45f2-87e4-b6178a6d3706",
   "metadata": {},
   "outputs": [],
   "source": [
    "one_user_new = insert_test(1, num_of_docs)\n",
    "two_user_new = insert_test(2, num_of_docs)\n",
    "four_user_new = insert_test(4, num_of_docs)"
   ]
  },
  {
   "cell_type": "code",
   "execution_count": 23,
   "id": "92b06eed-8717-4d58-b1b9-97e605090d64",
   "metadata": {},
   "outputs": [
    {
     "name": "stdout",
     "output_type": "stream",
     "text": [
      "96 165 -71.9\n",
      "146 210 -43.8\n",
      "298 384 -28.9\n"
     ]
    }
   ],
   "source": [
    "calc_perf(one_user_old, one_user_new)\n",
    "calc_perf(two_user_old, two_user_new)\n",
    "calc_perf(four_user_old, four_user_new)"
   ]
  },
  {
   "cell_type": "code",
   "execution_count": 24,
   "id": "e97c3795-4887-4604-89b3-4e64f794c0dd",
   "metadata": {},
   "outputs": [
    {
     "data": {
      "text/plain": [
       "1400000"
      ]
     },
     "execution_count": 24,
     "metadata": {},
     "output_type": "execute_result"
    }
   ],
   "source": [
    "col.count_documents({\"application\": \"insert_batch_member\"})"
   ]
  },
  {
   "cell_type": "code",
   "execution_count": 25,
   "id": "512c3fc3-690d-4f62-8405-a1d9f294f460",
   "metadata": {},
   "outputs": [
    {
     "data": {
      "text/plain": [
       "DeleteResult({'n': 1400000, 'ok': 1.0}, acknowledged=True)"
      ]
     },
     "execution_count": 25,
     "metadata": {},
     "output_type": "execute_result"
    }
   ],
   "source": [
    "col.delete_many({\"application\": \"insert_batch_member\"})"
   ]
  },
  {
   "cell_type": "code",
   "execution_count": 26,
   "id": "6081c06b-26d6-47e5-8df4-f118356bcaa3",
   "metadata": {},
   "outputs": [
    {
     "data": {
      "text/plain": [
       "500000"
      ]
     },
     "execution_count": 26,
     "metadata": {},
     "output_type": "execute_result"
    }
   ],
   "source": [
    "col.count_documents({})"
   ]
  },
  {
   "cell_type": "code",
   "execution_count": 27,
   "id": "55f5012b-4cc9-4406-ad07-187ba4f9710e",
   "metadata": {},
   "outputs": [],
   "source": [
    "col.drop_index(\"device_1\")"
   ]
  }
 ],
 "metadata": {
  "kernelspec": {
   "display_name": "Python 3 (ipykernel)",
   "language": "python",
   "name": "python3"
  },
  "language_info": {
   "codemirror_mode": {
    "name": "ipython",
    "version": 3
   },
   "file_extension": ".py",
   "mimetype": "text/x-python",
   "name": "python",
   "nbconvert_exporter": "python",
   "pygments_lexer": "ipython3",
   "version": "3.11.2"
  }
 },
 "nbformat": 4,
 "nbformat_minor": 5
}
