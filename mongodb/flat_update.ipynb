{
 "cells": [
  {
   "cell_type": "code",
   "execution_count": 1,
   "id": "d81ce3b8-d623-4c67-993e-a296486eff43",
   "metadata": {},
   "outputs": [],
   "source": [
    "import pymongo\n",
    "import time\n",
    "import threading\n",
    "import random"
   ]
  },
  {
   "cell_type": "code",
   "execution_count": 2,
   "id": "618c3342-8e6d-4f33-bdd4-117015eaaf89",
   "metadata": {},
   "outputs": [],
   "source": [
    "cl = pymongo.MongoClient(\"mongodb://localhost:27017\")\n",
    "db = cl[\"deep\"]\n",
    "col = db[\"flat\"]"
   ]
  },
  {
   "cell_type": "code",
   "execution_count": 3,
   "id": "7f888cac-3f39-4bf5-9325-7e247fbaba08",
   "metadata": {},
   "outputs": [
    {
     "data": {
      "text/plain": [
       "{'_id': ObjectId('6866846b7fb3cacee8f2e148'),\n",
       " 'number_of_records': 600,\n",
       " 'activity_sec': 38,\n",
       " 'application': 'floor',\n",
       " 'device': 2346,\n",
       " 'volume_total_bytes': 5855,\n",
       " 'subscribers': 709}"
      ]
     },
     "execution_count": 3,
     "metadata": {},
     "output_type": "execute_result"
    }
   ],
   "source": [
    "col.find_one()"
   ]
  },
  {
   "cell_type": "code",
   "execution_count": 27,
   "id": "eef5d3fd-b7d6-4ae1-b275-1d9b7533fbd6",
   "metadata": {},
   "outputs": [
    {
     "data": {
      "text/plain": [
       "10850"
      ]
     },
     "execution_count": 27,
     "metadata": {},
     "output_type": "execute_result"
    }
   ],
   "source": [
    "col.count_documents({\"device\": {\"$lt\": 220}})"
   ]
  },
  {
   "cell_type": "code",
   "execution_count": 13,
   "id": "9c15cd11-cb20-45b1-9dbc-e48dba43f14b",
   "metadata": {},
   "outputs": [],
   "source": [
    "def prepare():\n",
    "    col.update_many({\"device\": {\"$lt\": 220}}, [{\"$set\": {\"old_device\": \"$device\"}}])\n",
    "    col.update_many({\"device\": {\"$lt\": 220}}, [{\"$set\": {\"device\": 0}}])"
   ]
  },
  {
   "cell_type": "code",
   "execution_count": 14,
   "id": "06fcf78c-1f31-413b-afe1-d9105190b96d",
   "metadata": {},
   "outputs": [],
   "source": [
    "def undo_prepare():\n",
    "    col.update_many({\"old_device\": {\"$exists\": True}}, [\n",
    "        {\"$set\": {\"device\": \"$old_device\"}},\n",
    "        {\"$unset\": \"old_device\"}\n",
    "    ])"
   ]
  },
  {
   "cell_type": "code",
   "execution_count": 49,
   "id": "c4c61beb-2103-4266-b796-b5dd3351a435",
   "metadata": {},
   "outputs": [
    {
     "name": "stdout",
     "output_type": "stream",
     "text": [
      "SON([('v', 2), ('key', SON([('_id', 1)])), ('name', '_id_')])\n"
     ]
    }
   ],
   "source": [
    "indexes = col.list_indexes()\n",
    "for i in indexes:\n",
    "    print(i)"
   ]
  },
  {
   "cell_type": "code",
   "execution_count": 48,
   "id": "2b23f708-4c77-46cd-a261-7154ba690eb0",
   "metadata": {},
   "outputs": [
    {
     "data": {
      "text/plain": [
       "'device_1'"
      ]
     },
     "execution_count": 48,
     "metadata": {},
     "output_type": "execute_result"
    }
   ],
   "source": [
    "col.create_index([(\"device\", 1)])"
   ]
  },
  {
   "cell_type": "code",
   "execution_count": 48,
   "id": "cac11575-35ed-46aa-92ca-161bd45f0c90",
   "metadata": {},
   "outputs": [],
   "source": [
    "col.drop_index(\"device_1\")"
   ]
  },
  {
   "cell_type": "code",
   "execution_count": 30,
   "id": "71e8f426-7cbd-49da-87fa-ed4896fb9f62",
   "metadata": {},
   "outputs": [],
   "source": [
    "def calc_perf(old, new):\n",
    "    rounded_old = round(old)\n",
    "    rounded_new = round(new)\n",
    "    ratio = ((rounded_old - rounded_new) / rounded_old) * 100\n",
    "    print(f\"{rounded_old} {rounded_new} {ratio:.1f}\")"
   ]
  },
  {
   "cell_type": "code",
   "execution_count": 145,
   "id": "30283cd3-a6b9-43ac-9899-702b82ff7fad",
   "metadata": {},
   "outputs": [],
   "source": [
    "# Update non-index\n",
    "def measure_update_1(user_id, duration_list):\n",
    "    duration = 0\n",
    "\n",
    "    for _ in range(10):\n",
    "        start = time.perf_counter()\n",
    "        col.update_many({\"device\": {\"$lt\": 220}}, {\"$set\": {\"application\": \"deepbench\"}})\n",
    "        end = time.perf_counter()\n",
    "        duration += end - start\n",
    "\n",
    "    duration = (duration/10) * 1000\n",
    "    duration_list[user_id] = duration"
   ]
  },
  {
   "cell_type": "code",
   "execution_count": 146,
   "id": "90eac8e9-0578-40c0-949d-b32dc63f124a",
   "metadata": {},
   "outputs": [],
   "source": [
    "def update_non_index(num_of_users):\n",
    "    threads_list = []\n",
    "    duration_list = [None] * num_of_users\n",
    "    \n",
    "    for x in range(num_of_users):\n",
    "        t = threading.Thread(target=measure_update_1, args=(x, duration_list,))\n",
    "        t.start()\n",
    "        threads_list.append(t)\n",
    "    \n",
    "    for t in threads_list:\n",
    "        t.join()\n",
    "\n",
    "    avg = (sum(duration_list) / len(duration_list))\n",
    "    return avg"
   ]
  },
  {
   "cell_type": "code",
   "execution_count": 23,
   "id": "98bd29dd-2561-4933-8ea2-9e531d475699",
   "metadata": {},
   "outputs": [],
   "source": [
    "prepare()"
   ]
  },
  {
   "cell_type": "code",
   "execution_count": 147,
   "id": "3455456c-efa5-44bc-b782-5e71e446f369",
   "metadata": {},
   "outputs": [],
   "source": [
    "one_user_old = update_non_index(1)\n",
    "two_user_old = update_non_index(2)\n",
    "four_user_old = update_non_index(4)\n",
    "\n",
    "col.create_index([(\"device\", 1)])\n",
    "\n",
    "one_user_new = update_non_index(1)\n",
    "two_user_new = update_non_index(2)\n",
    "four_user_new = update_non_index(4)"
   ]
  },
  {
   "cell_type": "code",
   "execution_count": 161,
   "id": "9543bfa5-132d-4413-8f52-eb1e30ff0242",
   "metadata": {},
   "outputs": [
    {
     "name": "stdout",
     "output_type": "stream",
     "text": [
      "343 96 72.0\n",
      "429 111 74.1\n",
      "842 178 78.9\n"
     ]
    }
   ],
   "source": [
    "calc_perf(one_user_old, one_user_new)\n",
    "calc_perf(two_user_old, two_user_new)\n",
    "calc_perf(four_user_old, four_user_new)"
   ]
  },
  {
   "cell_type": "code",
   "execution_count": 150,
   "id": "cd194476-3e8f-4174-9914-a8b0754ce5f2",
   "metadata": {},
   "outputs": [],
   "source": [
    "col.drop_index(\"device_1\")"
   ]
  },
  {
   "cell_type": "code",
   "execution_count": 152,
   "id": "f3aa3ab5-7b24-4e13-95a7-97469a9188f1",
   "metadata": {},
   "outputs": [],
   "source": [
    "def measure_update_2(user_id, duration_list):\n",
    "    duration = 0\n",
    "\n",
    "    for _ in range(10):\n",
    "        num = random.randint(0, 219)\n",
    "        start = time.perf_counter()\n",
    "        col.update_many({\"device\": {\"$lt\": 220}}, {\"$set\": {\"device\": num}})\n",
    "        end = time.perf_counter()\n",
    "        duration += end - start\n",
    "\n",
    "    duration = (duration/10) * 1000\n",
    "    duration_list[user_id] = duration"
   ]
  },
  {
   "cell_type": "code",
   "execution_count": 153,
   "id": "9ddf1106-04d9-4fa5-b87e-dcb58043d19d",
   "metadata": {},
   "outputs": [],
   "source": [
    "def update_index(num_of_users):\n",
    "    threads_list = []\n",
    "    duration_list = [None] * num_of_users\n",
    "    \n",
    "    for x in range(num_of_users):\n",
    "        t = threading.Thread(target=measure_update_2, args=(x, duration_list,))\n",
    "        t.start()\n",
    "        threads_list.append(t)\n",
    "    \n",
    "    for t in threads_list:\n",
    "        t.join()\n",
    "\n",
    "    avg = (sum(duration_list) / len(duration_list))\n",
    "    return avg"
   ]
  },
  {
   "cell_type": "code",
   "execution_count": 154,
   "id": "2048f5f5-24bb-4679-8e81-e4ea1b8174b9",
   "metadata": {},
   "outputs": [],
   "source": [
    "one_res_old = update_index(1)\n",
    "two_res_old = update_index(2)\n",
    "four_res_old = update_index(4)"
   ]
  },
  {
   "cell_type": "code",
   "execution_count": 155,
   "id": "0465ad06-42a3-478b-871a-241793035c77",
   "metadata": {},
   "outputs": [
    {
     "data": {
      "text/plain": [
       "'device_1'"
      ]
     },
     "execution_count": 155,
     "metadata": {},
     "output_type": "execute_result"
    }
   ],
   "source": [
    "col.create_index([(\"device\", 1)])"
   ]
  },
  {
   "cell_type": "code",
   "execution_count": 156,
   "id": "f79b8db8-9d5a-491c-bf1c-5d366104e26e",
   "metadata": {},
   "outputs": [],
   "source": [
    "one_res_new = update_index(1)\n",
    "two_res_new = update_index(2)\n",
    "four_res_new = update_index(4)"
   ]
  },
  {
   "cell_type": "code",
   "execution_count": 162,
   "id": "9f051575-2373-4d0e-821f-2b0aa7fe78ea",
   "metadata": {},
   "outputs": [
    {
     "name": "stdout",
     "output_type": "stream",
     "text": [
      "454 335 26.2\n",
      "519 388 25.2\n",
      "968 679 29.9\n"
     ]
    }
   ],
   "source": [
    "calc_perf(one_res_old, one_res_new)\n",
    "calc_perf(two_res_old, two_res_new)\n",
    "calc_perf(four_res_old, four_res_new)"
   ]
  },
  {
   "cell_type": "code",
   "execution_count": 28,
   "id": "b171963e-839d-4278-b4ce-a5624379955e",
   "metadata": {},
   "outputs": [],
   "source": [
    "undo_prepare()"
   ]
  },
  {
   "cell_type": "code",
   "execution_count": null,
   "id": "28ba6a39-b2ff-4b1e-914b-bbef9bf26bb3",
   "metadata": {},
   "outputs": [],
   "source": []
  },
  {
   "cell_type": "code",
   "execution_count": null,
   "id": "de33caa6-dc93-4309-b3e9-8a7b9dd76464",
   "metadata": {},
   "outputs": [],
   "source": []
  },
  {
   "cell_type": "code",
   "execution_count": 12,
   "id": "fbd32572-44eb-4ab5-851d-312d722e0366",
   "metadata": {},
   "outputs": [],
   "source": [
    "def prepare_3():\n",
    "    col.update_many({\"number_of_records\": {\"$gt\": 978}}, [\n",
    "        {\"$set\": {\"old_device\": \"$device\"}}\n",
    "    ])"
   ]
  },
  {
   "cell_type": "code",
   "execution_count": 21,
   "id": "53e2b2ca-0acb-4f1d-aa6d-657e2b1ec9bf",
   "metadata": {},
   "outputs": [],
   "source": [
    "def undo_prepare_3():\n",
    "    col.update_many({\"old_device\": {\"$exists\": True}}, [\n",
    "        {\"$set\": {\"device\": \"$old_device\"}},\n",
    "        {\"$unset\": \"old_device\"}\n",
    "    ])"
   ]
  },
  {
   "cell_type": "code",
   "execution_count": 36,
   "id": "ca65e2c9-f3c0-4644-9f6a-6fcaa4d7db4d",
   "metadata": {},
   "outputs": [],
   "source": [
    "prepare_3()"
   ]
  },
  {
   "cell_type": "code",
   "execution_count": 44,
   "id": "fb12018f-a4fe-496c-bd84-bd96ff12a736",
   "metadata": {},
   "outputs": [
    {
     "data": {
      "text/plain": [
       "{'_id': ObjectId('6866846b7fb3cacee8f2e14a'),\n",
       " 'number_of_records': 999,\n",
       " 'activity_sec': 93,\n",
       " 'application': 'effect',\n",
       " 'device': 2257,\n",
       " 'volume_total_bytes': 2606,\n",
       " 'subscribers': 191,\n",
       " 'old_device': 767}"
      ]
     },
     "execution_count": 44,
     "metadata": {},
     "output_type": "execute_result"
    }
   ],
   "source": [
    "col.find_one({\"number_of_records\": {\"$gt\": 978}})"
   ]
  },
  {
   "cell_type": "code",
   "execution_count": 50,
   "id": "fa2eaff0-2dea-46ef-b31e-357d3683231e",
   "metadata": {},
   "outputs": [
    {
     "data": {
      "text/plain": [
       "{'_id': ObjectId('6866846b7fb3cacee8f2e14a'),\n",
       " 'number_of_records': 999,\n",
       " 'activity_sec': 93,\n",
       " 'application': 'effect',\n",
       " 'device': 767,\n",
       " 'volume_total_bytes': 2606,\n",
       " 'subscribers': 191}"
      ]
     },
     "execution_count": 50,
     "metadata": {},
     "output_type": "execute_result"
    }
   ],
   "source": [
    "col.find_one({\"number_of_records\": {\"$gt\": 978}})"
   ]
  },
  {
   "cell_type": "code",
   "execution_count": 43,
   "id": "0f1b8ea5-48a9-4f44-8877-bc4f6de37a24",
   "metadata": {},
   "outputs": [
    {
     "data": {
      "text/plain": [
       "10578"
      ]
     },
     "execution_count": 43,
     "metadata": {},
     "output_type": "execute_result"
    }
   ],
   "source": [
    "col.count_documents({\"number_of_records\": {\"$gt\": 978}})"
   ]
  },
  {
   "cell_type": "code",
   "execution_count": 27,
   "id": "bdd5129b-b23f-47fa-ba69-8ffc822c5936",
   "metadata": {},
   "outputs": [],
   "source": [
    "def measure_update_3(user_id, duration_list):\n",
    "    duration = 0\n",
    "\n",
    "    for _ in range(10):\n",
    "        num = random.randint(0, 9999)\n",
    "        start = time.perf_counter()\n",
    "        col.update_many({\"number_of_records\": {\"$gt\": 978}}, {\"$set\": {\"device\": num}})\n",
    "        end = time.perf_counter()\n",
    "        duration += end - start\n",
    "\n",
    "    duration = (duration/10) * 1000\n",
    "    duration_list[user_id] = duration"
   ]
  },
  {
   "cell_type": "code",
   "execution_count": 28,
   "id": "689366e6-8414-46a4-9050-0c9b73b32067",
   "metadata": {},
   "outputs": [],
   "source": [
    "def update_non_index(num_of_users):\n",
    "    threads_list = []\n",
    "    duration_list = [None] * num_of_users\n",
    "    \n",
    "    for x in range(num_of_users):\n",
    "        t = threading.Thread(target=measure_update_3, args=(x, duration_list,))\n",
    "        t.start()\n",
    "        threads_list.append(t)\n",
    "    \n",
    "    for t in threads_list:\n",
    "        t.join()\n",
    "\n",
    "    avg = (sum(duration_list) / len(duration_list))\n",
    "    return avg"
   ]
  },
  {
   "cell_type": "code",
   "execution_count": 41,
   "id": "156576bf-3dad-480e-a42a-6d5711d8536c",
   "metadata": {},
   "outputs": [],
   "source": [
    "one_nind_old = update_non_index(1)\n",
    "two_nind_old = update_non_index(1)\n",
    "four_nind_old = update_non_index(1)"
   ]
  },
  {
   "cell_type": "code",
   "execution_count": 42,
   "id": "755a134f-c7e7-417f-949e-d7ba2c7d391f",
   "metadata": {},
   "outputs": [
    {
     "data": {
      "text/plain": [
       "'device_1'"
      ]
     },
     "execution_count": 42,
     "metadata": {},
     "output_type": "execute_result"
    }
   ],
   "source": [
    "col.create_index([(\"device\", 1)])"
   ]
  },
  {
   "cell_type": "code",
   "execution_count": 45,
   "id": "0bc9f2f3-113c-458f-91b0-7ce5cb859c8c",
   "metadata": {},
   "outputs": [],
   "source": [
    "one_nind_new = update_non_index(1)\n",
    "two_nind_new = update_non_index(1)\n",
    "four_nind_new = update_non_index(1)\n"
   ]
  },
  {
   "cell_type": "code",
   "execution_count": 46,
   "id": "42bf4aec-4785-4108-9017-e4a6220c2144",
   "metadata": {},
   "outputs": [
    {
     "name": "stdout",
     "output_type": "stream",
     "text": [
      "490 597 -21.8\n",
      "464 582 -25.4\n",
      "465 568 -22.2\n"
     ]
    }
   ],
   "source": [
    "calc_perf(one_nind_old, one_nind_new)\n",
    "calc_perf(two_nind_old, two_nind_new)\n",
    "calc_perf(four_nind_old, four_nind_new)"
   ]
  },
  {
   "cell_type": "code",
   "execution_count": 47,
   "id": "2bcb2bae-6407-4ccc-aa59-67fcfe034836",
   "metadata": {},
   "outputs": [],
   "source": [
    "undo_prepare_3()"
   ]
  }
 ],
 "metadata": {
  "kernelspec": {
   "display_name": "Python 3 (ipykernel)",
   "language": "python",
   "name": "python3"
  },
  "language_info": {
   "codemirror_mode": {
    "name": "ipython",
    "version": 3
   },
   "file_extension": ".py",
   "mimetype": "text/x-python",
   "name": "python",
   "nbconvert_exporter": "python",
   "pygments_lexer": "ipython3",
   "version": "3.11.2"
  }
 },
 "nbformat": 4,
 "nbformat_minor": 5
}
