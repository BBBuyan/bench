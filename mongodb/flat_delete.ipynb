{
 "cells": [
  {
   "cell_type": "code",
   "execution_count": 1,
   "id": "3449b871-226d-41be-929a-ed43d8b4ee59",
   "metadata": {},
   "outputs": [],
   "source": [
    "import pymongo\n",
    "import time\n",
    "import threading\n",
    "import random"
   ]
  },
  {
   "cell_type": "code",
   "execution_count": 2,
   "id": "6163baec-fb79-460c-b2ea-18a1b72e25ae",
   "metadata": {},
   "outputs": [],
   "source": [
    "cl = pymongo.MongoClient(\"mongodb://localhost:27017\")\n",
    "db = cl[\"deep\"]\n",
    "col = db[\"flat\"]"
   ]
  },
  {
   "cell_type": "code",
   "execution_count": 61,
   "id": "9f14c015-8a89-4744-bb89-1ff78770ad04",
   "metadata": {},
   "outputs": [
    {
     "data": {
      "text/plain": [
       "{'_id': ObjectId('68667473f59ce28b2e27d010'),\n",
       " 'number_of_records': 57,\n",
       " 'activity_sec': 47,\n",
       " 'application': 'education',\n",
       " 'device': 2,\n",
       " 'volume_total_bytes': 8310,\n",
       " 'subscribers': 464}"
      ]
     },
     "execution_count": 61,
     "metadata": {},
     "output_type": "execute_result"
    }
   ],
   "source": [
    "col.find_one({\"device\": 2})"
   ]
  },
  {
   "cell_type": "code",
   "execution_count": 62,
   "id": "03c0cb3d-3698-4c24-8c5f-5d77f86c4da6",
   "metadata": {},
   "outputs": [
    {
     "data": {
      "text/plain": [
       "500000"
      ]
     },
     "execution_count": 62,
     "metadata": {},
     "output_type": "execute_result"
    }
   ],
   "source": [
    "col.count_documents({})"
   ]
  },
  {
   "cell_type": "code",
   "execution_count": 63,
   "id": "a456e686-7fed-41e5-8a93-aa7bf702caa5",
   "metadata": {},
   "outputs": [
    {
     "data": {
      "text/plain": [
       "250211"
      ]
     },
     "execution_count": 63,
     "metadata": {},
     "output_type": "execute_result"
    }
   ],
   "source": [
    "col.count_documents({\"old_device\": {\"$exists\": True}})"
   ]
  },
  {
   "cell_type": "code",
   "execution_count": 67,
   "id": "eda6a5fe-f523-4de8-9c6b-4e20d415ce0b",
   "metadata": {},
   "outputs": [
    {
     "name": "stdout",
     "output_type": "stream",
     "text": [
      "SON([('v', 2), ('key', SON([('_id', 1)])), ('name', '_id_')])\n"
     ]
    }
   ],
   "source": [
    "indexes = col.list_indexes()\n",
    "for i in indexes:\n",
    "    print(i)"
   ]
  },
  {
   "cell_type": "code",
   "execution_count": 64,
   "id": "1548874a-c575-4f1e-8e1e-04f756915b9f",
   "metadata": {},
   "outputs": [],
   "source": [
    "def calc_perf(old, new):\n",
    "    rounded_old = round(old)\n",
    "    rounded_new = round(new)\n",
    "    ratio = ((rounded_old - rounded_new) / rounded_old) * 100\n",
    "    print(f\"{rounded_old} {rounded_new} {ratio:.1f}\")"
   ]
  },
  {
   "cell_type": "code",
   "execution_count": 54,
   "id": "175c861e-e88c-4985-bd45-2526a2ef28e1",
   "metadata": {},
   "outputs": [],
   "source": [
    "def create_batch(batch_size):\n",
    "    batch = []\n",
    "    for _ in range(batch_size):\n",
    "        el = {\n",
    "            \"num_of_records\": random.randint(0,999),\n",
    "            \"activity_sec\": random.randint(0,99),\n",
    "            \"application\": \"insert_batch_member\",\n",
    "            \"device\": random.randint(5000,9999),\n",
    "            \"volume_total_bytes\": random.randint(0,5000),\n",
    "            \"subscribers\": random.randint(0,999),\n",
    "        }\n",
    "        batch.append(el)\n",
    "    return batch"
   ]
  },
  {
   "cell_type": "code",
   "execution_count": 55,
   "id": "496314eb-ca78-4f27-b1de-d424e7246f5b",
   "metadata": {},
   "outputs": [],
   "source": [
    "def insert_mocks(size):\n",
    "    mocks = create_batch(size)\n",
    "    col.insert_many(mocks)"
   ]
  },
  {
   "cell_type": "code",
   "execution_count": 56,
   "id": "c219bc51-f478-4f41-b73f-f5be6d270c08",
   "metadata": {},
   "outputs": [],
   "source": [
    "def prepare():\n",
    "    col.update_many({\"device\": {\"$gte\": 5000}}, [\n",
    "        {\n",
    "            \"$set\": {\"old_device\": \"$device\"}\n",
    "        }\n",
    "    ])\n",
    "    col.update_many({\"device\": {\"$gte\": 5000}}, [\n",
    "        {\n",
    "            \"$set\": {\"device\": 0}\n",
    "        }\n",
    "    ])"
   ]
  },
  {
   "cell_type": "code",
   "execution_count": 57,
   "id": "acf628f3-a254-4560-9cb4-b7f6dd19dac8",
   "metadata": {},
   "outputs": [],
   "source": [
    "def undo_prepare():\n",
    "    col.delete_many({\"device\": {\"$gte\": 5000}})\n",
    "    col.update_many({\"old_device\": {\"$exists\": True}}, [\n",
    "        {\"$set\": {\"device\": \"$old_device\"}},\n",
    "        {\"$unset\": \"old_device\"}\n",
    "    ])"
   ]
  },
  {
   "cell_type": "code",
   "execution_count": 58,
   "id": "4e82fc86-07a4-4722-b405-199d2f66a7b1",
   "metadata": {},
   "outputs": [],
   "source": [
    "def measure_delete(user_id, duration_list):\n",
    "    duration = 0\n",
    "    \n",
    "    for _ in range(10):\n",
    "        insert_mocks(50000)\n",
    "        start = time.perf_counter()\n",
    "        col.delete_many({\"device\": {\"$gte\": 5000}})\n",
    "        end = time.perf_counter()\n",
    "        \n",
    "        duration += end - start\n",
    "    \n",
    "    # take average duration and convert to ms\n",
    "    duration = (duration / 10) * 1000\n",
    "    duration_list[user_id] = duration"
   ]
  },
  {
   "cell_type": "code",
   "execution_count": 59,
   "id": "d26b8fd6-1e3d-4b09-bcb1-0d49cc529b48",
   "metadata": {},
   "outputs": [],
   "source": [
    "def delete_test(num_of_users):\n",
    "    threads_list=[]\n",
    "    duration_list = [None] * num_of_users\n",
    "        \n",
    "    for x in range(num_of_users):\n",
    "        t = threading.Thread(target=measure_delete, args=(x, duration_list,))\n",
    "        t.start()\n",
    "        threads_list.append(t)\n",
    "    \n",
    "    for t in threads_list:\n",
    "        t.join()\n",
    "\n",
    "    avg = (sum(duration_list) / len(duration_list))\n",
    "    return avg"
   ]
  },
  {
   "cell_type": "code",
   "execution_count": 60,
   "id": "baa4078d-35bd-4fa0-b36a-11eb8ed7380c",
   "metadata": {},
   "outputs": [],
   "source": [
    "prepare()"
   ]
  },
  {
   "cell_type": "code",
   "execution_count": 66,
   "id": "0aa4ee42-c65b-4972-a840-af300e891b9b",
   "metadata": {},
   "outputs": [],
   "source": [
    "one_old = delete_test(1)\n",
    "two_old = delete_test(2)\n",
    "four_old = delete_test(4)"
   ]
  },
  {
   "cell_type": "code",
   "execution_count": 68,
   "id": "1318675f-67d9-4a1c-b862-600bd2030942",
   "metadata": {},
   "outputs": [],
   "source": [
    "index_name = col.create_index([(\"device\", 1)])"
   ]
  },
  {
   "cell_type": "code",
   "execution_count": 69,
   "id": "a47df7cc-927b-4e41-91f4-e9faf22c4995",
   "metadata": {},
   "outputs": [],
   "source": [
    "one_new = delete_test(1)\n",
    "two_new = delete_test(2)\n",
    "four_new = delete_test(4)"
   ]
  },
  {
   "cell_type": "code",
   "execution_count": 70,
   "id": "940dc649-97cf-4f09-bc68-00ec3a9e9898",
   "metadata": {},
   "outputs": [
    {
     "name": "stdout",
     "output_type": "stream",
     "text": [
      "667 660 1.0\n",
      "1246 1494 -19.9\n",
      "2919 3990 -36.7\n"
     ]
    }
   ],
   "source": [
    "calc_perf(one_old, one_new)\n",
    "calc_perf(two_old, two_new)\n",
    "calc_perf(four_old, four_new)"
   ]
  },
  {
   "cell_type": "code",
   "execution_count": 71,
   "id": "78eca218-82d0-4b8e-ba66-639f381ca342",
   "metadata": {},
   "outputs": [],
   "source": [
    "col.drop_index(\"device_1\")"
   ]
  },
  {
   "cell_type": "code",
   "execution_count": 72,
   "id": "2b025180-1e1d-4e61-9448-2e32dcbeccba",
   "metadata": {},
   "outputs": [],
   "source": [
    "undo_prepare()"
   ]
  }
 ],
 "metadata": {
  "kernelspec": {
   "display_name": "Python 3 (ipykernel)",
   "language": "python",
   "name": "python3"
  },
  "language_info": {
   "codemirror_mode": {
    "name": "ipython",
    "version": 3
   },
   "file_extension": ".py",
   "mimetype": "text/x-python",
   "name": "python",
   "nbconvert_exporter": "python",
   "pygments_lexer": "ipython3",
   "version": "3.11.2"
  }
 },
 "nbformat": 4,
 "nbformat_minor": 5
}
