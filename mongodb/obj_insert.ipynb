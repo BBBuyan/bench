{
 "cells": [
  {
   "cell_type": "code",
   "execution_count": 1,
   "id": "98b31359-2875-40b9-96e9-1f971697a90e",
   "metadata": {},
   "outputs": [],
   "source": [
    "import pymongo\n",
    "import time\n",
    "import threading\n",
    "import random\n",
    "from pymongo.collection import Collection"
   ]
  },
  {
   "cell_type": "code",
   "execution_count": 2,
   "id": "d6f4b796-7f6e-4fba-bdcb-327c12d9afe6",
   "metadata": {},
   "outputs": [],
   "source": [
    "cl = pymongo.MongoClient(\"mongodb://localhost:27017\")\n",
    "db = cl[\"deep\"]\n",
    "obj1 = db[\"obj1\"]\n",
    "obj2 = db[\"obj2\"]\n",
    "obj4 = db[\"obj4\"]\n",
    "obj8 = db[\"obj8\"]\n",
    "coll_list = [obj1, obj2, obj4, obj8]\n",
    "user_list = [1, 2, 4]\n",
    "depth_list = [1, 2, 4, 8]"
   ]
  },
  {
   "cell_type": "code",
   "execution_count": 3,
   "id": "4a38bf9c-616c-49b6-afef-9ef25677a274",
   "metadata": {},
   "outputs": [],
   "source": [
    "def create_batch(coll: Collection, size: int):\n",
    "    new = list(coll.find({},{\"_id\": 0}).limit(size))\n",
    "    for el in new:\n",
    "        el[\"inserted\"] = True\n",
    "    return new"
   ]
  },
  {
   "cell_type": "code",
   "execution_count": 4,
   "id": "7d66a296-d6cb-4b1e-8bc1-fda4ae32c653",
   "metadata": {},
   "outputs": [],
   "source": [
    "def delete_batch():\n",
    "    for c in coll_list:\n",
    "        print(c.delete_many({\"inserted\": True}))"
   ]
  },
  {
   "cell_type": "code",
   "execution_count": 5,
   "id": "30a394d2-6c97-4c32-9a98-efbbd418a67e",
   "metadata": {},
   "outputs": [],
   "source": [
    "def measure_insert(user_id: int, duration_list: list[int], coll: Collection, depth: int):\n",
    "    batch = create_batch(coll, 1000)\n",
    "    \n",
    "    start = time.perf_counter()\n",
    "    coll.insert_many(batch)\n",
    "    end = time.perf_counter()\n",
    "    duration = (end - start) * 1000\n",
    "\n",
    "    duration_list[user_id] = duration"
   ]
  },
  {
   "cell_type": "code",
   "execution_count": 6,
   "id": "170324cd-637a-4cef-9ef7-f7088880180c",
   "metadata": {},
   "outputs": [],
   "source": [
    "def test_insert(num_of_users, depth):\n",
    "    threads_list = []\n",
    "    duration_list = [None] * num_of_users\n",
    "    coll = coll_list[depth]\n",
    "\n",
    "    for x in range (num_of_users):\n",
    "        t = threading.Thread(target=measure_insert, args=(x, duration_list, coll, depth,))\n",
    "        t.start()\n",
    "        threads_list.append(t)\n",
    "\n",
    "    for t in threads_list:\n",
    "        t.join()\n",
    "        \n",
    "    result = sum(duration_list) / len(duration_list)\n",
    "    return result"
   ]
  },
  {
   "cell_type": "code",
   "execution_count": 7,
   "id": "b9d4bb3e-baa2-453c-96f2-8bfbe2fc8241",
   "metadata": {},
   "outputs": [],
   "source": [
    "def execute_insert():\n",
    "    u_len = len(user_list)\n",
    "    d_len = len(depth_list)\n",
    "    result = [[0 for _ in range(d_len)] for _ in range(u_len)]\n",
    "    \n",
    "    for u in range(u_len):\n",
    "        print(f\"user {user_list[u]: }\")\n",
    "        print(f\"  depth:\", end=\" \")\n",
    "        for d in range(d_len):\n",
    "            result[u][d] = test_insert(user_list[u], d)\n",
    "            print(f\"{d}\", end=\" \")\n",
    "        print(\"---\")\n",
    "    return result"
   ]
  },
  {
   "cell_type": "code",
   "execution_count": 8,
   "id": "3fb6cdd7-ccd2-4f72-9295-43411051aa4f",
   "metadata": {},
   "outputs": [],
   "source": [
    "def calculate_diffs(old, new):\n",
    "    for u in range(len(user_list)):\n",
    "        print(f\"user {user_list[u]}\")\n",
    "        for d in range(len(depth_list)):\n",
    "            o_val = old[u][d]\n",
    "            n_val = new[u][d]\n",
    "            diff = ((n_val - o_val) / o_val) * 100\n",
    "            print(f\"| {depth_list[d]} |{o_val:10.0f}| {n_val:10.0f}| {diff:10.1f} |\")\n",
    "        print(\"--------\")"
   ]
  },
  {
   "cell_type": "code",
   "execution_count": 9,
   "id": "ff36b55e-51ae-41d4-b24e-20017a50b962",
   "metadata": {},
   "outputs": [],
   "source": [
    "def createIndexes():\n",
    "    obj1.create_index([(\"l1.device\", 1)])\n",
    "    obj2.create_index([(\"l1.l2.device\", 1)])\n",
    "    obj4.create_index([(\"l1.l2.l3.l4.device\", 1)])\n",
    "    obj8.create_index([(\"l1.l2.l3.l4.l5.l6.l7.l8.device\", 1)])"
   ]
  },
  {
   "cell_type": "code",
   "execution_count": 10,
   "id": "149d63bf-7add-491c-9877-0ed2695e83e3",
   "metadata": {},
   "outputs": [],
   "source": [
    "def clearIndexes():\n",
    "    obj1.drop_indexes()\n",
    "    obj2.drop_indexes()\n",
    "    obj4.drop_indexes()\n",
    "    obj8.drop_indexes()"
   ]
  },
  {
   "cell_type": "code",
   "execution_count": 11,
   "id": "27a7ce21-ec47-46b3-b500-b4abc05ab764",
   "metadata": {},
   "outputs": [],
   "source": [
    "def showIndexes():\n",
    "    for i in obj1.list_indexes():\n",
    "        print(i)\n",
    "    for a in obj2.list_indexes():\n",
    "        print(a)\n",
    "    for b in obj4.list_indexes():\n",
    "        print(b)\n",
    "    for c in obj8.list_indexes():\n",
    "        print(c)"
   ]
  },
  {
   "cell_type": "code",
   "execution_count": 12,
   "id": "e7e1921e-bd92-49e1-9619-3708136f9e92",
   "metadata": {},
   "outputs": [],
   "source": [
    "def count():\n",
    "    for c in coll_list:\n",
    "        print(c.count_documents({\"inserted\": True}))"
   ]
  },
  {
   "cell_type": "code",
   "execution_count": 17,
   "id": "4b3b2f93-1852-41e6-b2fa-07ae5116d108",
   "metadata": {},
   "outputs": [
    {
     "name": "stdout",
     "output_type": "stream",
     "text": [
      "DeleteResult({'n': 7000, 'ok': 1.0}, acknowledged=True)\n",
      "DeleteResult({'n': 7000, 'ok': 1.0}, acknowledged=True)\n",
      "DeleteResult({'n': 7000, 'ok': 1.0}, acknowledged=True)\n",
      "DeleteResult({'n': 7000, 'ok': 1.0}, acknowledged=True)\n"
     ]
    }
   ],
   "source": [
    "delete_batch()"
   ]
  },
  {
   "cell_type": "code",
   "execution_count": 18,
   "id": "6fcc9cbf-a08f-4252-8048-848099186fee",
   "metadata": {},
   "outputs": [
    {
     "name": "stdout",
     "output_type": "stream",
     "text": [
      "0\n",
      "0\n",
      "0\n",
      "0\n"
     ]
    }
   ],
   "source": [
    "count()"
   ]
  },
  {
   "cell_type": "code",
   "execution_count": 15,
   "id": "66ac10c0-27e3-42c7-b313-0a00669e3191",
   "metadata": {},
   "outputs": [
    {
     "name": "stdout",
     "output_type": "stream",
     "text": [
      "SON([('v', 2), ('key', SON([('_id', 1)])), ('name', '_id_')])\n",
      "SON([('v', 2), ('key', SON([('_id', 1)])), ('name', '_id_')])\n",
      "SON([('v', 2), ('key', SON([('_id', 1)])), ('name', '_id_')])\n",
      "SON([('v', 2), ('key', SON([('_id', 1)])), ('name', '_id_')])\n"
     ]
    }
   ],
   "source": [
    "showIndexes()"
   ]
  },
  {
   "cell_type": "code",
   "execution_count": 14,
   "id": "e2af0b5f-624b-4c03-ba1d-6d3109aeae29",
   "metadata": {},
   "outputs": [],
   "source": [
    "clearIndexes()"
   ]
  },
  {
   "cell_type": "code",
   "execution_count": 132,
   "id": "83a704dd-d0e0-4d61-8708-ba87f9ae0bff",
   "metadata": {},
   "outputs": [
    {
     "name": "stdout",
     "output_type": "stream",
     "text": [
      "user  1\n",
      "  depth: 0 1 2 3 ---\n",
      "user  2\n",
      "  depth: 0 1 2 3 ---\n",
      "user  4\n",
      "  depth: 0 1 2 3 ---\n"
     ]
    }
   ],
   "source": [
    "without_index = execute_insert()"
   ]
  },
  {
   "cell_type": "code",
   "execution_count": 137,
   "id": "52fa02e8-6b4c-464d-b676-71b400fe3ca2",
   "metadata": {},
   "outputs": [],
   "source": [
    "createIndexes()"
   ]
  },
  {
   "cell_type": "code",
   "execution_count": 138,
   "id": "6d5d8f58-175d-4af6-b0fa-b632140c1adc",
   "metadata": {},
   "outputs": [
    {
     "name": "stdout",
     "output_type": "stream",
     "text": [
      "SON([('v', 2), ('key', SON([('_id', 1)])), ('name', '_id_')])\n",
      "SON([('v', 2), ('key', SON([('l1.device', 1)])), ('name', 'l1.device_1')])\n",
      "SON([('v', 2), ('key', SON([('_id', 1)])), ('name', '_id_')])\n",
      "SON([('v', 2), ('key', SON([('l1.l2.device', 1)])), ('name', 'l1.l2.device_1')])\n",
      "SON([('v', 2), ('key', SON([('_id', 1)])), ('name', '_id_')])\n",
      "SON([('v', 2), ('key', SON([('l1.l2.l3.l4.device', 1)])), ('name', 'l1.l2.l3.l4.device_1')])\n",
      "SON([('v', 2), ('key', SON([('_id', 1)])), ('name', '_id_')])\n",
      "SON([('v', 2), ('key', SON([('l1.l2.l3.l4.l5.l6.l7.l8.device', 1)])), ('name', 'l1.l2.l3.l4.l5.l6.l7.l8.device_1')])\n"
     ]
    }
   ],
   "source": [
    "showIndexes()"
   ]
  },
  {
   "cell_type": "code",
   "execution_count": 139,
   "id": "2626ece7-500b-495b-b69d-389ca575f46a",
   "metadata": {},
   "outputs": [
    {
     "name": "stdout",
     "output_type": "stream",
     "text": [
      "user  1\n",
      "  depth: 0 1 2 3 ---\n",
      "user  2\n",
      "  depth: 0 1 2 3 ---\n",
      "user  4\n",
      "  depth: 0 1 2 3 ---\n",
      "user 1\n",
      "| 1 |        21|         45|      112.7 |\n",
      "| 2 |        16|         29|       75.4 |\n",
      "| 4 |        17|         18|        2.6 |\n",
      "| 8 |        16|         20|       23.4 |\n",
      "--------\n",
      "user 2\n",
      "| 1 |        25|         20|      -20.6 |\n",
      "| 2 |        20|         22|        9.5 |\n",
      "| 4 |        20|         24|       20.5 |\n",
      "| 8 |        41|         26|      -35.7 |\n",
      "--------\n",
      "user 4\n",
      "| 1 |        69|         29|      -58.3 |\n",
      "| 2 |        36|         38|        5.8 |\n",
      "| 4 |        32|         36|       11.2 |\n",
      "| 8 |        49|         34|      -30.8 |\n",
      "--------\n"
     ]
    }
   ],
   "source": [
    "with_index = execute_insert()\n",
    "\n",
    "calculate_diffs(without_index, with_index)"
   ]
  },
  {
   "cell_type": "code",
   "execution_count": 20,
   "id": "789721d2-d8a0-4008-af4a-f5d6d7cbf7f1",
   "metadata": {},
   "outputs": [
    {
     "name": "stdout",
     "output_type": "stream",
     "text": [
      "100000\n",
      "100000\n",
      "100000\n",
      "100000\n"
     ]
    }
   ],
   "source": [
    "for c in coll_list:\n",
    "    print(c.count_documents({}))"
   ]
  }
 ],
 "metadata": {
  "kernelspec": {
   "display_name": "Python 3 (ipykernel)",
   "language": "python",
   "name": "python3"
  },
  "language_info": {
   "codemirror_mode": {
    "name": "ipython",
    "version": 3
   },
   "file_extension": ".py",
   "mimetype": "text/x-python",
   "name": "python",
   "nbconvert_exporter": "python",
   "pygments_lexer": "ipython3",
   "version": "3.11.2"
  }
 },
 "nbformat": 4,
 "nbformat_minor": 5
}
