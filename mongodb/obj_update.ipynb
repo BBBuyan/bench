{
 "cells": [
  {
   "cell_type": "code",
   "execution_count": 1,
   "id": "32fb5f20-237d-495f-97d8-cce3c72867d0",
   "metadata": {},
   "outputs": [],
   "source": [
    "import pymongo\n",
    "import time\n",
    "import threading\n",
    "import random\n",
    "import string\n",
    "from pymongo.collection import Collection"
   ]
  },
  {
   "cell_type": "code",
   "execution_count": 2,
   "id": "bc56b935-cf43-46e2-b62d-89def3b6914b",
   "metadata": {},
   "outputs": [],
   "source": [
    "cl = pymongo.MongoClient(\"mongodb://localhost:27017\")\n",
    "db = cl[\"deep\"]\n",
    "obj1 = db[\"obj1\"]\n",
    "obj2 = db[\"obj2\"]\n",
    "obj4 = db[\"obj4\"]\n",
    "obj8 = db[\"obj8\"]\n",
    "coll_list = [obj1, obj2, obj4, obj8]\n",
    "user_list = [1, 2, 4]\n",
    "depth_list = [1, 2, 4, 8]"
   ]
  },
  {
   "cell_type": "code",
   "execution_count": 3,
   "id": "18666e54-1109-40f1-ae42-27a72f87b9f5",
   "metadata": {
    "jupyter": {
     "source_hidden": true
    }
   },
   "outputs": [],
   "source": [
    "l1_device_field = \"l1.device\"\n",
    "l2_device_field = \"l1.l2.device\"\n",
    "l4_device_field = \"l1.l2.l3.l4.device\"\n",
    "l8_device_field = \"l1.l2.l3.l4.l5.l6.l7.l8.device\"\n",
    "device_fields = [l1_device_field, l2_device_field, l4_device_field, l8_device_field]"
   ]
  },
  {
   "cell_type": "code",
   "execution_count": 4,
   "id": "1aa35763-4d5e-4a35-adcc-2e25b66d4432",
   "metadata": {
    "jupyter": {
     "source_hidden": true
    }
   },
   "outputs": [],
   "source": [
    "l1_vol_field = \"l1.total_volume_bytes\"\n",
    "l2_vol_field = \"l1.l2.total_volume_bytes\"\n",
    "l4_vol_field = \"l1.l2.l3.l4.total_volume_bytes\"\n",
    "l8_vol_field = \"l1.l2.l3.l4.l5.l6.l7.l8.total_volume_bytes\"\n",
    "vol_fields = [l1_vol_field, l2_vol_field, l4_vol_field, l8_vol_field]"
   ]
  },
  {
   "cell_type": "code",
   "execution_count": 5,
   "id": "0b4e4d8b-d8f3-4812-a83f-34a46ce4731e",
   "metadata": {
    "jupyter": {
     "source_hidden": true
    }
   },
   "outputs": [],
   "source": [
    "l1_app_field = \"l1.app\"\n",
    "l2_app_field = \"l1.l2.app\"\n",
    "l4_app_field = \"l1.l2.l3.l4.app\"\n",
    "l8_app_field = \"l1.l2.l3.l4.l5.l6.l7.l8.app\"\n",
    "app_fields = [l1_app_field, l2_app_field, l4_app_field, l8_app_field]"
   ]
  },
  {
   "cell_type": "code",
   "execution_count": 6,
   "id": "2f02a4fa-7821-43d0-87b2-0b3589cb191f",
   "metadata": {
    "jupyter": {
     "source_hidden": true
    }
   },
   "outputs": [],
   "source": [
    "l1_device_path = [\"l1\", \"device\"]\n",
    "l2_device_path = [\"l1\", \"l2\", \"device\"]\n",
    "l4_device_path = [\"l1\", \"l2\", \"l3\", \"l4\", \"device\"]\n",
    "l8_device_path = [\"l1\", \"l2\", \"l3\", \"l4\", \"l5\", \"l6\", \"l7\", \"l8\", \"device\"]\n",
    "device_paths =[l1_device_path, l2_device_path, l4_device_path, l8_device_path]"
   ]
  },
  {
   "cell_type": "code",
   "execution_count": 7,
   "id": "9fcbbc77-70bd-4808-9585-f48d3cb50982",
   "metadata": {
    "jupyter": {
     "source_hidden": true
    }
   },
   "outputs": [],
   "source": [
    "l1_vol_path = [\"l1\", \"total_volume_bytes\"]\n",
    "l2_vol_path = [\"l1\", \"l2\", \"total_volume_bytes\"]\n",
    "l4_vol_path = [\"l1\", \"l2\", \"l3\", \"l4\", \"total_volume_bytes\"]\n",
    "l8_vol_path = [\"l1\", \"l2\", \"l3\", \"l4\", \"l5\", \"l6\", \"l7\", \"l8\", \"total_volume_bytes\"]\n",
    "vol_paths =[l1_vol_path, l2_vol_path, l4_vol_path, l8_vol_path]"
   ]
  },
  {
   "cell_type": "code",
   "execution_count": 8,
   "id": "4f6a870b-c85d-4063-b719-60274348e43c",
   "metadata": {},
   "outputs": [],
   "source": [
    "def random_word(length):\n",
    "    return ''.join(random.choices(string.ascii_lowercase, k=length))"
   ]
  },
  {
   "cell_type": "code",
   "execution_count": 9,
   "id": "25d30951-4669-4b56-bdde-c2ca71c63e18",
   "metadata": {},
   "outputs": [],
   "source": [
    "def indexedWhereClause(user_id, depth):\n",
    "    field = device_fields[depth]\n",
    "    query = {field: user_id}\n",
    "    return query"
   ]
  },
  {
   "cell_type": "code",
   "execution_count": 10,
   "id": "0f3a5691-f578-4d94-bf27-7900bf75cd2c",
   "metadata": {},
   "outputs": [],
   "source": [
    "def nonIndexedWhereClause(user_id, depth):\n",
    "    field = vol_fields[depth]\n",
    "    query = {field: user_id}\n",
    "    return query"
   ]
  },
  {
   "cell_type": "code",
   "execution_count": 12,
   "id": "5cc51c51-04eb-4fa5-91b3-e17ca2679312",
   "metadata": {},
   "outputs": [],
   "source": [
    "def indexedUpdate(depth):\n",
    "    field = device_fields[depth]\n",
    "    query = [{\"$set\": {field: random.randint(0,9999)}}]\n",
    "    return query"
   ]
  },
  {
   "cell_type": "code",
   "execution_count": 102,
   "id": "af26acfd-e3ec-4021-b030-daf14b349754",
   "metadata": {},
   "outputs": [],
   "source": [
    "def nonIndexedUpdate(depth):\n",
    "    field = vol_fields[depth]\n",
    "    query = [{\"$set\": {field: random.randint(0,9999)}}]\n",
    "    return query"
   ]
  },
  {
   "cell_type": "code",
   "execution_count": 42,
   "id": "db36f3c0-a4a9-4079-9400-6f1f009fef75",
   "metadata": {},
   "outputs": [],
   "source": [
    "def resolve_where(user_id, depth, isWhereIndex):\n",
    "    if isWhereIndex:\n",
    "        return indexedWhereClause(user_id, depth)\n",
    "    else:\n",
    "        return nonIndexedWhereClause(user_id, depth)"
   ]
  },
  {
   "cell_type": "code",
   "execution_count": 43,
   "id": "c5c373e4-68ed-472b-81ef-7ae673958b44",
   "metadata": {},
   "outputs": [],
   "source": [
    "def resolve_update(depth, isUpdateIndex):\n",
    "    if isUpdateIndex:\n",
    "        return indexedUpdate(depth)\n",
    "    else:\n",
    "        return nonIndexedUpdate(depth)"
   ]
  },
  {
   "cell_type": "code",
   "execution_count": 15,
   "id": "ff6eacf3-b787-4caa-9cdb-ae765d36a61a",
   "metadata": {
    "jupyter": {
     "source_hidden": true
    }
   },
   "outputs": [],
   "source": [
    "def delete_overlapping():\n",
    "    for d in range(len(depth_list)):\n",
    "        coll = coll_list[d]\n",
    "        device_field = device_fields[d]\n",
    "        vol_field = vol_fields[d]\n",
    "        print(coll.delete_many({device_field: {\"$lte\": 4}}))\n",
    "        print(coll.delete_many({vol_field: {\"$lte\": 4}}))"
   ]
  },
  {
   "cell_type": "code",
   "execution_count": 16,
   "id": "cdbb7b6d-a5f6-4974-961d-31c7d6ca14de",
   "metadata": {
    "jupyter": {
     "source_hidden": true
    }
   },
   "outputs": [],
   "source": [
    "def delete_mocks():\n",
    "    for d in range(len(depth_list)):\n",
    "        coll = coll_list[d]\n",
    "        print(coll.delete_many({\"created\": True}))"
   ]
  },
  {
   "cell_type": "code",
   "execution_count": 17,
   "id": "5b8f06ae-1beb-43c2-8408-9de799adbb08",
   "metadata": {
    "jupyter": {
     "source_hidden": true
    }
   },
   "outputs": [],
   "source": [
    "def count_mocks():\n",
    "    for d in range(len(depth_list)):\n",
    "        coll = coll_list[d]\n",
    "        device_field = device_fields[d]\n",
    "        vol_field = vol_fields[d]\n",
    "        device_count = coll.count_documents({device_field: {\"$lte\": 4}})\n",
    "        vol_count = coll.count_documents({vol_field: {\"$lte\": 4}})\n",
    "        print(f\"depth = {depth_list[d]}, device = {device_count}, vol = {vol_count}\")"
   ]
  },
  {
   "cell_type": "code",
   "execution_count": 106,
   "id": "5b212abb-73b9-47ba-8074-52e6fbf47e0d",
   "metadata": {
    "jupyter": {
     "source_hidden": true
    }
   },
   "outputs": [],
   "source": [
    "def count_created():\n",
    "    for d in range(len(depth_list)):\n",
    "        coll = coll_list[d]\n",
    "        print(coll.count_documents({\"created\": True}))"
   ]
  },
  {
   "cell_type": "code",
   "execution_count": 18,
   "id": "8dd38b8e-d4bd-44ea-b030-9bb811e04b40",
   "metadata": {
    "jupyter": {
     "source_hidden": true
    }
   },
   "outputs": [],
   "source": [
    "def create_device_mocks(user_id: int, size: int, depth: int, coll: Collection):\n",
    "    offset = random.randint(0, 9000)\n",
    "    data = list(coll.find({}, {\"_id\": 0}).skip(offset).limit(size))\n",
    "    path = device_paths[depth]\n",
    "    for d in data:\n",
    "        d[\"created\"] = True\n",
    "        for key in path[:-1]:\n",
    "            d = d[key]\n",
    "        d[path[-1]] = user_id\n",
    "    return data"
   ]
  },
  {
   "cell_type": "code",
   "execution_count": 19,
   "id": "452b4788-e779-401b-b9c5-285bfc9c953f",
   "metadata": {
    "jupyter": {
     "source_hidden": true
    }
   },
   "outputs": [],
   "source": [
    "def create_vol_mocks(user_id: int, size: int, depth: int, coll: Collection):\n",
    "    offset = random.randint(0, 9000)\n",
    "    data = list(coll.find({}, {\"_id\": 0}).skip(offset).limit(size))\n",
    "    path = vol_paths[depth]\n",
    "    for d in data:\n",
    "        d[\"created\"] = True\n",
    "        for key in path[:-1]:\n",
    "            d = d[key]\n",
    "        d[path[-1]] = user_id\n",
    "    return data"
   ]
  },
  {
   "cell_type": "code",
   "execution_count": 20,
   "id": "65f3a1ac-abda-48ed-801c-2e2456045db1",
   "metadata": {
    "jupyter": {
     "source_hidden": true
    }
   },
   "outputs": [],
   "source": [
    "def insert_mocks(size: int):\n",
    "    print(\"inserting mocks\")\n",
    "    for d in range(len(depth_list)):\n",
    "        coll = coll_list[d]\n",
    "        print(f\"  depth {depth_list[d]}:\", end=\" \")\n",
    "        print(\"user - \", end=\"\")\n",
    "        for u in range(user_list[-1]):\n",
    "            device_mocks = create_device_mocks(u, size, d, coll)\n",
    "            vol_mocks = create_vol_mocks(u, size, d, coll)\n",
    "            coll.insert_many(device_mocks)\n",
    "            coll.insert_many(vol_mocks)\n",
    "            print(f\"{u}\", end=\" \")\n",
    "        print(\"---\")"
   ]
  },
  {
   "cell_type": "code",
   "execution_count": 24,
   "id": "fed49e06-1608-4fbd-b94e-a5771b50f74a",
   "metadata": {
    "jupyter": {
     "source_hidden": true
    }
   },
   "outputs": [],
   "source": [
    "def createIndexes():\n",
    "    obj1.create_index([(\"l1.device\", 1)])\n",
    "    obj2.create_index([(\"l1.l2.device\", 1)])\n",
    "    obj4.create_index([(\"l1.l2.l3.l4.device\", 1)])\n",
    "    obj8.create_index([(\"l1.l2.l3.l4.l5.l6.l7.l8.device\", 1)])"
   ]
  },
  {
   "cell_type": "code",
   "execution_count": 25,
   "id": "c00aa064-59c8-417c-b850-ff21eece2068",
   "metadata": {
    "jupyter": {
     "source_hidden": true
    }
   },
   "outputs": [],
   "source": [
    "def clearIndexes():\n",
    "    obj1.drop_indexes()\n",
    "    obj2.drop_indexes()\n",
    "    obj4.drop_indexes()\n",
    "    obj8.drop_indexes()"
   ]
  },
  {
   "cell_type": "code",
   "execution_count": 26,
   "id": "8866a5f5-228a-43ee-ba46-a8b26021d446",
   "metadata": {
    "jupyter": {
     "source_hidden": true
    }
   },
   "outputs": [],
   "source": [
    "def showIndexes():\n",
    "    for c in coll_list:\n",
    "        for i in c.list_indexes():\n",
    "            print(i)"
   ]
  },
  {
   "cell_type": "code",
   "execution_count": 27,
   "id": "239dcba7-432e-4dcf-9dd2-199b74e060ee",
   "metadata": {
    "jupyter": {
     "source_hidden": true
    }
   },
   "outputs": [],
   "source": [
    "def calculate_diffs(old, new):\n",
    "    for u in range(len(user_list)):\n",
    "        print(f\"user {user_list[u]}\")\n",
    "        for d in range(len(depth_list)):\n",
    "            o_val = old[u][d]\n",
    "            n_val = new[u][d]\n",
    "            diff = ((n_val - o_val) / o_val) * 100\n",
    "            print(f\"| {depth_list[d]} |{o_val:10.0f}| {n_val:10.0f}| {diff:10.1f} |\")\n",
    "        print(\"--------\")"
   ]
  },
  {
   "cell_type": "code",
   "execution_count": 147,
   "id": "ac4ac9ad-ce7f-4df3-9a2a-31f7cb042bb4",
   "metadata": {},
   "outputs": [],
   "source": [
    "def reset():\n",
    "    delete_mocks()\n",
    "    insert_mocks(500)"
   ]
  },
  {
   "cell_type": "code",
   "execution_count": 49,
   "id": "0698c6d8-1314-4f06-b77c-1b9c322e32d7",
   "metadata": {},
   "outputs": [],
   "source": [
    "def measure_update(user_id, duration_list, coll: Collection, depth, isWhereIndex, isUpdateIndex):\n",
    "    where = resolve_where(user_id, depth, isWhereIndex)\n",
    "    pipe = resolve_update(depth, isUpdateIndex)\n",
    "    \n",
    "    start = time.perf_counter()\n",
    "    coll.update_many(where, pipe)\n",
    "    end = time.perf_counter()\n",
    "    duration = (end - start) * 1000\n",
    "\n",
    "    duration_list[user_id] = duration"
   ]
  },
  {
   "cell_type": "code",
   "execution_count": 47,
   "id": "063b686c-2473-446d-813d-079517c3d1bd",
   "metadata": {},
   "outputs": [],
   "source": [
    "def test_update(num_of_users, depth, isWhereIndex, isUpdateIndex):\n",
    "    threads_list = []\n",
    "    duration_list = [None] * num_of_users\n",
    "    coll = coll_list[depth]\n",
    "\n",
    "    for user_id in range(num_of_users):\n",
    "        t = threading.Thread(target=measure_update, args=(user_id, duration_list, coll, depth, isWhereIndex, isUpdateIndex))\n",
    "        t.start()\n",
    "        threads_list.append(t)\n",
    "\n",
    "    \n",
    "    for t in threads_list:\n",
    "        t.join()\n",
    "        \n",
    "    result = sum(duration_list) / len(duration_list)\n",
    "    return result    "
   ]
  },
  {
   "cell_type": "code",
   "execution_count": 52,
   "id": "48f2413a-2fb0-4361-8098-66b13f3d2a87",
   "metadata": {},
   "outputs": [],
   "source": [
    "def execute_update(isWhereIndex, isUpdateIndex):\n",
    "    u_len = len(user_list)\n",
    "    d_len = len(depth_list)\n",
    "    result = [[0 for _ in range(d_len)] for _ in range(u_len)]\n",
    "    \n",
    "    for u in range(u_len):\n",
    "        print(f\"user - {user_list[u]}\")\n",
    "        print(\"  depth\", end=\" \")\n",
    "        for d in range(d_len):\n",
    "            result[u][d] = test_update(user_list[u], d, isWhereIndex, isUpdateIndex)\n",
    "            print(f\"{depth_list[d]}\", end=\" \")\n",
    "\n",
    "        print(\"---\")\n",
    "    return result"
   ]
  },
  {
   "cell_type": "code",
   "execution_count": 148,
   "id": "fd414db2-7672-4474-adf1-87425141a631",
   "metadata": {},
   "outputs": [],
   "source": [
    "clearIndexes()"
   ]
  },
  {
   "cell_type": "code",
   "execution_count": 149,
   "id": "3c2d7a95-4d61-4411-a3f1-29f53b0b4bba",
   "metadata": {},
   "outputs": [
    {
     "name": "stdout",
     "output_type": "stream",
     "text": [
      "SON([('v', 2), ('key', SON([('_id', 1)])), ('name', '_id_')])\n",
      "SON([('v', 2), ('key', SON([('_id', 1)])), ('name', '_id_')])\n",
      "SON([('v', 2), ('key', SON([('_id', 1)])), ('name', '_id_')])\n",
      "SON([('v', 2), ('key', SON([('_id', 1)])), ('name', '_id_')])\n"
     ]
    }
   ],
   "source": [
    "showIndexes()"
   ]
  },
  {
   "cell_type": "code",
   "execution_count": 150,
   "id": "7f10c31c-afc2-4b97-a73e-f30e2ef55b44",
   "metadata": {},
   "outputs": [
    {
     "name": "stdout",
     "output_type": "stream",
     "text": [
      "DeleteResult({'n': 4000, 'ok': 1.0}, acknowledged=True)\n",
      "DeleteResult({'n': 4000, 'ok': 1.0}, acknowledged=True)\n",
      "DeleteResult({'n': 4000, 'ok': 1.0}, acknowledged=True)\n",
      "DeleteResult({'n': 4000, 'ok': 1.0}, acknowledged=True)\n",
      "inserting mocks\n",
      "  depth 1: user - 0 1 2 3 ---\n",
      "  depth 2: user - 0 1 2 3 ---\n",
      "  depth 4: user - 0 1 2 3 ---\n",
      "  depth 8: user - 0 1 2 3 ---\n"
     ]
    }
   ],
   "source": [
    "reset()"
   ]
  },
  {
   "cell_type": "code",
   "execution_count": 151,
   "id": "afaccc91-70e1-4997-98e1-b60a01f6a97b",
   "metadata": {},
   "outputs": [
    {
     "name": "stdout",
     "output_type": "stream",
     "text": [
      "user - 1\n",
      "  depth 1 2 4 8 ---\n",
      "user - 2\n",
      "  depth 1 2 4 8 ---\n",
      "user - 4\n",
      "  depth 1 2 4 8 ---\n"
     ]
    }
   ],
   "source": [
    "without_index = execute_update(True, True)"
   ]
  },
  {
   "cell_type": "code",
   "execution_count": 152,
   "id": "6118fa49-b9dc-4e41-8f0e-dbcc7afd1f78",
   "metadata": {},
   "outputs": [
    {
     "name": "stdout",
     "output_type": "stream",
     "text": [
      "DeleteResult({'n': 4000, 'ok': 1.0}, acknowledged=True)\n",
      "DeleteResult({'n': 4000, 'ok': 1.0}, acknowledged=True)\n",
      "DeleteResult({'n': 4000, 'ok': 1.0}, acknowledged=True)\n",
      "DeleteResult({'n': 4000, 'ok': 1.0}, acknowledged=True)\n",
      "inserting mocks\n",
      "  depth 1: user - 0 1 2 3 ---\n",
      "  depth 2: user - 0 1 2 3 ---\n",
      "  depth 4: user - 0 1 2 3 ---\n",
      "  depth 8: user - 0 1 2 3 ---\n"
     ]
    }
   ],
   "source": [
    "reset()"
   ]
  },
  {
   "cell_type": "code",
   "execution_count": 153,
   "id": "a8cf5161-af20-4a3f-921d-08b9ea83577b",
   "metadata": {},
   "outputs": [],
   "source": [
    "createIndexes()"
   ]
  },
  {
   "cell_type": "code",
   "execution_count": 154,
   "id": "ddd2b426-c789-4f21-9d29-270accd6181a",
   "metadata": {},
   "outputs": [
    {
     "name": "stdout",
     "output_type": "stream",
     "text": [
      "depth = 1, device = 2000, vol = 2000\n",
      "depth = 2, device = 2000, vol = 2000\n",
      "depth = 4, device = 2000, vol = 2000\n",
      "depth = 8, device = 2000, vol = 2000\n"
     ]
    }
   ],
   "source": [
    "count_mocks()"
   ]
  },
  {
   "cell_type": "code",
   "execution_count": 155,
   "id": "6cbe2061-62e5-45ad-9fd1-c5619bb40f3e",
   "metadata": {},
   "outputs": [
    {
     "name": "stdout",
     "output_type": "stream",
     "text": [
      "user - 1\n",
      "  depth 1 2 4 8 ---\n",
      "user - 2\n",
      "  depth 1 2 4 8 ---\n",
      "user - 4\n",
      "  depth 1 2 4 8 ---\n"
     ]
    }
   ],
   "source": [
    "where_index_update_non_index = execute_update(True, False)"
   ]
  },
  {
   "cell_type": "code",
   "execution_count": 159,
   "id": "92e1a8c1-a243-47f3-b60d-5ac2aba86a86",
   "metadata": {},
   "outputs": [
    {
     "name": "stdout",
     "output_type": "stream",
     "text": [
      "DeleteResult({'n': 4000, 'ok': 1.0}, acknowledged=True)\n",
      "DeleteResult({'n': 4000, 'ok': 1.0}, acknowledged=True)\n",
      "DeleteResult({'n': 4000, 'ok': 1.0}, acknowledged=True)\n",
      "DeleteResult({'n': 4000, 'ok': 1.0}, acknowledged=True)\n",
      "inserting mocks\n",
      "  depth 1: user - 0 1 2 3 ---\n",
      "  depth 2: user - 0 1 2 3 ---\n",
      "  depth 4: user - 0 1 2 3 ---\n",
      "  depth 8: user - 0 1 2 3 ---\n"
     ]
    }
   ],
   "source": [
    "reset()"
   ]
  },
  {
   "cell_type": "code",
   "execution_count": 160,
   "id": "9f2965d4-f4bd-41b3-911f-9de646578dbd",
   "metadata": {},
   "outputs": [],
   "source": [
    "clearIndexes()"
   ]
  },
  {
   "cell_type": "code",
   "execution_count": 161,
   "id": "8efdc1df-e6d5-4364-ae85-9ce96dee230b",
   "metadata": {},
   "outputs": [],
   "source": [
    "createIndexes()"
   ]
  },
  {
   "cell_type": "code",
   "execution_count": 162,
   "id": "e7549382-38f7-4aa7-82c2-9a612146c2e1",
   "metadata": {},
   "outputs": [
    {
     "name": "stdout",
     "output_type": "stream",
     "text": [
      "user - 1\n",
      "  depth 1 2 4 8 ---\n",
      "user - 2\n",
      "  depth 1 2 4 8 ---\n",
      "user - 4\n",
      "  depth 1 2 4 8 ---\n"
     ]
    }
   ],
   "source": [
    "where_non_index_update_index = execute_update(False, True)"
   ]
  },
  {
   "cell_type": "code",
   "execution_count": 165,
   "id": "6eb7f6cf-6259-4fc5-810b-c505e1909a81",
   "metadata": {},
   "outputs": [],
   "source": [
    "clearIndexes()"
   ]
  },
  {
   "cell_type": "code",
   "execution_count": 166,
   "id": "9cf607a9-ffe7-41c6-843b-ff0078e1895d",
   "metadata": {},
   "outputs": [
    {
     "name": "stdout",
     "output_type": "stream",
     "text": [
      "DeleteResult({'n': 4000, 'ok': 1.0}, acknowledged=True)\n",
      "DeleteResult({'n': 4000, 'ok': 1.0}, acknowledged=True)\n",
      "DeleteResult({'n': 4000, 'ok': 1.0}, acknowledged=True)\n",
      "DeleteResult({'n': 4000, 'ok': 1.0}, acknowledged=True)\n",
      "inserting mocks\n",
      "  depth 1: user - 0 1 2 3 ---\n",
      "  depth 2: user - 0 1 2 3 ---\n",
      "  depth 4: user - 0 1 2 3 ---\n",
      "  depth 8: user - 0 1 2 3 ---\n"
     ]
    }
   ],
   "source": [
    "reset()"
   ]
  },
  {
   "cell_type": "code",
   "execution_count": 167,
   "id": "34809001-26e7-4744-97ad-84e715a388b8",
   "metadata": {},
   "outputs": [],
   "source": [
    "createIndexes()"
   ]
  },
  {
   "cell_type": "code",
   "execution_count": 168,
   "id": "6005ab5c-fb9a-46e5-98dd-0f139bbba31f",
   "metadata": {},
   "outputs": [
    {
     "name": "stdout",
     "output_type": "stream",
     "text": [
      "user - 1\n",
      "  depth 1 2 4 8 ---\n",
      "user - 2\n",
      "  depth 1 2 4 8 ---\n",
      "user - 4\n",
      "  depth 1 2 4 8 ---\n"
     ]
    }
   ],
   "source": [
    "where_index_update_index = execute_update(True, True)"
   ]
  },
  {
   "cell_type": "code",
   "execution_count": 169,
   "id": "20a7f022-e961-4168-9d6a-6aed689fe446",
   "metadata": {},
   "outputs": [],
   "source": [
    "clearIndexes()"
   ]
  },
  {
   "cell_type": "code",
   "execution_count": 170,
   "id": "9e55cddc-6ff0-4a2c-96f9-5c7e02bf2be4",
   "metadata": {},
   "outputs": [
    {
     "name": "stdout",
     "output_type": "stream",
     "text": [
      "DeleteResult({'n': 4000, 'ok': 1.0}, acknowledged=True)\n",
      "DeleteResult({'n': 4000, 'ok': 1.0}, acknowledged=True)\n",
      "DeleteResult({'n': 4000, 'ok': 1.0}, acknowledged=True)\n",
      "DeleteResult({'n': 4000, 'ok': 1.0}, acknowledged=True)\n",
      "inserting mocks\n",
      "  depth 1: user - 0 1 2 3 ---\n",
      "  depth 2: user - 0 1 2 3 ---\n",
      "  depth 4: user - 0 1 2 3 ---\n",
      "  depth 8: user - 0 1 2 3 ---\n"
     ]
    }
   ],
   "source": [
    "reset()"
   ]
  },
  {
   "cell_type": "code",
   "execution_count": 171,
   "id": "c1e97475-f6f6-4cee-a680-9fa54eb7f923",
   "metadata": {},
   "outputs": [],
   "source": [
    "createIndexes()"
   ]
  },
  {
   "cell_type": "code",
   "execution_count": 172,
   "id": "40692eba-c0a9-4dfa-9c01-bf3499cd2379",
   "metadata": {},
   "outputs": [
    {
     "name": "stdout",
     "output_type": "stream",
     "text": [
      "user 1\n",
      "| 1 |        83|         22|      -73.5 |\n",
      "| 2 |        82|         24|      -70.6 |\n",
      "| 4 |       100|         26|      -74.2 |\n",
      "| 8 |       122|         29|      -76.0 |\n",
      "--------\n",
      "user 2\n",
      "| 1 |       118|         10|      -91.9 |\n",
      "| 2 |       131|         11|      -91.3 |\n",
      "| 4 |       110|         15|      -85.9 |\n",
      "| 8 |       134|         17|      -87.7 |\n",
      "--------\n",
      "user 4\n",
      "| 1 |       170|         12|      -92.8 |\n",
      "| 2 |       163|         16|      -89.9 |\n",
      "| 4 |       173|         13|      -92.5 |\n",
      "| 8 |       193|         23|      -88.2 |\n",
      "--------\n"
     ]
    }
   ],
   "source": [
    "calculate_diffs(without_index, where_index_update_index)"
   ]
  },
  {
   "cell_type": "code",
   "execution_count": 173,
   "id": "5e5d6ca0-dc2f-4002-8f26-19b30b370d3b",
   "metadata": {},
   "outputs": [
    {
     "name": "stdout",
     "output_type": "stream",
     "text": [
      "user 1\n",
      "| 1 |        83|         21|      -74.4 |\n",
      "| 2 |        82|         17|      -78.8 |\n",
      "| 4 |       100|         16|      -83.5 |\n",
      "| 8 |       122|         22|      -82.3 |\n",
      "--------\n",
      "user 2\n",
      "| 1 |       118|         21|      -82.2 |\n",
      "| 2 |       131|         24|      -81.4 |\n",
      "| 4 |       110|         34|      -69.3 |\n",
      "| 8 |       134|         24|      -82.4 |\n",
      "--------\n",
      "user 4\n",
      "| 1 |       170|         24|      -85.8 |\n",
      "| 2 |       163|         31|      -80.8 |\n",
      "| 4 |       173|         37|      -78.6 |\n",
      "| 8 |       193|         50|      -74.2 |\n",
      "--------\n"
     ]
    }
   ],
   "source": [
    "calculate_diffs(without_index, where_index_update_non_index)"
   ]
  },
  {
   "cell_type": "code",
   "execution_count": 174,
   "id": "cb75f41f-2876-4621-a187-847fecac0c78",
   "metadata": {},
   "outputs": [
    {
     "name": "stdout",
     "output_type": "stream",
     "text": [
      "user 1\n",
      "| 1 |        83|         90|        9.6 |\n",
      "| 2 |        82|        104|       25.8 |\n",
      "| 4 |       100|        120|       20.3 |\n",
      "| 8 |       122|        133|        9.3 |\n",
      "--------\n",
      "user 2\n",
      "| 1 |       118|        154|       30.2 |\n",
      "| 2 |       131|        134|        2.4 |\n",
      "| 4 |       110|        112|        2.2 |\n",
      "| 8 |       134|        162|       20.9 |\n",
      "--------\n",
      "user 4\n",
      "| 1 |       170|        180|        5.8 |\n",
      "| 2 |       163|        183|       12.2 |\n",
      "| 4 |       173|        203|       17.0 |\n",
      "| 8 |       193|        271|       40.4 |\n",
      "--------\n"
     ]
    }
   ],
   "source": [
    "calculate_diffs(without_index, where_non_index_update_index)"
   ]
  }
 ],
 "metadata": {
  "kernelspec": {
   "display_name": "Python 3 (ipykernel)",
   "language": "python",
   "name": "python3"
  },
  "language_info": {
   "codemirror_mode": {
    "name": "ipython",
    "version": 3
   },
   "file_extension": ".py",
   "mimetype": "text/x-python",
   "name": "python",
   "nbconvert_exporter": "python",
   "pygments_lexer": "ipython3",
   "version": "3.11.2"
  }
 },
 "nbformat": 4,
 "nbformat_minor": 5
}
