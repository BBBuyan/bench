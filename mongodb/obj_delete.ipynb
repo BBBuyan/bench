{
 "cells": [
  {
   "cell_type": "code",
   "execution_count": 1,
   "id": "1d7255af-d7f9-470a-8531-368863fa29f7",
   "metadata": {},
   "outputs": [],
   "source": [
    "import pymongo\n",
    "import time\n",
    "import threading\n",
    "import random"
   ]
  },
  {
   "cell_type": "code",
   "execution_count": 2,
   "id": "92983bca-0b26-4fee-b375-639beecbd787",
   "metadata": {},
   "outputs": [],
   "source": [
    "cl = pymongo.MongoClient(\"mongodb://localhost:27017\")\n",
    "db = cl[\"deep\"]\n",
    "obj1 = db[\"obj1\"]\n",
    "obj2 = db[\"obj2\"]\n",
    "obj4 = db[\"obj4\"]\n",
    "obj8 = db[\"obj8\"]\n",
    "nested_objs = [obj1, obj2, obj4, obj8]\n",
    "users_list = [1, 2, 4]\n",
    "depth_list = [0, 1, 2, 3]"
   ]
  },
  {
   "cell_type": "code",
   "execution_count": 3,
   "id": "63855c97-abda-4ec7-a94b-c0ce5cc482e2",
   "metadata": {},
   "outputs": [
    {
     "data": {
      "text/plain": [
       "{'_id': ObjectId('68722a14a521c06a4f991eca'),\n",
       " 'l1': {'device': 975, 'app': 'five', 'volume_total_bytes': 5367}}"
      ]
     },
     "execution_count": 3,
     "metadata": {},
     "output_type": "execute_result"
    }
   ],
   "source": [
    "obj1.find_one()"
   ]
  },
  {
   "cell_type": "code",
   "execution_count": 4,
   "id": "d3fd89b2-90af-4073-85aa-88f8bb9d850a",
   "metadata": {
    "scrolled": true
   },
   "outputs": [
    {
     "data": {
      "text/plain": [
       "49747"
      ]
     },
     "execution_count": 4,
     "metadata": {},
     "output_type": "execute_result"
    }
   ],
   "source": [
    "obj1.count_documents({\"l1.device\": {\"$gte\": 5000}})"
   ]
  },
  {
   "cell_type": "code",
   "execution_count": 5,
   "id": "0725ff86-cfa4-4401-8a2c-4a78a0e05bdc",
   "metadata": {},
   "outputs": [
    {
     "data": {
      "text/plain": [
       "100000"
      ]
     },
     "execution_count": 5,
     "metadata": {},
     "output_type": "execute_result"
    }
   ],
   "source": [
    "obj1.count_documents({})"
   ]
  },
  {
   "cell_type": "code",
   "execution_count": 6,
   "id": "8ef928f5-7b72-4907-bfea-d59e94a618c1",
   "metadata": {},
   "outputs": [],
   "source": [
    "filter_num=5000\n",
    "l1_where_index = {\"l1.device\": {\"$gte\": filter_num}}\n",
    "l2_where_index = {\"l1.l2.device\": {\"$gte\": filter_num}}\n",
    "l4_where_index = {\"l1.l2.l3.l4.device\": {\"$gte\": filter_num}}\n",
    "l8_where_index = {\"l1.l2.l3.l4.l5.l6.l7.l8.device\": {\"$gte\": filter_num}}\n",
    "where_list = [l1_where_index, l2_where_index, l4_where_index, l8_where_index]"
   ]
  },
  {
   "cell_type": "code",
   "execution_count": 7,
   "id": "c463bb0b-0cda-4981-84b2-03da09b2adbb",
   "metadata": {
    "jupyter": {
     "source_hidden": true
    }
   },
   "outputs": [],
   "source": [
    "def create_l1(size):\n",
    "    batch = []\n",
    "    for _ in range(size):\n",
    "        el = {\n",
    "            \"l1\": {\n",
    "                \"device\": random.randint(5000,9999),\n",
    "                \"app\": \"deepbench\",\n",
    "                \"volume_total_bytes\": random.randint(0,9999)\n",
    "            }\n",
    "        }\n",
    "        batch.append(el)\n",
    "\n",
    "    return batch"
   ]
  },
  {
   "cell_type": "code",
   "execution_count": 8,
   "id": "ec8ef9ba-9c52-4338-ba3d-39e14372e0bc",
   "metadata": {
    "jupyter": {
     "source_hidden": true
    }
   },
   "outputs": [],
   "source": [
    "def create_l2(size):\n",
    "    batch = []\n",
    "    for _ in range(size):\n",
    "        el = {\n",
    "            \"l1\":{\n",
    "                \"device\": random.randint(5000,9999),\n",
    "                \"app\": \"deepbench\",\n",
    "                \"l2\": {\n",
    "                    \"device\": random.randint(5000,9999),\n",
    "                    \"app\": \"deepbench\",\n",
    "                    \"volume_total_bytes\": random.randint(0,9999)\n",
    "                }\n",
    "            }\n",
    "        }\n",
    "        batch.append(el)\n",
    "\n",
    "    return batch"
   ]
  },
  {
   "cell_type": "code",
   "execution_count": 9,
   "id": "6145a089-f867-4136-bece-632e3fa2722e",
   "metadata": {
    "jupyter": {
     "source_hidden": true
    }
   },
   "outputs": [],
   "source": [
    "def create_l4(size):\n",
    "    batch = []\n",
    "    for _ in range(size):\n",
    "        el = {\n",
    "            \"l1\":{\n",
    "                \"device\": random.randint(5000,9999),\n",
    "                \"app\": \"deepbench\",\n",
    "                \"l2\": {\n",
    "                    \"device\": random.randint(5000,9999),\n",
    "                    \"app\": \"deepbench\",\n",
    "                    \"l3\": {\n",
    "                        \"device\": random.randint(5000,9999),\n",
    "                        \"app\": \"deepbench\",\n",
    "                        \"l4\": {\n",
    "                            \"device\": random.randint(5000,9999),\n",
    "                            \"app\": \"deepbench\",\n",
    "                            \"volume_total_bytes\": random.randint(0,9999)\n",
    "                        }\n",
    "                    }\n",
    "                }\n",
    "            }\n",
    "        }\n",
    "        batch.append(el)\n",
    "\n",
    "    return batch"
   ]
  },
  {
   "cell_type": "code",
   "execution_count": 10,
   "id": "2e2202da-43bf-4957-81b9-19eadf75c218",
   "metadata": {
    "jupyter": {
     "source_hidden": true
    }
   },
   "outputs": [],
   "source": [
    "def create_l8(size):\n",
    "    batch = []\n",
    "    for _ in range(size):\n",
    "        el = {\n",
    "            \"l1\":{\n",
    "                \"device\": random.randint(5000,9999),\n",
    "                \"app\": \"deepbench\",\n",
    "                \"l2\": {\n",
    "                    \"device\": random.randint(5000,9999),\n",
    "                    \"app\": \"deepbench\",\n",
    "                    \"l3\": {\n",
    "                        \"device\": random.randint(5000,9999),\n",
    "                        \"app\": \"deepbench\",\n",
    "                        \"l4\": {\n",
    "                            \"device\": random.randint(5000,9999),\n",
    "                            \"app\": \"deepbench\",\n",
    "                            \"l5\": {\n",
    "                                \"device\": random.randint(5000,9999),\n",
    "                                \"app\": \"deepbench\",\n",
    "                                \"l6\": {\n",
    "                                    \"device\": random.randint(5000,9999),\n",
    "                                    \"app\": \"deepbench\",\n",
    "                                    \"l7\": {\n",
    "                                        \"device\": random.randint(5000,9999),\n",
    "                                        \"app\": \"deepbench\",\n",
    "                                        \"l8\": {\n",
    "                                            \"device\": random.randint(5000,9999),\n",
    "                                            \"app\": \"deepbench\",\n",
    "                                            \"volume_total_bytes\": random.randint(0,9999),\n",
    "                                        }\n",
    "                                    }\n",
    "                                }\n",
    "                            }\n",
    "                        }\n",
    "                    }\n",
    "                }\n",
    "            }\n",
    "        }\n",
    "        batch.append(el)\n",
    "\n",
    "    return batch"
   ]
  },
  {
   "cell_type": "code",
   "execution_count": 11,
   "id": "860cde40-2489-444a-8f9f-1a55ae9b7da8",
   "metadata": {
    "jupyter": {
     "source_hidden": true
    }
   },
   "outputs": [],
   "source": [
    "def createIndexes():\n",
    "    obj1.create_index([(\"l1.device\", 1)])\n",
    "    obj2.create_index([(\"l1.l2.device\", 1)])\n",
    "    obj4.create_index([(\"l1.l2.l3.l4.device\", 1)])\n",
    "    obj8.create_index([(\"l1.l2.l3.l4.l5.l6.l7.l8.device\", 1)])"
   ]
  },
  {
   "cell_type": "code",
   "execution_count": 12,
   "id": "5f80e0f4-6ee2-46c3-a08c-84e0589c07ba",
   "metadata": {
    "jupyter": {
     "source_hidden": true
    }
   },
   "outputs": [],
   "source": [
    "def clearIndexes():\n",
    "    obj1.drop_indexes()\n",
    "    obj2.drop_indexes()\n",
    "    obj4.drop_indexes()\n",
    "    obj8.drop_indexes()"
   ]
  },
  {
   "cell_type": "code",
   "execution_count": 13,
   "id": "6a9324c1-091e-48db-8a96-c011433b6911",
   "metadata": {
    "jupyter": {
     "source_hidden": true
    }
   },
   "outputs": [],
   "source": [
    "def showIndexes():\n",
    "    for i in obj1.list_indexes():\n",
    "        if i[\"name\"] != \"_id_\":\n",
    "            print(i)\n",
    "    for a in obj2.list_indexes():\n",
    "        if i[\"name\"] != \"_id_\":\n",
    "            print(a)\n",
    "    for b in obj4.list_indexes():\n",
    "        if i[\"name\"] != \"_id_\":\n",
    "            print(b)\n",
    "    for c in obj8.list_indexes():\n",
    "        if i[\"name\"] != \"_id_\":\n",
    "            print(c)"
   ]
  },
  {
   "cell_type": "code",
   "execution_count": 14,
   "id": "4c991e7d-617b-4758-aeb5-5ed8cd13dfac",
   "metadata": {
    "jupyter": {
     "source_hidden": true
    }
   },
   "outputs": [],
   "source": [
    "def undo_old():\n",
    "    unset_pipe_1 = [\n",
    "        {\"$set\": {\"l1.device\": \"$l1.old_device\"}},\n",
    "        {\"$unset\": \"l1.old_device\"}\n",
    "    ]\n",
    "    unset_pipe_2 = [\n",
    "        {\"$set\": {\"l1.l2.device\": \"$l1.l2.old_device\"}},\n",
    "        {\"$unset\": \"l1.l2.old_device\"},\n",
    "    ]\n",
    "    unset_pipe_4 = [\n",
    "        {\"$set\": {\"l1.l2.l3.l4.device\": \"$l1.l2.l3.l4.old_device\"}},\n",
    "        {\"$unset\": \"l1.l2.l3.l4.old_device\"},\n",
    "    ]\n",
    "    unset_pipe_8 = [\n",
    "        {\"$set\": {\"l1.l2.l3.l4.l5.l6.l7.l8.device\": \"$l1.l2.l3.l4.l5.l6.l7.l8.old_device\"}},\n",
    "        {\"$unset\": \"l1.l2.l3.l4.l5.l6.l7.l8.old_device\"}\n",
    "    ]\n",
    "    \n",
    "    obj1.update_many({\"l1.old_device\": {\"$exists\": True}}, unset_pipe_1)\n",
    "    obj2.update_many({\"l1.l2.old_device\": {\"$exists\": True}}, unset_pipe_2)\n",
    "    obj4.update_many({\"l1.l2.l3.l4.old_device\": {\"$exists\": True}},unset_pipe_4)\n",
    "    obj8.update_many({\"l1.l2.l3.l4.l5.l6.l7.l8.old_device\": {\"$exists\": True}},unset_pipe_8)"
   ]
  },
  {
   "cell_type": "code",
   "execution_count": 15,
   "id": "ed645fac-b237-43b1-9cff-2ebcd00378d6",
   "metadata": {
    "jupyter": {
     "source_hidden": true
    }
   },
   "outputs": [],
   "source": [
    "def insert_mocks():\n",
    "    batch_1 = create_l1(10000)\n",
    "    batch_2 = create_l2(10000)\n",
    "    batch_4 = create_l4(10000)\n",
    "    batch_8 = create_l8(10000)\n",
    "    obj1.insert_many(batch_1)\n",
    "    obj2.insert_many(batch_2)\n",
    "    obj4.insert_many(batch_4)\n",
    "    obj8.insert_many(batch_8)"
   ]
  },
  {
   "cell_type": "code",
   "execution_count": 16,
   "id": "64987029-4a23-45d8-8706-2aa0f71db1be",
   "metadata": {
    "jupyter": {
     "source_hidden": true
    }
   },
   "outputs": [],
   "source": [
    "def delete_mocks():\n",
    "    obj1.delete_many({\"l1.device\": {\"$gte\": 5000}})\n",
    "    obj2.delete_many({\"l1.l2.device\": {\"$gte\": 5000}})\n",
    "    obj4.delete_many({\"l1.l2.l3.l4.device\": {\"$gte\": 5000}})\n",
    "    obj8.delete_many({\"l1.l2.l3.l4.l5.l6.l7.l8.device\": {\"$gte\": 5000}})"
   ]
  },
  {
   "cell_type": "code",
   "execution_count": 17,
   "id": "32ca29a9-27ce-4855-8ba6-7c8307a46d4e",
   "metadata": {
    "jupyter": {
     "source_hidden": true
    }
   },
   "outputs": [],
   "source": [
    "def prepare():\n",
    "    update_pipe_1 = [\n",
    "        {\"$set\": {\"l1.old_device\": \"$l1.device\"}},\n",
    "        {\"$set\": {\"l1.device\": 0}},\n",
    "\n",
    "    ]\n",
    "    update_pipe_2 = [\n",
    "        {\"$set\": {\"l1.l2.old_device\": \"$l1.l2.device\"}},\n",
    "        {\"$set\": {\"l1.l2.device\": 0}},\n",
    "    ]\n",
    "    update_pipe_4 = [\n",
    "        {\"$set\": {\"l1.l2.l3.l4.old_device\": \"$l1.l2.l3.l4.device\"}},\n",
    "        {\"$set\": {\"l1.l2.l3.l4.device\": 0}},\n",
    "    ]\n",
    "    update_pipe_8 = [\n",
    "        {\"$set\": {\"l1.l2.l3.l4.l5.l6.l7.l8.old_device\": \"$l1.l2.l3.l4.l5.l6.l7.l8.device\"}},\n",
    "        {\"$set\": {\"l1.l2.l3.l4.l5.l6.l7.l8.device\": 0}},\n",
    "    ]\n",
    "    obj1.update_many(l1_where_index, update_pipe_1)\n",
    "    obj2.update_many(l2_where_index, update_pipe_2)\n",
    "    obj4.update_many(l4_where_index, update_pipe_4)\n",
    "    obj8.update_many(l8_where_index, update_pipe_8)"
   ]
  },
  {
   "cell_type": "code",
   "execution_count": 18,
   "id": "0d32a29d-ec46-4f56-bdad-6d8beee0fb59",
   "metadata": {
    "jupyter": {
     "source_hidden": true
    }
   },
   "outputs": [],
   "source": [
    "def undo_prepare():\n",
    "    delete_mocks()\n",
    "    undo_old()"
   ]
  },
  {
   "cell_type": "code",
   "execution_count": 19,
   "id": "e5d52fa8-d7b2-4614-9708-42c9a18f6e7a",
   "metadata": {
    "jupyter": {
     "source_hidden": true
    }
   },
   "outputs": [],
   "source": [
    "def create_l1(size):\n",
    "    batch = []\n",
    "    for _ in range(size):\n",
    "        el = {\n",
    "            \"l1\": {\n",
    "                \"device\": random.randint(5000,9999),\n",
    "                \"app\": \"deepbench\",\n",
    "                \"volume_total_bytes\": random.randint(0,9999)\n",
    "            }\n",
    "        }\n",
    "        batch.append(el)\n",
    "\n",
    "    return batch"
   ]
  },
  {
   "cell_type": "code",
   "execution_count": 20,
   "id": "17120efd-42e2-48f1-ac09-2f9180a99592",
   "metadata": {
    "jupyter": {
     "source_hidden": true
    }
   },
   "outputs": [],
   "source": [
    "def create_l2(size):\n",
    "    batch = []\n",
    "    for _ in range(size):\n",
    "        el = {\n",
    "            \"l1\":{\n",
    "                \"device\": random.randint(5000,9999),\n",
    "                \"app\": \"deepbench\",\n",
    "                \"l2\": {\n",
    "                    \"device\": random.randint(5000,9999),\n",
    "                    \"app\": \"deepbench\",\n",
    "                    \"volume_total_bytes\": random.randint(0,9999)\n",
    "                }\n",
    "            }\n",
    "        }\n",
    "        batch.append(el)\n",
    "\n",
    "    return batch"
   ]
  },
  {
   "cell_type": "code",
   "execution_count": 21,
   "id": "6d2d1a87-0f4a-4f25-97fe-a985052e4cc4",
   "metadata": {
    "jupyter": {
     "source_hidden": true
    }
   },
   "outputs": [],
   "source": [
    "def create_l4(size):\n",
    "    batch = []\n",
    "    for _ in range(size):\n",
    "        el = {\n",
    "            \"l1\":{\n",
    "                \"device\": random.randint(5000,9999),\n",
    "                \"app\": \"deepbench\",\n",
    "                \"l2\": {\n",
    "                    \"device\": random.randint(5000,9999),\n",
    "                    \"app\": \"deepbench\",\n",
    "                    \"l3\": {\n",
    "                        \"device\": random.randint(5000,9999),\n",
    "                        \"app\": \"deepbench\",\n",
    "                        \"l4\": {\n",
    "                            \"device\": random.randint(5000,9999),\n",
    "                            \"app\": \"deepbench\",\n",
    "                            \"volume_total_bytes\": random.randint(0,9999)\n",
    "                        }\n",
    "                    }\n",
    "                }\n",
    "            }\n",
    "        }\n",
    "        batch.append(el)\n",
    "\n",
    "    return batch"
   ]
  },
  {
   "cell_type": "code",
   "execution_count": 22,
   "id": "b39c8b44-6eb0-4014-b71f-90ca599c544d",
   "metadata": {
    "jupyter": {
     "source_hidden": true
    }
   },
   "outputs": [],
   "source": [
    "def create_l8(size):\n",
    "    batch = []\n",
    "    for _ in range(size):\n",
    "        el = {\n",
    "            \"l1\":{\n",
    "                \"device\": random.randint(5000,9999),\n",
    "                \"app\": \"deepbench\",\n",
    "                \"l2\": {\n",
    "                    \"device\": random.randint(5000,9999),\n",
    "                    \"app\": \"deepbench\",\n",
    "                    \"l3\": {\n",
    "                        \"device\": random.randint(5000,9999),\n",
    "                        \"app\": \"deepbench\",\n",
    "                        \"l4\": {\n",
    "                            \"device\": random.randint(5000,9999),\n",
    "                            \"app\": \"deepbench\",\n",
    "                            \"l5\": {\n",
    "                                \"device\": random.randint(5000,9999),\n",
    "                                \"app\": \"deepbench\",\n",
    "                                \"l6\": {\n",
    "                                    \"device\": random.randint(5000,9999),\n",
    "                                    \"app\": \"deepbench\",\n",
    "                                    \"l7\": {\n",
    "                                        \"device\": random.randint(5000,9999),\n",
    "                                        \"app\": \"deepbench\",\n",
    "                                        \"l8\": {\n",
    "                                            \"device\": random.randint(5000,9999),\n",
    "                                            \"app\": \"deepbench\",\n",
    "                                            \"volume_total_bytes\": random.randint(0,9999),\n",
    "                                        }\n",
    "                                    }\n",
    "                                }\n",
    "                            }\n",
    "                        }\n",
    "                    }\n",
    "                }\n",
    "            }\n",
    "        }\n",
    "        batch.append(el)\n",
    "\n",
    "    return batch"
   ]
  },
  {
   "cell_type": "code",
   "execution_count": 23,
   "id": "4325446a-e611-4559-a10b-8765d9abb933",
   "metadata": {},
   "outputs": [],
   "source": [
    "def measure_delete(user_id, duration_list, depth):\n",
    "    duration = 0\n",
    "    col = nested_objs[depth]\n",
    "    where = where_list[depth]\n",
    "    num_of_tries = 1\n",
    "    \n",
    "    for _ in range(num_of_tries):\n",
    "        insert_mocks()\n",
    "        start = time.perf_counter()\n",
    "        col.delete_many(where)\n",
    "        end = time.perf_counter()\n",
    "        duration += end - start\n",
    "\n",
    "    duration = (duration/num_of_tries)*1000\n",
    "    duration_list[user_id] = duration"
   ]
  },
  {
   "cell_type": "code",
   "execution_count": 24,
   "id": "5fe9ff08-d275-442c-95f1-cbcc33ec591c",
   "metadata": {},
   "outputs": [],
   "source": [
    "def test_delete(num_of_users, depth):\n",
    "    threads_list = []\n",
    "    duration_list = [None] * num_of_users\n",
    "\n",
    "    for x in range(num_of_users):\n",
    "        t = threading.Thread(target=measure_delete, args=(x, duration_list, depth,))\n",
    "        t.start()\n",
    "        threads_list.append(t)\n",
    "\n",
    "    \n",
    "    for t in threads_list:\n",
    "        t.join()\n",
    "        \n",
    "    result = sum(duration_list) / len(duration_list)\n",
    "    return result    "
   ]
  },
  {
   "cell_type": "code",
   "execution_count": 25,
   "id": "d40173ae-428e-404b-95ef-569c0f52e3e2",
   "metadata": {},
   "outputs": [],
   "source": [
    "def execute_delete():\n",
    "    u_len = len(users_list)\n",
    "    d_len = len(depth_list)\n",
    "    result = [[0 for _ in range(d_len)] for _ in range(u_len)]\n",
    "    \n",
    "    for u in range(u_len):\n",
    "        for d in range(d_len):\n",
    "            result[u][d] = test_delete(users_list[u], depth_list[d])\n",
    "\n",
    "    undo_prepare()\n",
    "    return result"
   ]
  },
  {
   "cell_type": "code",
   "execution_count": 26,
   "id": "0c16caf8-a151-4638-b391-4a14e9127319",
   "metadata": {
    "jupyter": {
     "source_hidden": true
    }
   },
   "outputs": [],
   "source": [
    "def calculate_diffs(old, new):\n",
    "    for u in range(len(users_list)):\n",
    "        print(f\"user {users_list[u]}\")\n",
    "        for d in range(len(depth_list)):\n",
    "            o_val = old[u][d]\n",
    "            n_val = new[u][d]\n",
    "            diff = ((n_val - o_val) / o_val) * 100\n",
    "            print(f\"depth: {depth_list[d]}, {o_val:10.2f} {n_val:10.2f} {diff:10.2f}\")\n",
    "        print(\"--------\")"
   ]
  },
  {
   "cell_type": "code",
   "execution_count": 27,
   "id": "1285d562-2949-404d-aa42-30f3b3d16253",
   "metadata": {},
   "outputs": [],
   "source": [
    "showIndexes()"
   ]
  },
  {
   "cell_type": "code",
   "execution_count": 28,
   "id": "e5f405a5-5786-44b0-bed0-20be8b3a4bd0",
   "metadata": {},
   "outputs": [],
   "source": [
    "prepare()"
   ]
  },
  {
   "cell_type": "code",
   "execution_count": 29,
   "id": "66ec2c1a-2757-4ff4-8d75-b14371388032",
   "metadata": {},
   "outputs": [
    {
     "name": "stdout",
     "output_type": "stream",
     "text": [
      "0\n",
      "0\n",
      "0\n",
      "0\n"
     ]
    }
   ],
   "source": [
    "print(obj1.count_documents(l1_where_index))\n",
    "print(obj2.count_documents(l2_where_index))\n",
    "print(obj4.count_documents(l4_where_index))\n",
    "print(obj8.count_documents(l8_where_index))"
   ]
  },
  {
   "cell_type": "code",
   "execution_count": 31,
   "id": "fbc0f292-bc25-4232-899e-fc94dda97647",
   "metadata": {},
   "outputs": [],
   "source": [
    "no_index = execute_delete()"
   ]
  },
  {
   "cell_type": "code",
   "execution_count": 32,
   "id": "8b26c23b-d189-4d49-a09f-137cd4d9898b",
   "metadata": {},
   "outputs": [],
   "source": [
    "createIndexes()"
   ]
  },
  {
   "cell_type": "code",
   "execution_count": 33,
   "id": "d0e2a036-a497-4dbb-aca3-e4bdde03f443",
   "metadata": {},
   "outputs": [
    {
     "name": "stdout",
     "output_type": "stream",
     "text": [
      "SON([('v', 2), ('key', SON([('l1.device', 1)])), ('name', 'l1.device_1')])\n",
      "SON([('v', 2), ('key', SON([('_id', 1)])), ('name', '_id_')])\n",
      "SON([('v', 2), ('key', SON([('l1.l2.device', 1)])), ('name', 'l1.l2.device_1')])\n",
      "SON([('v', 2), ('key', SON([('_id', 1)])), ('name', '_id_')])\n",
      "SON([('v', 2), ('key', SON([('l1.l2.l3.l4.device', 1)])), ('name', 'l1.l2.l3.l4.device_1')])\n",
      "SON([('v', 2), ('key', SON([('_id', 1)])), ('name', '_id_')])\n",
      "SON([('v', 2), ('key', SON([('l1.l2.l3.l4.l5.l6.l7.l8.device', 1)])), ('name', 'l1.l2.l3.l4.l5.l6.l7.l8.device_1')])\n"
     ]
    }
   ],
   "source": [
    "showIndexes()"
   ]
  },
  {
   "cell_type": "code",
   "execution_count": 34,
   "id": "abea0c0a-3d50-4320-8f2f-ef22300b17df",
   "metadata": {},
   "outputs": [],
   "source": [
    "with_index = execute_delete()"
   ]
  },
  {
   "cell_type": "code",
   "execution_count": 35,
   "id": "4d55c690-43dc-4401-a54f-40223262bc04",
   "metadata": {},
   "outputs": [
    {
     "name": "stdout",
     "output_type": "stream",
     "text": [
      "user 1\n",
      "depth: 0,     126.25     867.89     587.42\n",
      "depth: 1,     204.61     919.65     349.47\n",
      "depth: 2,     280.17    1043.74     272.54\n",
      "depth: 3,     359.43    1174.77     226.84\n",
      "--------\n",
      "user 2\n",
      "depth: 0,     423.01     735.93      73.98\n",
      "depth: 1,     517.97     766.94      48.07\n",
      "depth: 2,     624.74     967.19      54.82\n",
      "depth: 3,     690.49    1217.76      76.36\n",
      "--------\n",
      "user 4\n",
      "depth: 0,    1295.16    1975.69      52.54\n",
      "depth: 1,    1677.21    2551.19      52.11\n",
      "depth: 2,    1766.35    2724.65      54.25\n",
      "depth: 3,    2192.76    3439.34      56.85\n",
      "--------\n"
     ]
    }
   ],
   "source": [
    "calculate_diffs(no_index,with_index)"
   ]
  }
 ],
 "metadata": {
  "kernelspec": {
   "display_name": "Python 3 (ipykernel)",
   "language": "python",
   "name": "python3"
  },
  "language_info": {
   "codemirror_mode": {
    "name": "ipython",
    "version": 3
   },
   "file_extension": ".py",
   "mimetype": "text/x-python",
   "name": "python",
   "nbconvert_exporter": "python",
   "pygments_lexer": "ipython3",
   "version": "3.11.2"
  }
 },
 "nbformat": 4,
 "nbformat_minor": 5
}
